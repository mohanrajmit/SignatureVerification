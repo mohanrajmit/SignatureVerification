{
  "cells": [
    {
      "cell_type": "markdown",
      "metadata": {
        "id": "XNXJy4IvE5Ai"
      },
      "source": [
        "# <u>Detecting Signature Similarity using Tensorflow 2 (By Aadit Kapoor).</u>\n",
        "<p>\n",
        "    My Grandfather was an handwriting expert. His work consisted of anazlying/verifying forged and real signatures. While I agree that we cannot replace that job with an A.I with a 100% accuracy, we certanily build a system capable of aiding human beings.\n",
        "</p>"
      ]
    },
    {
      "cell_type": "code",
      "execution_count": 1,
      "metadata": {
        "id": "1tUe7ZADE5Ak"
      },
      "outputs": [],
      "source": [
        "import numpy as np\n",
        "import pandas as pd\n",
        "import tensorflow as tf\n",
        "from sklearn.metrics import accuracy_score\n",
        "import seaborn as sns\n",
        "from shutil import copy\n",
        "from tensorflow.keras.preprocessing.image import load_img, img_to_array\n",
        "from sklearn.model_selection import train_test_split\n",
        "from skimage.metrics import structural_similarity\n",
        "import matplotlib.pyplot as plt\n",
        "from sklearn.utils import shuffle\n",
        "import random\n",
        "import os\n",
        "\n",
        "np.random.seed(42)\n",
        "\n",
        "DATA_DIR = \"Dataset\""
      ]
    },
    {
      "cell_type": "code",
      "source": [
        "!git clone https://github.com/mohanrajmit/SignatureVerification.git"
      ],
      "metadata": {
        "id": "uWtD8XhtFDBv",
        "outputId": "de449b9c-a8fe-4a38-ac69-8d528cc0c112",
        "colab": {
          "base_uri": "https://localhost:8080/"
        }
      },
      "execution_count": 2,
      "outputs": [
        {
          "output_type": "stream",
          "name": "stdout",
          "text": [
            "Cloning into 'SignatureVerification'...\n",
            "remote: Enumerating objects: 6, done.\u001b[K\n",
            "remote: Counting objects: 100% (3/3), done.\u001b[K\n",
            "remote: Total 6 (delta 0), reused 3 (delta 0), pack-reused 3\u001b[K\n",
            "Unpacking objects: 100% (6/6), done.\n"
          ]
        }
      ]
    },
    {
      "cell_type": "code",
      "source": [
        "!unzip /content/SignatureVerification/Dataset.zip"
      ],
      "metadata": {
        "id": "NEE35UstFIMo",
        "outputId": "4a90f8ea-7d1c-4116-d1e5-9188ca84e2ae",
        "colab": {
          "base_uri": "https://localhost:8080/"
        }
      },
      "execution_count": 3,
      "outputs": [
        {
          "output_type": "stream",
          "name": "stdout",
          "text": [
            "Archive:  /content/SignatureVerification/Dataset.zip\n",
            "   creating: Dataset/dataset1/\n",
            "   creating: Dataset/dataset1/forge/\n",
            "  inflating: Dataset/dataset1/forge/02100001.png  \n",
            "  inflating: Dataset/dataset1/forge/02100002.png  \n",
            "  inflating: Dataset/dataset1/forge/02100003.png  \n",
            "  inflating: Dataset/dataset1/forge/02100004.png  \n",
            "  inflating: Dataset/dataset1/forge/02100005.png  \n",
            "  inflating: Dataset/dataset1/forge/02100006.png  \n",
            "  inflating: Dataset/dataset1/forge/02100007.png  \n",
            "  inflating: Dataset/dataset1/forge/02100008.png  \n",
            "  inflating: Dataset/dataset1/forge/02100009.png  \n",
            "  inflating: Dataset/dataset1/forge/02100010.png  \n",
            "  inflating: Dataset/dataset1/forge/02100011.png  \n",
            "  inflating: Dataset/dataset1/forge/02100012.png  \n",
            "  inflating: Dataset/dataset1/forge/02101001.png  \n",
            "  inflating: Dataset/dataset1/forge/02101002.png  \n",
            "  inflating: Dataset/dataset1/forge/02101003.png  \n",
            "  inflating: Dataset/dataset1/forge/02101004.png  \n",
            "  inflating: Dataset/dataset1/forge/02101005.png  \n",
            "  inflating: Dataset/dataset1/forge/02101006.png  \n",
            "  inflating: Dataset/dataset1/forge/02101007.png  \n",
            "  inflating: Dataset/dataset1/forge/02101008.png  \n",
            "  inflating: Dataset/dataset1/forge/02101009.png  \n",
            "  inflating: Dataset/dataset1/forge/02101010.png  \n",
            "  inflating: Dataset/dataset1/forge/02101011.png  \n",
            "  inflating: Dataset/dataset1/forge/02101012.png  \n",
            "  inflating: Dataset/dataset1/forge/02102001.png  \n",
            "  inflating: Dataset/dataset1/forge/02102002.png  \n",
            "  inflating: Dataset/dataset1/forge/02102003.png  \n",
            "  inflating: Dataset/dataset1/forge/02102004.png  \n",
            "  inflating: Dataset/dataset1/forge/02102005.png  \n",
            "  inflating: Dataset/dataset1/forge/02102006.png  \n",
            "  inflating: Dataset/dataset1/forge/02102007.png  \n",
            "  inflating: Dataset/dataset1/forge/02102008.png  \n",
            "  inflating: Dataset/dataset1/forge/02102009.png  \n",
            "  inflating: Dataset/dataset1/forge/02102010.png  \n",
            "  inflating: Dataset/dataset1/forge/02102011.png  \n",
            "  inflating: Dataset/dataset1/forge/02102012.png  \n",
            "  inflating: Dataset/dataset1/forge/02103001.png  \n",
            "  inflating: Dataset/dataset1/forge/02103002.png  \n",
            "  inflating: Dataset/dataset1/forge/02103003.png  \n",
            "  inflating: Dataset/dataset1/forge/02103004.png  \n",
            "  inflating: Dataset/dataset1/forge/02103005.png  \n",
            "  inflating: Dataset/dataset1/forge/02103006.png  \n",
            "  inflating: Dataset/dataset1/forge/02103007.png  \n",
            "  inflating: Dataset/dataset1/forge/02103008.png  \n",
            "  inflating: Dataset/dataset1/forge/02103009.png  \n",
            "  inflating: Dataset/dataset1/forge/02103010.png  \n",
            "  inflating: Dataset/dataset1/forge/02103011.png  \n",
            "  inflating: Dataset/dataset1/forge/02103012.png  \n",
            "  inflating: Dataset/dataset1/forge/02104001.png  \n",
            "  inflating: Dataset/dataset1/forge/02104002.png  \n",
            "  inflating: Dataset/dataset1/forge/02104003.png  \n",
            "  inflating: Dataset/dataset1/forge/02104004.png  \n",
            "  inflating: Dataset/dataset1/forge/02104005.png  \n",
            "  inflating: Dataset/dataset1/forge/02104006.png  \n",
            "  inflating: Dataset/dataset1/forge/02104007.png  \n",
            "  inflating: Dataset/dataset1/forge/02104008.png  \n",
            "  inflating: Dataset/dataset1/forge/02104009.png  \n",
            "  inflating: Dataset/dataset1/forge/02104010.png  \n",
            "  inflating: Dataset/dataset1/forge/02104011.png  \n",
            "  inflating: Dataset/dataset1/forge/02104012.png  \n",
            "   creating: Dataset/dataset1/real/\n",
            "  inflating: Dataset/dataset1/real/00100001.png  \n",
            "  inflating: Dataset/dataset1/real/00101001.png  \n",
            "  inflating: Dataset/dataset1/real/00102001.png  \n",
            "  inflating: Dataset/dataset1/real/00103001.png  \n",
            "  inflating: Dataset/dataset1/real/00104001.png  \n",
            "  inflating: Dataset/dataset1/real/00200002.png  \n",
            "  inflating: Dataset/dataset1/real/00201002.png  \n",
            "  inflating: Dataset/dataset1/real/00202002.png  \n",
            "  inflating: Dataset/dataset1/real/00203002.png  \n",
            "  inflating: Dataset/dataset1/real/00204002.png  \n",
            "  inflating: Dataset/dataset1/real/00300003.png  \n",
            "  inflating: Dataset/dataset1/real/00301003.png  \n",
            "  inflating: Dataset/dataset1/real/00302003.png  \n",
            "  inflating: Dataset/dataset1/real/00303003.png  \n",
            "  inflating: Dataset/dataset1/real/00304003.png  \n",
            "  inflating: Dataset/dataset1/real/00400004.png  \n",
            "  inflating: Dataset/dataset1/real/00401004.png  \n",
            "  inflating: Dataset/dataset1/real/00402004.png  \n",
            "  inflating: Dataset/dataset1/real/00403004.png  \n",
            "  inflating: Dataset/dataset1/real/00404004.png  \n",
            "  inflating: Dataset/dataset1/real/00500005.png  \n",
            "  inflating: Dataset/dataset1/real/00501005.png  \n",
            "  inflating: Dataset/dataset1/real/00502005.png  \n",
            "  inflating: Dataset/dataset1/real/00503005.png  \n",
            "  inflating: Dataset/dataset1/real/00504005.png  \n",
            "  inflating: Dataset/dataset1/real/00600006.png  \n",
            "  inflating: Dataset/dataset1/real/00601006.png  \n",
            "  inflating: Dataset/dataset1/real/00602006.png  \n",
            "  inflating: Dataset/dataset1/real/00603006.png  \n",
            "  inflating: Dataset/dataset1/real/00604006.png  \n",
            "  inflating: Dataset/dataset1/real/00700007.png  \n",
            "  inflating: Dataset/dataset1/real/00701007.png  \n",
            "  inflating: Dataset/dataset1/real/00702007.png  \n",
            "  inflating: Dataset/dataset1/real/00703007.png  \n",
            "  inflating: Dataset/dataset1/real/00704007.png  \n",
            "  inflating: Dataset/dataset1/real/00800008.png  \n",
            "  inflating: Dataset/dataset1/real/00801008.png  \n",
            "  inflating: Dataset/dataset1/real/00802008.png  \n",
            "  inflating: Dataset/dataset1/real/00803008.png  \n",
            "  inflating: Dataset/dataset1/real/00804008.png  \n",
            "  inflating: Dataset/dataset1/real/00900009.png  \n",
            "  inflating: Dataset/dataset1/real/00901009.png  \n",
            "  inflating: Dataset/dataset1/real/00902009.png  \n",
            "  inflating: Dataset/dataset1/real/00903009.png  \n",
            "  inflating: Dataset/dataset1/real/00904009.png  \n",
            "  inflating: Dataset/dataset1/real/01000010.png  \n",
            "  inflating: Dataset/dataset1/real/01001010.png  \n",
            "  inflating: Dataset/dataset1/real/01002010.png  \n",
            "  inflating: Dataset/dataset1/real/01003010.png  \n",
            "  inflating: Dataset/dataset1/real/01004010.png  \n",
            "  inflating: Dataset/dataset1/real/01100011.png  \n",
            "  inflating: Dataset/dataset1/real/01101011.png  \n",
            "  inflating: Dataset/dataset1/real/01102011.png  \n",
            "  inflating: Dataset/dataset1/real/01103011.png  \n",
            "  inflating: Dataset/dataset1/real/01104011.png  \n",
            "  inflating: Dataset/dataset1/real/01200012.png  \n",
            "  inflating: Dataset/dataset1/real/01201012.png  \n",
            "  inflating: Dataset/dataset1/real/01202012.png  \n",
            "  inflating: Dataset/dataset1/real/01203012.png  \n",
            "  inflating: Dataset/dataset1/real/01204012.png  \n",
            "   creating: Dataset/dataset2/\n",
            "   creating: Dataset/dataset2/forge/\n",
            "  inflating: Dataset/dataset2/forge/02101003.png  \n",
            "  inflating: Dataset/dataset2/forge/02101004.png  \n",
            "  inflating: Dataset/dataset2/forge/02101005.png  \n",
            "  inflating: Dataset/dataset2/forge/02101006.png  \n",
            "  inflating: Dataset/dataset2/forge/02101007.png  \n",
            "  inflating: Dataset/dataset2/forge/02101008.png  \n",
            "  inflating: Dataset/dataset2/forge/02101009.png  \n",
            "  inflating: Dataset/dataset2/forge/02101011.png  \n",
            "  inflating: Dataset/dataset2/forge/02101012.png  \n",
            "  inflating: Dataset/dataset2/forge/02102003.png  \n",
            "  inflating: Dataset/dataset2/forge/02102004.png  \n",
            "  inflating: Dataset/dataset2/forge/02102005.png  \n",
            "  inflating: Dataset/dataset2/forge/02102006.png  \n",
            "  inflating: Dataset/dataset2/forge/02102007.png  \n",
            "  inflating: Dataset/dataset2/forge/02102008.png  \n",
            "  inflating: Dataset/dataset2/forge/02102009.png  \n",
            "  inflating: Dataset/dataset2/forge/02102011.png  \n",
            "  inflating: Dataset/dataset2/forge/02102012.png  \n",
            "  inflating: Dataset/dataset2/forge/02103003.png  \n",
            "  inflating: Dataset/dataset2/forge/02103004.png  \n",
            "  inflating: Dataset/dataset2/forge/02103005.png  \n",
            "  inflating: Dataset/dataset2/forge/02103006.png  \n",
            "  inflating: Dataset/dataset2/forge/02103007.png  \n",
            "  inflating: Dataset/dataset2/forge/02103008.png  \n",
            "  inflating: Dataset/dataset2/forge/02103009.png  \n",
            "  inflating: Dataset/dataset2/forge/02103011.png  \n",
            "  inflating: Dataset/dataset2/forge/02103012.png  \n",
            "  inflating: Dataset/dataset2/forge/02104003.png  \n",
            "  inflating: Dataset/dataset2/forge/02104004.png  \n",
            "  inflating: Dataset/dataset2/forge/02104005.png  \n",
            "  inflating: Dataset/dataset2/forge/02104006.png  \n",
            "  inflating: Dataset/dataset2/forge/02104007.png  \n",
            "  inflating: Dataset/dataset2/forge/02104008.png  \n",
            "  inflating: Dataset/dataset2/forge/02104009.png  \n",
            "  inflating: Dataset/dataset2/forge/02104011.png  \n",
            "  inflating: Dataset/dataset2/forge/02104012.png  \n",
            "  inflating: Dataset/dataset2/forge/02105003.png  \n",
            "  inflating: Dataset/dataset2/forge/02105004.png  \n",
            "  inflating: Dataset/dataset2/forge/02105005.png  \n",
            "  inflating: Dataset/dataset2/forge/02105006.png  \n",
            "  inflating: Dataset/dataset2/forge/02105007.png  \n",
            "  inflating: Dataset/dataset2/forge/02105008.png  \n",
            "  inflating: Dataset/dataset2/forge/02105009.png  \n",
            "  inflating: Dataset/dataset2/forge/02105011.png  \n",
            "  inflating: Dataset/dataset2/forge/02105012.png  \n",
            "  inflating: Dataset/dataset2/forge/02201001.png  \n",
            "  inflating: Dataset/dataset2/forge/02201002.png  \n",
            "  inflating: Dataset/dataset2/forge/02201010.png  \n",
            "  inflating: Dataset/dataset2/forge/02202001.png  \n",
            "  inflating: Dataset/dataset2/forge/02202002.png  \n",
            "  inflating: Dataset/dataset2/forge/02202010.png  \n",
            "  inflating: Dataset/dataset2/forge/02203001.png  \n",
            "  inflating: Dataset/dataset2/forge/02203002.png  \n",
            "  inflating: Dataset/dataset2/forge/02203010.png  \n",
            "  inflating: Dataset/dataset2/forge/02204001.png  \n",
            "  inflating: Dataset/dataset2/forge/02204002.png  \n",
            "  inflating: Dataset/dataset2/forge/02204010.png  \n",
            "  inflating: Dataset/dataset2/forge/02205001.png  \n",
            "  inflating: Dataset/dataset2/forge/02205002.png  \n",
            "  inflating: Dataset/dataset2/forge/02205010.png  \n",
            "   creating: Dataset/dataset2/real/\n",
            "  inflating: Dataset/dataset2/real/00101001.png  \n",
            "  inflating: Dataset/dataset2/real/00102001.png  \n",
            "  inflating: Dataset/dataset2/real/00103001.png  \n",
            "  inflating: Dataset/dataset2/real/00104001.png  \n",
            "  inflating: Dataset/dataset2/real/00105001.png  \n",
            "  inflating: Dataset/dataset2/real/00201002.png  \n",
            "  inflating: Dataset/dataset2/real/00202002.png  \n",
            "  inflating: Dataset/dataset2/real/00203002.png  \n",
            "  inflating: Dataset/dataset2/real/00204002.png  \n",
            "  inflating: Dataset/dataset2/real/00205002.png  \n",
            "  inflating: Dataset/dataset2/real/00301003.png  \n",
            "  inflating: Dataset/dataset2/real/00302003.png  \n",
            "  inflating: Dataset/dataset2/real/00303003.png  \n",
            "  inflating: Dataset/dataset2/real/00304003.png  \n",
            "  inflating: Dataset/dataset2/real/00305003.png  \n",
            "  inflating: Dataset/dataset2/real/00401004.png  \n",
            "  inflating: Dataset/dataset2/real/00402004.png  \n",
            "  inflating: Dataset/dataset2/real/00403004.png  \n",
            "  inflating: Dataset/dataset2/real/00404004.png  \n",
            "  inflating: Dataset/dataset2/real/00405004.png  \n",
            "  inflating: Dataset/dataset2/real/00501005.png  \n",
            "  inflating: Dataset/dataset2/real/00502005.png  \n",
            "  inflating: Dataset/dataset2/real/00503005.png  \n",
            "  inflating: Dataset/dataset2/real/00504005.png  \n",
            "  inflating: Dataset/dataset2/real/00505005.png  \n",
            "  inflating: Dataset/dataset2/real/00601006.png  \n",
            "  inflating: Dataset/dataset2/real/00602006.png  \n",
            "  inflating: Dataset/dataset2/real/00603006.png  \n",
            "  inflating: Dataset/dataset2/real/00604006.png  \n",
            "  inflating: Dataset/dataset2/real/00605006.png  \n",
            "  inflating: Dataset/dataset2/real/00701007.png  \n",
            "  inflating: Dataset/dataset2/real/00702007.png  \n",
            "  inflating: Dataset/dataset2/real/00703007.png  \n",
            "  inflating: Dataset/dataset2/real/00704007.png  \n",
            "  inflating: Dataset/dataset2/real/00705007.png  \n",
            "  inflating: Dataset/dataset2/real/00801008.png  \n",
            "  inflating: Dataset/dataset2/real/00802008.png  \n",
            "  inflating: Dataset/dataset2/real/00803008.png  \n",
            "  inflating: Dataset/dataset2/real/00804008.png  \n",
            "  inflating: Dataset/dataset2/real/00805008.png  \n",
            "  inflating: Dataset/dataset2/real/00901009.png  \n",
            "  inflating: Dataset/dataset2/real/00902009.png  \n",
            "  inflating: Dataset/dataset2/real/00903009.png  \n",
            "  inflating: Dataset/dataset2/real/00904009.png  \n",
            "  inflating: Dataset/dataset2/real/00905009.png  \n",
            "  inflating: Dataset/dataset2/real/01001010.png  \n",
            "  inflating: Dataset/dataset2/real/01002010.png  \n",
            "  inflating: Dataset/dataset2/real/01003010.png  \n",
            "  inflating: Dataset/dataset2/real/01004010.png  \n",
            "  inflating: Dataset/dataset2/real/01005010.png  \n",
            "  inflating: Dataset/dataset2/real/01101011.png  \n",
            "  inflating: Dataset/dataset2/real/01102011.png  \n",
            "  inflating: Dataset/dataset2/real/01103011.png  \n",
            "  inflating: Dataset/dataset2/real/01104011.png  \n",
            "  inflating: Dataset/dataset2/real/01105011.png  \n",
            "  inflating: Dataset/dataset2/real/01201012.png  \n",
            "  inflating: Dataset/dataset2/real/01202012.png  \n",
            "  inflating: Dataset/dataset2/real/01203012.png  \n",
            "  inflating: Dataset/dataset2/real/01204012.png  \n",
            "  inflating: Dataset/dataset2/real/01205012.png  \n",
            "   creating: Dataset/dataset3/\n",
            "   creating: Dataset/dataset3/forge/\n",
            "  inflating: Dataset/dataset3/forge/00101014.png  \n",
            "  inflating: Dataset/dataset3/forge/00101019.png  \n",
            "  inflating: Dataset/dataset3/forge/00101025.png  \n",
            "  inflating: Dataset/dataset3/forge/00101026.png  \n",
            "  inflating: Dataset/dataset3/forge/00101027.png  \n",
            "  inflating: Dataset/dataset3/forge/00101028.png  \n",
            "  inflating: Dataset/dataset3/forge/00101029.png  \n",
            "  inflating: Dataset/dataset3/forge/00101030.png  \n",
            "  inflating: Dataset/dataset3/forge/00102014.png  \n",
            "  inflating: Dataset/dataset3/forge/00102019.png  \n",
            "  inflating: Dataset/dataset3/forge/00102025.png  \n",
            "  inflating: Dataset/dataset3/forge/00102026.png  \n",
            "  inflating: Dataset/dataset3/forge/00102027.png  \n",
            "  inflating: Dataset/dataset3/forge/00102028.png  \n",
            "  inflating: Dataset/dataset3/forge/00102029.png  \n",
            "  inflating: Dataset/dataset3/forge/00102030.png  \n",
            "  inflating: Dataset/dataset3/forge/00103014.png  \n",
            "  inflating: Dataset/dataset3/forge/00103019.png  \n",
            "  inflating: Dataset/dataset3/forge/00103025.png  \n",
            "  inflating: Dataset/dataset3/forge/00103026.png  \n",
            "  inflating: Dataset/dataset3/forge/00103027.png  \n",
            "  inflating: Dataset/dataset3/forge/00103028.png  \n",
            "  inflating: Dataset/dataset3/forge/00103029.png  \n",
            "  inflating: Dataset/dataset3/forge/00103030.png  \n",
            "  inflating: Dataset/dataset3/forge/00104014.png  \n",
            "  inflating: Dataset/dataset3/forge/00104019.png  \n",
            "  inflating: Dataset/dataset3/forge/00104025.png  \n",
            "  inflating: Dataset/dataset3/forge/00104026.png  \n",
            "  inflating: Dataset/dataset3/forge/00104027.png  \n",
            "  inflating: Dataset/dataset3/forge/00104028.png  \n",
            "  inflating: Dataset/dataset3/forge/00104029.png  \n",
            "  inflating: Dataset/dataset3/forge/00104030.png  \n",
            "  inflating: Dataset/dataset3/forge/00105014.png  \n",
            "  inflating: Dataset/dataset3/forge/00105019.png  \n",
            "  inflating: Dataset/dataset3/forge/00105025.png  \n",
            "  inflating: Dataset/dataset3/forge/00105026.png  \n",
            "  inflating: Dataset/dataset3/forge/00105027.png  \n",
            "  inflating: Dataset/dataset3/forge/00105028.png  \n",
            "  inflating: Dataset/dataset3/forge/00105029.png  \n",
            "  inflating: Dataset/dataset3/forge/00105030.png  \n",
            "  inflating: Dataset/dataset3/forge/00301001.png  \n",
            "  inflating: Dataset/dataset3/forge/00301002.png  \n",
            "  inflating: Dataset/dataset3/forge/00301005.png  \n",
            "  inflating: Dataset/dataset3/forge/00301009.png  \n",
            "  inflating: Dataset/dataset3/forge/00301018.png  \n",
            "  inflating: Dataset/dataset3/forge/00302001.png  \n",
            "  inflating: Dataset/dataset3/forge/00302002.png  \n",
            "  inflating: Dataset/dataset3/forge/00302005.png  \n",
            "  inflating: Dataset/dataset3/forge/00302009.png  \n",
            "  inflating: Dataset/dataset3/forge/00302018.png  \n",
            "  inflating: Dataset/dataset3/forge/00303001.png  \n",
            "  inflating: Dataset/dataset3/forge/00303002.png  \n",
            "  inflating: Dataset/dataset3/forge/00303005.png  \n",
            "  inflating: Dataset/dataset3/forge/00303009.png  \n",
            "  inflating: Dataset/dataset3/forge/00303018.png  \n",
            "  inflating: Dataset/dataset3/forge/00304001.png  \n",
            "  inflating: Dataset/dataset3/forge/00304002.png  \n",
            "  inflating: Dataset/dataset3/forge/00304005.png  \n",
            "  inflating: Dataset/dataset3/forge/00304009.png  \n",
            "  inflating: Dataset/dataset3/forge/00304018.png  \n",
            "  inflating: Dataset/dataset3/forge/00305001.png  \n",
            "  inflating: Dataset/dataset3/forge/00305002.png  \n",
            "  inflating: Dataset/dataset3/forge/00305005.png  \n",
            "  inflating: Dataset/dataset3/forge/00305009.png  \n",
            "  inflating: Dataset/dataset3/forge/00305018.png  \n",
            "  inflating: Dataset/dataset3/forge/00401003.png  \n",
            "  inflating: Dataset/dataset3/forge/00401007.png  \n",
            "  inflating: Dataset/dataset3/forge/00401013.png  \n",
            "  inflating: Dataset/dataset3/forge/00401024.png  \n",
            "  inflating: Dataset/dataset3/forge/00402003.png  \n",
            "  inflating: Dataset/dataset3/forge/00402007.png  \n",
            "  inflating: Dataset/dataset3/forge/00402013.png  \n",
            "  inflating: Dataset/dataset3/forge/00402024.png  \n",
            "  inflating: Dataset/dataset3/forge/00403003.png  \n",
            "  inflating: Dataset/dataset3/forge/00403007.png  \n",
            "  inflating: Dataset/dataset3/forge/00403013.png  \n",
            "  inflating: Dataset/dataset3/forge/00403024.png  \n",
            "  inflating: Dataset/dataset3/forge/00404003.png  \n",
            "  inflating: Dataset/dataset3/forge/00404007.png  \n",
            "  inflating: Dataset/dataset3/forge/00404013.png  \n",
            "  inflating: Dataset/dataset3/forge/00404024.png  \n",
            "  inflating: Dataset/dataset3/forge/00405003.png  \n",
            "  inflating: Dataset/dataset3/forge/00405007.png  \n",
            "  inflating: Dataset/dataset3/forge/00405013.png  \n",
            "  inflating: Dataset/dataset3/forge/00405024.png  \n",
            "  inflating: Dataset/dataset3/forge/00501015.png  \n",
            "  inflating: Dataset/dataset3/forge/00501022.png  \n",
            "  inflating: Dataset/dataset3/forge/00502015.png  \n",
            "  inflating: Dataset/dataset3/forge/00502022.png  \n",
            "  inflating: Dataset/dataset3/forge/00503015.png  \n",
            "  inflating: Dataset/dataset3/forge/00503022.png  \n",
            "  inflating: Dataset/dataset3/forge/00504015.png  \n",
            "  inflating: Dataset/dataset3/forge/00504022.png  \n",
            "  inflating: Dataset/dataset3/forge/00505015.png  \n",
            "  inflating: Dataset/dataset3/forge/00505022.png  \n",
            "  inflating: Dataset/dataset3/forge/00701011.png  \n",
            "  inflating: Dataset/dataset3/forge/00701023.png  \n",
            "  inflating: Dataset/dataset3/forge/00702011.png  \n",
            "  inflating: Dataset/dataset3/forge/00702023.png  \n",
            "  inflating: Dataset/dataset3/forge/00703011.png  \n",
            "  inflating: Dataset/dataset3/forge/00703023.png  \n",
            "  inflating: Dataset/dataset3/forge/00704011.png  \n",
            "  inflating: Dataset/dataset3/forge/00704023.png  \n",
            "  inflating: Dataset/dataset3/forge/00705011.png  \n",
            "  inflating: Dataset/dataset3/forge/00705023.png  \n",
            "  inflating: Dataset/dataset3/forge/01101012.png  \n",
            "  inflating: Dataset/dataset3/forge/01101016.png  \n",
            "  inflating: Dataset/dataset3/forge/01102012.png  \n",
            "  inflating: Dataset/dataset3/forge/01102016.png  \n",
            "  inflating: Dataset/dataset3/forge/01103012.png  \n",
            "  inflating: Dataset/dataset3/forge/01103016.png  \n",
            "  inflating: Dataset/dataset3/forge/01104012.png  \n",
            "  inflating: Dataset/dataset3/forge/01104016.png  \n",
            "  inflating: Dataset/dataset3/forge/01105012.png  \n",
            "  inflating: Dataset/dataset3/forge/01105016.png  \n",
            "  inflating: Dataset/dataset3/forge/01201021.png  \n",
            "  inflating: Dataset/dataset3/forge/01202021.png  \n",
            "  inflating: Dataset/dataset3/forge/01203021.png  \n",
            "  inflating: Dataset/dataset3/forge/01204021.png  \n",
            "  inflating: Dataset/dataset3/forge/01205021.png  \n",
            "  inflating: Dataset/dataset3/forge/01301017.png  \n",
            "  inflating: Dataset/dataset3/forge/01302017.png  \n",
            "  inflating: Dataset/dataset3/forge/01303017.png  \n",
            "  inflating: Dataset/dataset3/forge/01304017.png  \n",
            "  inflating: Dataset/dataset3/forge/01305017.png  \n",
            "  inflating: Dataset/dataset3/forge/01701020.png  \n",
            "  inflating: Dataset/dataset3/forge/01702020.png  \n",
            "  inflating: Dataset/dataset3/forge/01703020.png  \n",
            "  inflating: Dataset/dataset3/forge/01704020.png  \n",
            "  inflating: Dataset/dataset3/forge/01705020.png  \n",
            "  inflating: Dataset/dataset3/forge/02301008.png  \n",
            "  inflating: Dataset/dataset3/forge/02303008.png  \n",
            "  inflating: Dataset/dataset3/forge/02304008.png  \n",
            "  inflating: Dataset/dataset3/forge/02305008.png  \n",
            "  inflating: Dataset/dataset3/forge/02306008.png  \n",
            "  inflating: Dataset/dataset3/forge/02501010.png  \n",
            "  inflating: Dataset/dataset3/forge/02502010.png  \n",
            "  inflating: Dataset/dataset3/forge/02503010.png  \n",
            "  inflating: Dataset/dataset3/forge/02504010.png  \n",
            "  inflating: Dataset/dataset3/forge/02505009.png  \n",
            "  inflating: Dataset/dataset3/forge/03301006.png  \n",
            "  inflating: Dataset/dataset3/forge/03302006.png  \n",
            "  inflating: Dataset/dataset3/forge/03303006.png  \n",
            "  inflating: Dataset/dataset3/forge/03304006.png  \n",
            "  inflating: Dataset/dataset3/forge/03305006.png  \n",
            "  inflating: Dataset/dataset3/forge/08801004.png  \n",
            "  inflating: Dataset/dataset3/forge/08802004.png  \n",
            "  inflating: Dataset/dataset3/forge/08803004.png  \n",
            "  inflating: Dataset/dataset3/forge/08804004.png  \n",
            "  inflating: Dataset/dataset3/forge/08805004.png  \n",
            "   creating: Dataset/dataset3/real/\n",
            "  inflating: Dataset/dataset3/real/00101001.png  \n",
            "  inflating: Dataset/dataset3/real/00102001.png  \n",
            "  inflating: Dataset/dataset3/real/00103001.png  \n",
            "  inflating: Dataset/dataset3/real/00104001.png  \n",
            "  inflating: Dataset/dataset3/real/00105001.png  \n",
            "  inflating: Dataset/dataset3/real/00201002.png  \n",
            "  inflating: Dataset/dataset3/real/00202002.png  \n",
            "  inflating: Dataset/dataset3/real/00203002.png  \n",
            "  inflating: Dataset/dataset3/real/00204002.png  \n",
            "  inflating: Dataset/dataset3/real/00205002.png  \n",
            "  inflating: Dataset/dataset3/real/00301003.png  \n",
            "  inflating: Dataset/dataset3/real/00302003.png  \n",
            "  inflating: Dataset/dataset3/real/00303003.png  \n",
            "  inflating: Dataset/dataset3/real/00304003.png  \n",
            "  inflating: Dataset/dataset3/real/00305003.png  \n",
            "  inflating: Dataset/dataset3/real/00401004.png  \n",
            "  inflating: Dataset/dataset3/real/00402004.png  \n",
            "  inflating: Dataset/dataset3/real/00403004.png  \n",
            "  inflating: Dataset/dataset3/real/00404004.png  \n",
            "  inflating: Dataset/dataset3/real/00405004.png  \n",
            "  inflating: Dataset/dataset3/real/00501005.png  \n",
            "  inflating: Dataset/dataset3/real/00502005.png  \n",
            "  inflating: Dataset/dataset3/real/00503005.png  \n",
            "  inflating: Dataset/dataset3/real/00504005.png  \n",
            "  inflating: Dataset/dataset3/real/00505005.png  \n",
            "  inflating: Dataset/dataset3/real/00601006.png  \n",
            "  inflating: Dataset/dataset3/real/00602006.png  \n",
            "  inflating: Dataset/dataset3/real/00603006.png  \n",
            "  inflating: Dataset/dataset3/real/00604006.png  \n",
            "  inflating: Dataset/dataset3/real/00605006.png  \n",
            "  inflating: Dataset/dataset3/real/00701007.png  \n",
            "  inflating: Dataset/dataset3/real/00702007.png  \n",
            "  inflating: Dataset/dataset3/real/00703007.png  \n",
            "  inflating: Dataset/dataset3/real/00704007.png  \n",
            "  inflating: Dataset/dataset3/real/00705007.png  \n",
            "  inflating: Dataset/dataset3/real/00801008.png  \n",
            "  inflating: Dataset/dataset3/real/00802008.png  \n",
            "  inflating: Dataset/dataset3/real/00803008.png  \n",
            "  inflating: Dataset/dataset3/real/00804008.png  \n",
            "  inflating: Dataset/dataset3/real/00805008.png  \n",
            "  inflating: Dataset/dataset3/real/00901009.png  \n",
            "  inflating: Dataset/dataset3/real/00902009.png  \n",
            "  inflating: Dataset/dataset3/real/00903009.png  \n",
            "  inflating: Dataset/dataset3/real/00904009.png  \n",
            "  inflating: Dataset/dataset3/real/00905009.png  \n",
            "  inflating: Dataset/dataset3/real/01001010.png  \n",
            "  inflating: Dataset/dataset3/real/01002010.png  \n",
            "  inflating: Dataset/dataset3/real/01003010.png  \n",
            "  inflating: Dataset/dataset3/real/01004010.png  \n",
            "  inflating: Dataset/dataset3/real/01005010.png  \n",
            "  inflating: Dataset/dataset3/real/01101011.png  \n",
            "  inflating: Dataset/dataset3/real/01102011.png  \n",
            "  inflating: Dataset/dataset3/real/01103011.png  \n",
            "  inflating: Dataset/dataset3/real/01104011.png  \n",
            "  inflating: Dataset/dataset3/real/01105011.png  \n",
            "  inflating: Dataset/dataset3/real/01201012.png  \n",
            "  inflating: Dataset/dataset3/real/01202012.png  \n",
            "  inflating: Dataset/dataset3/real/01203012.png  \n",
            "  inflating: Dataset/dataset3/real/01204012.png  \n",
            "  inflating: Dataset/dataset3/real/01205012.png  \n",
            "  inflating: Dataset/dataset3/real/01301013.png  \n",
            "  inflating: Dataset/dataset3/real/01302013.png  \n",
            "  inflating: Dataset/dataset3/real/01303013.png  \n",
            "  inflating: Dataset/dataset3/real/01304013.png  \n",
            "  inflating: Dataset/dataset3/real/01305013.png  \n",
            "  inflating: Dataset/dataset3/real/01401014.png  \n",
            "  inflating: Dataset/dataset3/real/01402014.png  \n",
            "  inflating: Dataset/dataset3/real/01403014.png  \n",
            "  inflating: Dataset/dataset3/real/01404014.png  \n",
            "  inflating: Dataset/dataset3/real/01405014.png  \n",
            "  inflating: Dataset/dataset3/real/01501015.png  \n",
            "  inflating: Dataset/dataset3/real/01502015.png  \n",
            "  inflating: Dataset/dataset3/real/01503015.png  \n",
            "  inflating: Dataset/dataset3/real/01504015.png  \n",
            "  inflating: Dataset/dataset3/real/01505015.png  \n",
            "  inflating: Dataset/dataset3/real/01601016.png  \n",
            "  inflating: Dataset/dataset3/real/01602016.png  \n",
            "  inflating: Dataset/dataset3/real/01603016.png  \n",
            "  inflating: Dataset/dataset3/real/01604016.png  \n",
            "  inflating: Dataset/dataset3/real/01605016.png  \n",
            "  inflating: Dataset/dataset3/real/01701017.png  \n",
            "  inflating: Dataset/dataset3/real/01702017.png  \n",
            "  inflating: Dataset/dataset3/real/01703017.png  \n",
            "  inflating: Dataset/dataset3/real/01704017.png  \n",
            "  inflating: Dataset/dataset3/real/01705017.png  \n",
            "  inflating: Dataset/dataset3/real/01801018.png  \n",
            "  inflating: Dataset/dataset3/real/01802018.png  \n",
            "  inflating: Dataset/dataset3/real/01803018.png  \n",
            "  inflating: Dataset/dataset3/real/01804018.png  \n",
            "  inflating: Dataset/dataset3/real/01805018.png  \n",
            "  inflating: Dataset/dataset3/real/01901019.png  \n",
            "  inflating: Dataset/dataset3/real/01902019.png  \n",
            "  inflating: Dataset/dataset3/real/01903019.png  \n",
            "  inflating: Dataset/dataset3/real/01904019.png  \n",
            "  inflating: Dataset/dataset3/real/01905019.png  \n",
            "  inflating: Dataset/dataset3/real/02001020.png  \n",
            "  inflating: Dataset/dataset3/real/02002020.png  \n",
            "  inflating: Dataset/dataset3/real/02003020.png  \n",
            "  inflating: Dataset/dataset3/real/02004020.png  \n",
            "  inflating: Dataset/dataset3/real/02005020.png  \n",
            "  inflating: Dataset/dataset3/real/02101021.png  \n",
            "  inflating: Dataset/dataset3/real/02102021.png  \n",
            "  inflating: Dataset/dataset3/real/02103021.png  \n",
            "  inflating: Dataset/dataset3/real/02104021.png  \n",
            "  inflating: Dataset/dataset3/real/02105021.png  \n",
            "  inflating: Dataset/dataset3/real/02201022.png  \n",
            "  inflating: Dataset/dataset3/real/02202022.png  \n",
            "  inflating: Dataset/dataset3/real/02203022.png  \n",
            "  inflating: Dataset/dataset3/real/02204022.png  \n",
            "  inflating: Dataset/dataset3/real/02205022.png  \n",
            "  inflating: Dataset/dataset3/real/02301023.png  \n",
            "  inflating: Dataset/dataset3/real/02302023.png  \n",
            "  inflating: Dataset/dataset3/real/02303023.png  \n",
            "  inflating: Dataset/dataset3/real/02304023.png  \n",
            "  inflating: Dataset/dataset3/real/02305023.png  \n",
            "  inflating: Dataset/dataset3/real/02401024.png  \n",
            "  inflating: Dataset/dataset3/real/02402024.png  \n",
            "  inflating: Dataset/dataset3/real/02403024.png  \n",
            "  inflating: Dataset/dataset3/real/02404024.png  \n",
            "  inflating: Dataset/dataset3/real/02405024.png  \n",
            "  inflating: Dataset/dataset3/real/02501025.png  \n",
            "  inflating: Dataset/dataset3/real/02502025.png  \n",
            "  inflating: Dataset/dataset3/real/02503025.png  \n",
            "  inflating: Dataset/dataset3/real/02504025.png  \n",
            "  inflating: Dataset/dataset3/real/02505025.png  \n",
            "  inflating: Dataset/dataset3/real/02601026.png  \n",
            "  inflating: Dataset/dataset3/real/02602026.png  \n",
            "  inflating: Dataset/dataset3/real/02603026.png  \n",
            "  inflating: Dataset/dataset3/real/02604026.png  \n",
            "  inflating: Dataset/dataset3/real/02605026.png  \n",
            "  inflating: Dataset/dataset3/real/02701027.png  \n",
            "  inflating: Dataset/dataset3/real/02702027.png  \n",
            "  inflating: Dataset/dataset3/real/02703027.png  \n",
            "  inflating: Dataset/dataset3/real/02704027.png  \n",
            "  inflating: Dataset/dataset3/real/02705027.png  \n",
            "  inflating: Dataset/dataset3/real/02801028.png  \n",
            "  inflating: Dataset/dataset3/real/02802028.png  \n",
            "  inflating: Dataset/dataset3/real/02803028.png  \n",
            "  inflating: Dataset/dataset3/real/02804028.png  \n",
            "  inflating: Dataset/dataset3/real/02805028.png  \n",
            "  inflating: Dataset/dataset3/real/02901029.png  \n",
            "  inflating: Dataset/dataset3/real/02902029.png  \n",
            "  inflating: Dataset/dataset3/real/02903029.png  \n",
            "  inflating: Dataset/dataset3/real/02904029.png  \n",
            "  inflating: Dataset/dataset3/real/02905029.png  \n",
            "  inflating: Dataset/dataset3/real/03001030.png  \n",
            "  inflating: Dataset/dataset3/real/03002030.png  \n",
            "  inflating: Dataset/dataset3/real/03003030.png  \n",
            "  inflating: Dataset/dataset3/real/03004030.png  \n",
            "  inflating: Dataset/dataset3/real/03005030.png  \n",
            "   creating: Dataset/dataset4/\n",
            "   creating: Dataset/dataset4/forge/\n",
            "  inflating: Dataset/dataset4/forge/00301002.png  \n",
            "  inflating: Dataset/dataset4/forge/00301035.png  \n",
            "  inflating: Dataset/dataset4/forge/00301046.png  \n",
            "  inflating: Dataset/dataset4/forge/00302002.png  \n",
            "  inflating: Dataset/dataset4/forge/00302035.png  \n",
            "  inflating: Dataset/dataset4/forge/00302046.png  \n",
            "  inflating: Dataset/dataset4/forge/00303002.png  \n",
            "  inflating: Dataset/dataset4/forge/00303035.png  \n",
            "  inflating: Dataset/dataset4/forge/00303046.png  \n",
            "  inflating: Dataset/dataset4/forge/00304002.png  \n",
            "  inflating: Dataset/dataset4/forge/00304035.png  \n",
            "  inflating: Dataset/dataset4/forge/00304046.png  \n",
            "  inflating: Dataset/dataset4/forge/00305002.png  \n",
            "  inflating: Dataset/dataset4/forge/00305035.png  \n",
            "  inflating: Dataset/dataset4/forge/00305046.png  \n",
            "  inflating: Dataset/dataset4/forge/00401024.png  \n",
            "  inflating: Dataset/dataset4/forge/00401044.png  \n",
            "  inflating: Dataset/dataset4/forge/00401063.png  \n",
            "  inflating: Dataset/dataset4/forge/00401092.png  \n",
            "  inflating: Dataset/dataset4/forge/00402024.png  \n",
            "  inflating: Dataset/dataset4/forge/00402044.png  \n",
            "  inflating: Dataset/dataset4/forge/00402063.png  \n",
            "  inflating: Dataset/dataset4/forge/00402092.png  \n",
            "  inflating: Dataset/dataset4/forge/00403024.png  \n",
            "  inflating: Dataset/dataset4/forge/00403044.png  \n",
            "  inflating: Dataset/dataset4/forge/00403063.png  \n",
            "  inflating: Dataset/dataset4/forge/00403092.png  \n",
            "  inflating: Dataset/dataset4/forge/00404024.png  \n",
            "  inflating: Dataset/dataset4/forge/00404044.png  \n",
            "  inflating: Dataset/dataset4/forge/00404063.png  \n",
            "  inflating: Dataset/dataset4/forge/00404092.png  \n",
            "  inflating: Dataset/dataset4/forge/00405024.png  \n",
            "  inflating: Dataset/dataset4/forge/00405044.png  \n",
            "  inflating: Dataset/dataset4/forge/00405063.png  \n",
            "  inflating: Dataset/dataset4/forge/00405092.png  \n",
            "  inflating: Dataset/dataset4/forge/01601077.png  \n",
            "  inflating: Dataset/dataset4/forge/01601089.png  \n",
            "  inflating: Dataset/dataset4/forge/01602033.png  \n",
            "  inflating: Dataset/dataset4/forge/01602077.png  \n",
            "  inflating: Dataset/dataset4/forge/01602089.png  \n",
            "  inflating: Dataset/dataset4/forge/01603033.png  \n",
            "  inflating: Dataset/dataset4/forge/01603077.png  \n",
            "  inflating: Dataset/dataset4/forge/01603089.png  \n",
            "  inflating: Dataset/dataset4/forge/01604033.png  \n",
            "  inflating: Dataset/dataset4/forge/01604077.png  \n",
            "  inflating: Dataset/dataset4/forge/01604089.png  \n",
            "  inflating: Dataset/dataset4/forge/01605033.png  \n",
            "  inflating: Dataset/dataset4/forge/01605077.png  \n",
            "  inflating: Dataset/dataset4/forge/01605089.png  \n",
            "  inflating: Dataset/dataset4/forge/01701033.png  \n",
            "  inflating: Dataset/dataset4/forge/02301008.png  \n",
            "  inflating: Dataset/dataset4/forge/02301070.png  \n",
            "  inflating: Dataset/dataset4/forge/02301093.png  \n",
            "  inflating: Dataset/dataset4/forge/02302008.png  \n",
            "  inflating: Dataset/dataset4/forge/02302070.png  \n",
            "  inflating: Dataset/dataset4/forge/02302093.png  \n",
            "  inflating: Dataset/dataset4/forge/02303008.png  \n",
            "  inflating: Dataset/dataset4/forge/02303070.png  \n",
            "  inflating: Dataset/dataset4/forge/02303093.png  \n",
            "  inflating: Dataset/dataset4/forge/02304008.png  \n",
            "  inflating: Dataset/dataset4/forge/02304070.png  \n",
            "  inflating: Dataset/dataset4/forge/02304093.png  \n",
            "  inflating: Dataset/dataset4/forge/02305008.png  \n",
            "  inflating: Dataset/dataset4/forge/02305070.png  \n",
            "  inflating: Dataset/dataset4/forge/02305093.png  \n",
            "  inflating: Dataset/dataset4/forge/03201084.png  \n",
            "  inflating: Dataset/dataset4/forge/03201085.png  \n",
            "  inflating: Dataset/dataset4/forge/03201086.png  \n",
            "  inflating: Dataset/dataset4/forge/03202084.png  \n",
            "  inflating: Dataset/dataset4/forge/03202085.png  \n",
            "  inflating: Dataset/dataset4/forge/03202086.png  \n",
            "  inflating: Dataset/dataset4/forge/03203084.png  \n",
            "  inflating: Dataset/dataset4/forge/03203085.png  \n",
            "  inflating: Dataset/dataset4/forge/03203086.png  \n",
            "  inflating: Dataset/dataset4/forge/03204084.png  \n",
            "  inflating: Dataset/dataset4/forge/03204085.png  \n",
            "  inflating: Dataset/dataset4/forge/03204086.png  \n",
            "  inflating: Dataset/dataset4/forge/03205084.png  \n",
            "  inflating: Dataset/dataset4/forge/03205085.png  \n",
            "  inflating: Dataset/dataset4/forge/03205086.png  \n",
            "  inflating: Dataset/dataset4/forge/06101016.png  \n",
            "  inflating: Dataset/dataset4/forge/06101071.png  \n",
            "  inflating: Dataset/dataset4/forge/06102016.png  \n",
            "  inflating: Dataset/dataset4/forge/06102071.png  \n",
            "  inflating: Dataset/dataset4/forge/06103016.png  \n",
            "  inflating: Dataset/dataset4/forge/06103071.png  \n",
            "  inflating: Dataset/dataset4/forge/06104016.png  \n",
            "  inflating: Dataset/dataset4/forge/06104071.png  \n",
            "  inflating: Dataset/dataset4/forge/06105016.png  \n",
            "  inflating: Dataset/dataset4/forge/06105071.png  \n",
            "   creating: Dataset/dataset4/real1/\n",
            "  inflating: Dataset/dataset4/real1/00201002.png  \n",
            "  inflating: Dataset/dataset4/real1/00202002.png  \n",
            "  inflating: Dataset/dataset4/real1/00203002.png  \n",
            "  inflating: Dataset/dataset4/real1/00204002.png  \n",
            "  inflating: Dataset/dataset4/real1/00205002.png  \n",
            "  inflating: Dataset/dataset4/real1/00801008.png  \n",
            "  inflating: Dataset/dataset4/real1/00802008.png  \n",
            "  inflating: Dataset/dataset4/real1/00803008.png  \n",
            "  inflating: Dataset/dataset4/real1/00804008.png  \n",
            "  inflating: Dataset/dataset4/real1/00805008.png  \n",
            "  inflating: Dataset/dataset4/real1/01601016.png  \n",
            "  inflating: Dataset/dataset4/real1/01602016.png  \n",
            "  inflating: Dataset/dataset4/real1/01603016.png  \n",
            "  inflating: Dataset/dataset4/real1/01604016.png  \n",
            "  inflating: Dataset/dataset4/real1/01605016.png  \n",
            "  inflating: Dataset/dataset4/real1/02401024.png  \n",
            "  inflating: Dataset/dataset4/real1/02402024.png  \n",
            "  inflating: Dataset/dataset4/real1/02403024.png  \n",
            "  inflating: Dataset/dataset4/real1/02404024.png  \n",
            "  inflating: Dataset/dataset4/real1/02405024.png  \n",
            "  inflating: Dataset/dataset4/real1/03301033.png  \n",
            "  inflating: Dataset/dataset4/real1/03302033.png  \n",
            "  inflating: Dataset/dataset4/real1/03303033.png  \n",
            "  inflating: Dataset/dataset4/real1/03304033.png  \n",
            "  inflating: Dataset/dataset4/real1/03305033.png  \n",
            "  inflating: Dataset/dataset4/real1/03501035.png  \n",
            "  inflating: Dataset/dataset4/real1/03502035.png  \n",
            "  inflating: Dataset/dataset4/real1/03503035.png  \n",
            "  inflating: Dataset/dataset4/real1/03504035.png  \n",
            "  inflating: Dataset/dataset4/real1/03505035.png  \n",
            "  inflating: Dataset/dataset4/real1/04401044.png  \n",
            "  inflating: Dataset/dataset4/real1/04402044.png  \n",
            "  inflating: Dataset/dataset4/real1/04403044.png  \n",
            "  inflating: Dataset/dataset4/real1/04404044.png  \n",
            "  inflating: Dataset/dataset4/real1/04405044.png  \n",
            "  inflating: Dataset/dataset4/real1/04601046.png  \n",
            "  inflating: Dataset/dataset4/real1/04602046.png  \n",
            "  inflating: Dataset/dataset4/real1/04603046.png  \n",
            "  inflating: Dataset/dataset4/real1/04604046.png  \n",
            "  inflating: Dataset/dataset4/real1/04605046.png  \n",
            "  inflating: Dataset/dataset4/real1/06301063.png  \n",
            "  inflating: Dataset/dataset4/real1/06302063.png  \n",
            "  inflating: Dataset/dataset4/real1/06303063.png  \n",
            "  inflating: Dataset/dataset4/real1/06304063.png  \n",
            "  inflating: Dataset/dataset4/real1/06305063.png  \n",
            "  inflating: Dataset/dataset4/real1/07001070.png  \n",
            "  inflating: Dataset/dataset4/real1/07002070.png  \n",
            "  inflating: Dataset/dataset4/real1/07003070.png  \n",
            "  inflating: Dataset/dataset4/real1/07004070.png  \n",
            "  inflating: Dataset/dataset4/real1/07005070.png  \n",
            "  inflating: Dataset/dataset4/real1/07101071.png  \n",
            "  inflating: Dataset/dataset4/real1/07102071.png  \n",
            "  inflating: Dataset/dataset4/real1/07103071.png  \n",
            "  inflating: Dataset/dataset4/real1/07104071.png  \n",
            "  inflating: Dataset/dataset4/real1/07105071.png  \n",
            "  inflating: Dataset/dataset4/real1/07701077.png  \n",
            "  inflating: Dataset/dataset4/real1/07702077.png  \n",
            "  inflating: Dataset/dataset4/real1/07703077.png  \n",
            "  inflating: Dataset/dataset4/real1/07704077.png  \n",
            "  inflating: Dataset/dataset4/real1/07705077.png  \n",
            "  inflating: Dataset/dataset4/real1/08401084.png  \n",
            "  inflating: Dataset/dataset4/real1/08402084.png  \n",
            "  inflating: Dataset/dataset4/real1/08403084.png  \n",
            "  inflating: Dataset/dataset4/real1/08404084.png  \n",
            "  inflating: Dataset/dataset4/real1/08405084.png  \n",
            "  inflating: Dataset/dataset4/real1/08501085.png  \n",
            "  inflating: Dataset/dataset4/real1/08502085.png  \n",
            "  inflating: Dataset/dataset4/real1/08503085.png  \n",
            "  inflating: Dataset/dataset4/real1/08504085.png  \n",
            "  inflating: Dataset/dataset4/real1/08505085.png  \n",
            "  inflating: Dataset/dataset4/real1/08601086.png  \n",
            "  inflating: Dataset/dataset4/real1/08602086.png  \n",
            "  inflating: Dataset/dataset4/real1/08603086.png  \n",
            "  inflating: Dataset/dataset4/real1/08604086.png  \n",
            "  inflating: Dataset/dataset4/real1/08605086.png  \n",
            "  inflating: Dataset/dataset4/real1/08901089.png  \n",
            "  inflating: Dataset/dataset4/real1/08902089.png  \n",
            "  inflating: Dataset/dataset4/real1/08903089.png  \n",
            "  inflating: Dataset/dataset4/real1/08904089.png  \n",
            "  inflating: Dataset/dataset4/real1/08905089.png  \n",
            "  inflating: Dataset/dataset4/real1/09201092.png  \n",
            "  inflating: Dataset/dataset4/real1/09202092.png  \n",
            "  inflating: Dataset/dataset4/real1/09203092.png  \n",
            "  inflating: Dataset/dataset4/real1/09204092.png  \n",
            "  inflating: Dataset/dataset4/real1/09205092.png  \n",
            "  inflating: Dataset/dataset4/real1/09301093.png  \n",
            "  inflating: Dataset/dataset4/real1/09302093.png  \n",
            "  inflating: Dataset/dataset4/real1/09303093.png  \n",
            "  inflating: Dataset/dataset4/real1/09304093.png  \n",
            "  inflating: Dataset/dataset4/real1/09305093.png  \n"
          ]
        }
      ]
    },
    {
      "cell_type": "markdown",
      "metadata": {
        "id": "JUf3caqhE5Al"
      },
      "source": [
        "# <u>The Dataset</u>\n",
        "- We will be using the handwritten signatures dataset from Kaggle. (https://www.kaggle.com/divyanshrai/handwritten-signatures)\n",
        "- Like any project, we will first start by exploring and loading the data."
      ]
    },
    {
      "cell_type": "code",
      "execution_count": 4,
      "metadata": {
        "id": "N6XJ2--PE5Am"
      },
      "outputs": [],
      "source": [
        "def load_data(DATA_DIR=DATA_DIR, test_size=0.2, verbose=True, load_grayscale=True):\n",
        "    \"\"\"\n",
        "        Loads the data into a dataframe.\n",
        "        \n",
        "        Arguments:\n",
        "            DATA_DIR: str\n",
        "            test_size: float\n",
        "        Returns:\n",
        "            (x_train, y_train,x_test, y_test, x_val, y_val, df)\n",
        "    \"\"\"\n",
        "    features = []\n",
        "    features_forged = []\n",
        "    features_real = []\n",
        "    features_dict = {}\n",
        "    labels = [] # forged: 0 and real: 1\n",
        "    mode = \"rgb\"\n",
        "    if load_grayscale:\n",
        "        mode = \"grayscale\"\n",
        "    \n",
        "    for folder in os.listdir(DATA_DIR):\n",
        "        # forged images\n",
        "        if folder == '.DS_Store' or folder == '.ipynb_checkpoints':\n",
        "            continue\n",
        "        print (\"Searching folder {}\".format(folder))\n",
        "        for sub in os.listdir(DATA_DIR+\"/\"+folder+\"/forge\"):\n",
        "            f = DATA_DIR+\"/\"+folder+\"/forge/\" + sub\n",
        "            img = load_img(f,color_mode=mode, target_size=(150,150))\n",
        "            features.append(img_to_array(img))\n",
        "            features_dict[sub] = (img, 0)\n",
        "            features_forged.append(img)\n",
        "            if verbose:\n",
        "                print (\"Adding {} with label 0\".format(f))\n",
        "            labels.append(0) # forged\n",
        "        # real images\n",
        "        for sub in os.listdir(DATA_DIR+\"/\"+folder+\"/real\"):\n",
        "            f = DATA_DIR+\"/\"+folder+\"/real/\" + sub\n",
        "            img = load_img(f,color_mode=mode, target_size=(150,150))\n",
        "            features.append(img_to_array(img))\n",
        "            features_dict[sub] = (img, 1)\n",
        "            features_real.append(img)\n",
        "            if verbose:\n",
        "                print (\"Adding {} with label 1\".format(f))\n",
        "            labels.append(1) # real\n",
        "            \n",
        "    features = np.array(features)\n",
        "    labels = np.array(labels)\n",
        "    \n",
        "    x_train, x_test, y_train, y_test = train_test_split(features, labels, test_size=test_size, random_state=42)\n",
        "    x_train, x_val, y_train, y_val = train_test_split(x_train, y_train, test_size=0.25, random_state=42)\n",
        "    \n",
        "    print (\"Generated data.\")\n",
        "    return features, labels,features_forged, features_real,features_dict,x_train, x_test, y_train, y_test, x_val, y_val\n",
        "\n",
        "\n",
        "def convert_label_to_text(label=0):\n",
        "    \"\"\"\n",
        "        Convert label into text\n",
        "        \n",
        "        Arguments:\n",
        "            label: int\n",
        "        Returns:\n",
        "            str: The mapping\n",
        "    \"\"\"\n",
        "    return \"Forged\" if label == 0 else \"Real\""
      ]
    },
    {
      "cell_type": "code",
      "execution_count": 6,
      "metadata": {
        "id": "KiMW64J4E5An",
        "outputId": "3d1f6d22-7a7b-4ae6-b579-cd643eff6688",
        "colab": {
          "base_uri": "https://localhost:8080/"
        }
      },
      "outputs": [
        {
          "output_type": "stream",
          "name": "stdout",
          "text": [
            "Searching folder dataset3\n",
            "Searching folder dataset1\n",
            "Searching folder dataset2\n",
            "Searching folder dataset4\n",
            "Generated data.\n"
          ]
        }
      ],
      "source": [
        "features, labels,features_forged, features_real, features_dict,x_train, x_test, y_train, y_test, x_val, y_val = load_data(verbose=False, load_grayscale=False)"
      ]
    },
    {
      "cell_type": "markdown",
      "metadata": {
        "id": "dt8eJHuJE5Ao"
      },
      "source": [
        "- We extract all the data in the respective variables where 0 label stands for forged and 1 stands for real.\n",
        "- The images are loaded with as channels as 1 (grayscale)"
      ]
    },
    {
      "cell_type": "markdown",
      "metadata": {
        "id": "LftYsa5UE5Ap"
      },
      "source": [
        "# <u>Visualization of the data</u>\n",
        "- Let us get a closer look at the data."
      ]
    },
    {
      "cell_type": "markdown",
      "metadata": {
        "id": "gMEF2Ve2E5At"
      },
      "source": [
        "# <u>Approach #2: Building a classifier using CNNs that can detect forged or real signatures.</u>\n",
        "<p>\n",
        "    With this approach, we will try to come up with a classifier (using CNNs) to detect forged or real signatures.<br>\n",
        "    As CNNs are known to detect intricate features among images, we will experiment with a this classifier.\n",
        "</p>"
      ]
    },
    {
      "cell_type": "markdown",
      "metadata": {
        "id": "b0QswFFRE5At"
      },
      "source": [
        "- We are bound to encounter with overfitting as we do not have enough data.\n",
        "- We will probably use Image Augementation to generate more training data."
      ]
    },
    {
      "cell_type": "code",
      "execution_count": 7,
      "metadata": {
        "id": "rJ2zHLFwE5Au"
      },
      "outputs": [],
      "source": [
        "model = tf.keras.Sequential()\n",
        "model.add(tf.keras.layers.Conv2D(64, (3,3), input_shape=(150,150,3), activation='relu'))\n",
        "model.add(tf.keras.layers.MaxPool2D(2))\n",
        "model.add(tf.keras.layers.Conv2D(32, (3,3), activation='relu'))\n",
        "model.add(tf.keras.layers.MaxPool2D(2))\n",
        "model.add(tf.keras.layers.Conv2D(16, (3,3), activation='relu'))\n",
        "model.add(tf.keras.layers.MaxPool2D(2))\n",
        "model.add(tf.keras.layers.Conv2D(16, (3,3), activation='relu'))\n",
        "model.add(tf.keras.layers.Flatten())\n",
        "model.add(tf.keras.layers.Dense(512, activation='relu'))\n",
        "model.add(tf.keras.layers.Dense(1, activation='sigmoid'))\n",
        "model.compile(optimizer='adam', loss=tf.keras.losses.binary_crossentropy, metrics=['acc'])"
      ]
    },
    {
      "cell_type": "code",
      "execution_count": 8,
      "metadata": {
        "id": "4NnxE1P5E5Au",
        "outputId": "a083d828-b799-4375-8ed5-350088702caa",
        "colab": {
          "base_uri": "https://localhost:8080/"
        }
      },
      "outputs": [
        {
          "output_type": "stream",
          "name": "stdout",
          "text": [
            "Model: \"sequential\"\n",
            "_________________________________________________________________\n",
            " Layer (type)                Output Shape              Param #   \n",
            "=================================================================\n",
            " conv2d (Conv2D)             (None, 148, 148, 64)      1792      \n",
            "                                                                 \n",
            " max_pooling2d (MaxPooling2D  (None, 74, 74, 64)       0         \n",
            " )                                                               \n",
            "                                                                 \n",
            " conv2d_1 (Conv2D)           (None, 72, 72, 32)        18464     \n",
            "                                                                 \n",
            " max_pooling2d_1 (MaxPooling  (None, 36, 36, 32)       0         \n",
            " 2D)                                                             \n",
            "                                                                 \n",
            " conv2d_2 (Conv2D)           (None, 34, 34, 16)        4624      \n",
            "                                                                 \n",
            " max_pooling2d_2 (MaxPooling  (None, 17, 17, 16)       0         \n",
            " 2D)                                                             \n",
            "                                                                 \n",
            " conv2d_3 (Conv2D)           (None, 15, 15, 16)        2320      \n",
            "                                                                 \n",
            " flatten (Flatten)           (None, 3600)              0         \n",
            "                                                                 \n",
            " dense (Dense)               (None, 512)               1843712   \n",
            "                                                                 \n",
            " dense_1 (Dense)             (None, 1)                 513       \n",
            "                                                                 \n",
            "=================================================================\n",
            "Total params: 1,871,425\n",
            "Trainable params: 1,871,425\n",
            "Non-trainable params: 0\n",
            "_________________________________________________________________\n"
          ]
        }
      ],
      "source": [
        "model.summary()"
      ]
    },
    {
      "cell_type": "code",
      "execution_count": 9,
      "metadata": {
        "id": "B9YfvXGTE5Au"
      },
      "outputs": [],
      "source": [
        "# normalize inputs\n",
        "x_train /= 255.\n",
        "x_val /= 255.\n",
        "x_test /= 255."
      ]
    },
    {
      "cell_type": "code",
      "execution_count": 10,
      "metadata": {
        "id": "YPoBGJJCE5Au",
        "outputId": "1cc814ca-50de-4c3c-b428-11c013a2bbe1",
        "colab": {
          "base_uri": "https://localhost:8080/"
        }
      },
      "outputs": [
        {
          "output_type": "stream",
          "name": "stdout",
          "text": [
            "Epoch 1/5\n",
            "14/14 [==============================] - 12s 68ms/step - loss: 0.7053 - acc: 0.4907 - val_loss: 0.7173 - val_acc: 0.4236\n",
            "Epoch 2/5\n",
            "14/14 [==============================] - 0s 33ms/step - loss: 0.6945 - acc: 0.5093 - val_loss: 0.7733 - val_acc: 0.4236\n",
            "Epoch 3/5\n",
            "14/14 [==============================] - 0s 32ms/step - loss: 0.6814 - acc: 0.6088 - val_loss: 0.8601 - val_acc: 0.4583\n",
            "Epoch 4/5\n",
            "14/14 [==============================] - 0s 32ms/step - loss: 0.6595 - acc: 0.6296 - val_loss: 0.6645 - val_acc: 0.6042\n",
            "Epoch 5/5\n",
            "14/14 [==============================] - 0s 32ms/step - loss: 0.6036 - acc: 0.6620 - val_loss: 0.5889 - val_acc: 0.6736\n"
          ]
        }
      ],
      "source": [
        "history = model.fit(x_train, y_train, epochs=5, validation_data=(x_val, y_val))"
      ]
    },
    {
      "cell_type": "code",
      "execution_count": 11,
      "metadata": {
        "id": "y86uvU0pE5Av",
        "outputId": "0977b4dd-38f6-486c-d6ee-257f31e3e6fe",
        "colab": {
          "base_uri": "https://localhost:8080/",
          "height": 295
        }
      },
      "outputs": [
        {
          "output_type": "display_data",
          "data": {
            "text/plain": [
              "<Figure size 432x288 with 1 Axes>"
            ],
            "image/png": "[encoded data removed]"
          },
          "metadata": {
            "needs_background": "light"
          }
        }
      ],
      "source": [
        "def plot_history(history):\n",
        "    plt.plot(history.history['loss'])\n",
        "    plt.plot(history.history['val_loss'])\n",
        "    plt.title('model loss')\n",
        "    plt.ylabel('loss')\n",
        "    plt.xlabel('epoch')\n",
        "    plt.legend(['train', 'val'], loc='upper left')\n",
        "    plt.show()\n",
        "\n",
        "plot_history(history)"
      ]
    },
    {
      "cell_type": "markdown",
      "metadata": {
        "id": "nHcVQAPAE5Av"
      },
      "source": [
        "- Model is clearly overfitting (one probable reason is the lack of training data.)\n",
        "- On increasing the epochs, the model is clearly overfitting"
      ]
    },
    {
      "cell_type": "markdown",
      "metadata": {
        "id": "dtBFE0_xE5Av"
      },
      "source": [
        "## <u>Transfer Learning using Inception.</u>"
      ]
    },
    {
      "cell_type": "code",
      "execution_count": 23,
      "metadata": {
        "id": "WKPUd3HHE5Av"
      },
      "outputs": [],
      "source": [
        "# loading Inception\n",
        "model2 = tf.keras.applications.InceptionV3(include_top=False, input_shape=(150,150,3))"
      ]
    },
    {
      "cell_type": "code",
      "execution_count": 24,
      "metadata": {
        "id": "6vyQaLarE5Av"
      },
      "outputs": [],
      "source": [
        "# freezing layers\n",
        "for layer in model2.layers:\n",
        "    layer.trainable=False"
      ]
    },
    {
      "cell_type": "code",
      "execution_count": 25,
      "metadata": {
        "id": "1MnfR1kOE5Aw"
      },
      "outputs": [],
      "source": [
        "# getting mixed7 layer\n",
        "l = model2.get_layer(\"mixed7\")"
      ]
    },
    {
      "cell_type": "code",
      "execution_count": 26,
      "metadata": {
        "id": "6xl-FraWE5Aw",
        "outputId": "190c53b9-1b07-4d12-9672-6f2aff89348f",
        "colab": {
          "base_uri": "https://localhost:8080/"
        }
      },
      "outputs": [
        {
          "output_type": "stream",
          "name": "stdout",
          "text": [
            "mixed7 shape: (None, 7, 7, 768)\n"
          ]
        }
      ],
      "source": [
        "print (\"mixed7 shape: {}\".format(l.output_shape))"
      ]
    },
    {
      "cell_type": "code",
      "execution_count": 27,
      "metadata": {
        "id": "GYribtI7E5Aw"
      },
      "outputs": [],
      "source": [
        "x = tf.keras.layers.Flatten()(l.output)\n",
        "x = tf.keras.layers.Dense(1024, activation='relu')(x)\n",
        "x = tf.keras.layers.Dropout(.5)(x)                  \n",
        "x = tf.keras.layers.Dense(1, activation='sigmoid')(x)           \n",
        "net = tf.keras.Model(model2.input, x) "
      ]
    },
    {
      "cell_type": "code",
      "execution_count": 28,
      "metadata": {
        "id": "VS1RJ5-7E5Aw"
      },
      "outputs": [],
      "source": [
        "net.compile(optimizer='adam', loss=tf.keras.losses.binary_crossentropy, metrics=['acc'])"
      ]
    },
    {
      "cell_type": "code",
      "execution_count": 29,
      "metadata": {
        "id": "0GbXDeucE5Aw",
        "outputId": "d5a65d29-3290-4e69-a913-ba4f91f0ef77",
        "colab": {
          "base_uri": "https://localhost:8080/"
        }
      },
      "outputs": [
        {
          "output_type": "stream",
          "name": "stdout",
          "text": [
            "Epoch 1/5\n",
            "14/14 [==============================] - 4s 118ms/step - loss: 2.4168 - acc: 0.5787 - val_loss: 0.5779 - val_acc: 0.7847\n",
            "Epoch 2/5\n",
            "14/14 [==============================] - 1s 44ms/step - loss: 0.8824 - acc: 0.7616 - val_loss: 0.4609 - val_acc: 0.8333\n",
            "Epoch 3/5\n",
            "14/14 [==============================] - 1s 45ms/step - loss: 0.2708 - acc: 0.8912 - val_loss: 0.2415 - val_acc: 0.8958\n",
            "Epoch 4/5\n",
            "14/14 [==============================] - 1s 45ms/step - loss: 0.1207 - acc: 0.9398 - val_loss: 0.2114 - val_acc: 0.9306\n",
            "Epoch 5/5\n",
            "14/14 [==============================] - 1s 47ms/step - loss: 0.0574 - acc: 0.9815 - val_loss: 0.1822 - val_acc: 0.9514\n"
          ]
        }
      ],
      "source": [
        "h2 = net.fit(x_train, y_train, validation_data=(x_val, y_val), epochs=5)"
      ]
    },
    {
      "cell_type": "code",
      "execution_count": 30,
      "metadata": {
        "id": "34NXQnxAE5Ax",
        "outputId": "55ef4c90-1207-4225-ac0e-51c31f7cbd94",
        "colab": {
          "base_uri": "https://localhost:8080/",
          "height": 295
        }
      },
      "outputs": [
        {
          "output_type": "display_data",
          "data": {
            "text/plain": [
              "<Figure size 432x288 with 1 Axes>"
            ],
            "image/png": "[encoded data removed]"
          },
          "metadata": {
            "needs_background": "light"
          }
        }
      ],
      "source": [
        "plot_history(h2)"
      ]
    },
    {
      "cell_type": "markdown",
      "metadata": {
        "id": "DXYPBG5uE5Ax"
      },
      "source": [
        "- Clearly the model overfits after 3 epochs.\n",
        "- But the result is still better than the previous one."
      ]
    },
    {
      "cell_type": "code",
      "execution_count": 31,
      "metadata": {
        "id": "SkduSD7hE5Ax"
      },
      "outputs": [],
      "source": [
        "preds = net.predict(x_test)\n",
        "pred_labels = []"
      ]
    },
    {
      "cell_type": "code",
      "execution_count": 32,
      "metadata": {
        "id": "Y5tQ1M4OE5Ax"
      },
      "outputs": [],
      "source": [
        "# threshold is 0.5\n",
        "for p in preds:\n",
        "    if p >= 0.5:\n",
        "        pred_labels.append(1)\n",
        "    else:\n",
        "        pred_labels.append(0)\n",
        "pred_labels = np.array(pred_labels)"
      ]
    },
    {
      "cell_type": "code",
      "execution_count": 33,
      "metadata": {
        "id": "ggWPSy3qE5Ax",
        "outputId": "9286f314-f9b2-446b-f4d7-0db1cf705634",
        "colab": {
          "base_uri": "https://localhost:8080/"
        }
      },
      "outputs": [
        {
          "output_type": "stream",
          "name": "stdout",
          "text": [
            "Accuracy on test set: 0.8888888888888888\n"
          ]
        }
      ],
      "source": [
        "print (\"Accuracy on test set: {}\".format(accuracy_score(y_test, pred_labels)))"
      ]
    },
    {
      "cell_type": "markdown",
      "metadata": {
        "id": "_AJqZtpYE5Ax"
      },
      "source": [
        "<p>\n",
        "    These two approaches show that if we use transfer learning, we get much better results than using a plain CNN model.\n",
        "    Keep in mind, these approaches do not learn the similarity function but these focus on the classifying whether the image in forged or real. There are still many ways we can improve our model, one is by augmenting data.\n",
        "</p>\n",
        "\n",
        "### With our third approach, we will try to learn the similarity function. We will use something called Siamese networks (due to nature of our data i.e less number of training examples)\n"
      ]
    },
    {
      "cell_type": "markdown",
      "metadata": {
        "id": "Put4-_iLE5Ay"
      },
      "source": [
        "# <u>Approach #3: Siamese networks for image similarity</u>\n",
        "<p>\n",
        "    In this approach, we will use Siamese networks to learn the similarity function. Siamese means 'twins' and the biggest difference between normal nn's is that these networks try to learn the approximate the similarity function instead of trying to classify.\n",
        "    <hr><strong>Refer: https://arxiv.org/pdf/1709.08761.pdf</strong>\n",
        "    </p>"
      ]
    },
    {
      "cell_type": "markdown",
      "metadata": {
        "id": "srIvarU2E5Ay"
      },
      "source": [
        "- We first create a common feature vector for our images. We will pass two images (positive and negative) and use a contrastive loss function (Distance metric (l1 distance)) and in the end we squash the output between 1 and 0 (sigmoid) to get the final result.\n",
        "![image.png](attachment:1f544865-466e-4696-af69-2a3dd5e820b9.png)"
      ]
    },
    {
      "cell_type": "code",
      "execution_count": 34,
      "metadata": {
        "id": "PesAF4NCE5Ay"
      },
      "outputs": [],
      "source": [
        "# the NN is the diagram\n",
        "feature_vector = tf.keras.Sequential()\n",
        "feature_vector.add(tf.keras.layers.Conv2D(64,3, activation='relu', input_shape=(150,150,3)))\n",
        "feature_vector.add(tf.keras.layers.BatchNormalization())\n",
        "feature_vector.add(tf.keras.layers.Conv2D(32,3, activation='relu'))\n",
        "feature_vector.add(tf.keras.layers.BatchNormalization())\n",
        "feature_vector.add(tf.keras.layers.Conv2D(16, 3,activation='relu'))\n",
        "feature_vector.add(tf.keras.layers.MaxPool2D((2,2)))\n",
        "feature_vector.add(tf.keras.layers.Flatten())\n",
        "feature_vector.add(tf.keras.layers.Dropout(0.2))\n",
        "feature_vector.add(tf.keras.layers.Dense(512, activation='relu'))"
      ]
    },
    {
      "cell_type": "code",
      "execution_count": 35,
      "metadata": {
        "id": "XUD6Gy6qE5Ay",
        "outputId": "88f50981-2ade-441d-fd44-6d026bbf621e",
        "colab": {
          "base_uri": "https://localhost:8080/"
        }
      },
      "outputs": [
        {
          "output_type": "stream",
          "name": "stdout",
          "text": [
            "Model: \"sequential_1\"\n",
            "_________________________________________________________________\n",
            " Layer (type)                Output Shape              Param #   \n",
            "=================================================================\n",
            " conv2d_192 (Conv2D)         (None, 148, 148, 64)      1792      \n",
            "                                                                 \n",
            " batch_normalization_188 (Ba  (None, 148, 148, 64)     256       \n",
            " tchNormalization)                                               \n",
            "                                                                 \n",
            " conv2d_193 (Conv2D)         (None, 146, 146, 32)      18464     \n",
            "                                                                 \n",
            " batch_normalization_189 (Ba  (None, 146, 146, 32)     128       \n",
            " tchNormalization)                                               \n",
            "                                                                 \n",
            " conv2d_194 (Conv2D)         (None, 144, 144, 16)      4624      \n",
            "                                                                 \n",
            " max_pooling2d_11 (MaxPoolin  (None, 72, 72, 16)       0         \n",
            " g2D)                                                            \n",
            "                                                                 \n",
            " flatten_3 (Flatten)         (None, 82944)             0         \n",
            "                                                                 \n",
            " dropout_2 (Dropout)         (None, 82944)             0         \n",
            "                                                                 \n",
            " dense_6 (Dense)             (None, 512)               42467840  \n",
            "                                                                 \n",
            "=================================================================\n",
            "Total params: 42,493,104\n",
            "Trainable params: 42,492,912\n",
            "Non-trainable params: 192\n",
            "_________________________________________________________________\n"
          ]
        }
      ],
      "source": [
        "feature_vector.summary()"
      ]
    },
    {
      "cell_type": "code",
      "execution_count": 36,
      "metadata": {
        "id": "K3_8T-6eE5Ay",
        "outputId": "378ecac2-64ab-46c7-f217-10dc1450b2ad",
        "colab": {
          "base_uri": "https://localhost:8080/"
        }
      },
      "outputs": [
        {
          "output_type": "stream",
          "name": "stdout",
          "text": [
            "Model: \"model_2\"\n",
            "__________________________________________________________________________________________________\n",
            " Layer (type)                   Output Shape         Param #     Connected to                     \n",
            "==================================================================================================\n",
            " input_3 (InputLayer)           [(None, 150, 150, 3  0           []                               \n",
            "                                )]                                                                \n",
            "                                                                                                  \n",
            " input_4 (InputLayer)           [(None, 150, 150, 3  0           []                               \n",
            "                                )]                                                                \n",
            "                                                                                                  \n",
            " sequential_1 (Sequential)      (None, 512)          42493104    ['input_3[0][0]',                \n",
            "                                                                  'input_4[0][0]']                \n",
            "                                                                                                  \n",
            " concatenate_4 (Concatenate)    (None, 1024)         0           ['sequential_1[0][0]',           \n",
            "                                                                  'sequential_1[1][0]']           \n",
            "                                                                                                  \n",
            " dense_7 (Dense)                (None, 4)            4100        ['concatenate_4[0][0]']          \n",
            "                                                                                                  \n",
            " batch_normalization_191 (Batch  (None, 4)           16          ['dense_7[0][0]']                \n",
            " Normalization)                                                                                   \n",
            "                                                                                                  \n",
            " activation_188 (Activation)    (None, 4)            0           ['batch_normalization_191[0][0]']\n",
            "                                                                                                  \n",
            " dense_8 (Dense)                (None, 1)            5           ['activation_188[0][0]']         \n",
            "                                                                                                  \n",
            "==================================================================================================\n",
            "Total params: 42,497,225\n",
            "Trainable params: 42,497,025\n",
            "Non-trainable params: 200\n",
            "__________________________________________________________________________________________________\n"
          ]
        }
      ],
      "source": [
        "# creating the siamese network\n",
        "im_a = tf.keras.layers.Input(shape=(150,150,3))\n",
        "im_b = tf.keras.layers.Input(shape=(150,150,3))\n",
        "\n",
        "encoded_a = feature_vector(im_a)\n",
        "encoded_b = feature_vector(im_b)\n",
        "\n",
        "combined = tf.keras.layers.concatenate([encoded_a, encoded_b])\n",
        "combine = tf.keras.layers.BatchNormalization()(combined)\n",
        "combined = tf.keras.layers.Dense(4, activation = 'linear')(combined)\n",
        "combined = tf.keras.layers.BatchNormalization()(combined)\n",
        "combined = tf.keras.layers.Activation('relu')(combined)\n",
        "combined = tf.keras.layers.Dense(1, activation = 'sigmoid')(combined)\n",
        "\n",
        "sm = tf.keras.Model(inputs=[im_a, im_b], outputs=[combined])\n",
        "sm.summary()"
      ]
    },
    {
      "cell_type": "code",
      "execution_count": 37,
      "metadata": {
        "id": "Uwkc0_HrE5Ay"
      },
      "outputs": [],
      "source": [
        "sm.compile(optimizer='adam', loss = 'binary_crossentropy', metrics = ['mae'])"
      ]
    },
    {
      "cell_type": "markdown",
      "metadata": {
        "id": "mz6mhK4BE5Az"
      },
      "source": [
        "# <u>Dataset Generation</u>\n",
        "<p>\n",
        "    To generate the required dataset, we will try two approaches. First we will generate data on the basis of labels. If two images have the same label (1 or 0), then they are similar. We will generate data in pairs in the form (im_a, im_b, label).<br>\n",
        "    Second we will generate data on the basis of person number. According to the dataset, 02104021.png represents the signature produced by person 21 (i.e real).\n",
        "</p>"
      ]
    },
    {
      "cell_type": "markdown",
      "metadata": {
        "id": "QNeZdHM1E5Az"
      },
      "source": [
        "## Data generation Approach #1:\n",
        "<p>\n",
        "    Here we are assuming similarity on the basis of labels. If two images have the same label (i.e 1 or 0) then they are similar.\n",
        "</p>"
      ]
    },
    {
      "cell_type": "code",
      "execution_count": 38,
      "metadata": {
        "id": "PtgHSvgME5Az"
      },
      "outputs": [],
      "source": [
        "def generate_data_first_approach(features, labels, test_size=0.25):\n",
        "    \"\"\"\n",
        "        Generate data in pairs according to labels.\n",
        "        Arguments:\n",
        "            features: numpy\n",
        "            labels: numpy\n",
        "    \"\"\"\n",
        "    im_a = [] # images a\n",
        "    im_b = [] # images b\n",
        "    pair_labels = []\n",
        "    for i in range(0, len(features)-1):\n",
        "        j = i + 1\n",
        "        if labels[i] == 1 and labels[j]==1:\n",
        "            im_a.append(features[i])\n",
        "            im_b.append(features[j])\n",
        "            pair_labels.append(1) # similar\n",
        "        else:\n",
        "            im_a.append(features[i])\n",
        "            im_b.append(features[j])\n",
        "            pair_labels.append(0) # not similar\n",
        "            \n",
        "    pairs = np.stack([im_a, im_b], axis=1)\n",
        "    pair_labels = np.array(pair_labels)\n",
        "    x_train, x_test, y_train, y_test = train_test_split(pairs, pair_labels, test_size=test_size, random_state=42)\n",
        "    x_train, x_val, y_train, y_val = train_test_split(x_train, y_train, test_size=0.25, random_state=42)\n",
        "    return x_train, y_train, x_test, y_test, x_val, y_val, pairs, pair_labels"
      ]
    },
    {
      "cell_type": "code",
      "execution_count": 39,
      "metadata": {
        "id": "yHIHYywXE5Az"
      },
      "outputs": [],
      "source": [
        "x_train, y_train, x_test, y_test, x_val, y_val, pairs, pair_labels = generate_data_first_approach(features, labels)"
      ]
    },
    {
      "cell_type": "code",
      "execution_count": 62,
      "metadata": {
        "id": "e5TwcSyHE5Az",
        "outputId": "735699a7-1438-462a-aefc-86e0bcb6e059",
        "colab": {
          "base_uri": "https://localhost:8080/",
          "height": 538
        }
      },
      "outputs": [
        {
          "output_type": "display_data",
          "data": {
            "text/plain": [
              "<Figure size 432x288 with 1 Axes>"
            ],
            "image/png": "[encoded data removed]"
          },
          "metadata": {
            "needs_background": "light"
          }
        },
        {
          "output_type": "display_data",
          "data": {
            "text/plain": [
              "<Figure size 432x288 with 1 Axes>"
            ],
            "image/png": "[encoded data removed]"
          },
          "metadata": {
            "needs_background": "light"
          }
        },
        {
          "output_type": "stream",
          "name": "stdout",
          "text": [
            "Label:  1\n"
          ]
        }
      ],
      "source": [
        "plt.imshow(pairs[:,0][0]/255.)\n",
        "plt.show()\n",
        "plt.imshow(pairs[:,1][0]/255.)\n",
        "plt.show()\n",
        "print(\"Label: \",pair_labels[100])"
      ]
    },
    {
      "cell_type": "code",
      "execution_count": 45,
      "metadata": {
        "id": "o6W91IzHE5Az",
        "outputId": "e8606c1e-bca4-482a-8529-b6efd3eb199d",
        "colab": {
          "base_uri": "https://localhost:8080/"
        }
      },
      "outputs": [
        {
          "output_type": "stream",
          "name": "stdout",
          "text": [
            "Epoch 1/50\n",
            "13/13 [==============================] - 2s 157ms/step - loss: 0.4082 - mae: 0.3303 - val_loss: 0.1510 - val_mae: 0.1292\n",
            "Epoch 2/50\n",
            "13/13 [==============================] - 2s 149ms/step - loss: 0.3853 - mae: 0.3181 - val_loss: 0.3440 - val_mae: 0.2849\n",
            "Epoch 3/50\n",
            "13/13 [==============================] - 2s 149ms/step - loss: 0.3807 - mae: 0.3112 - val_loss: 0.3121 - val_mae: 0.2616\n",
            "Epoch 4/50\n",
            "13/13 [==============================] - 2s 147ms/step - loss: 0.3435 - mae: 0.2890 - val_loss: 0.3593 - val_mae: 0.2990\n",
            "Epoch 5/50\n",
            "13/13 [==============================] - 2s 149ms/step - loss: 0.3371 - mae: 0.2830 - val_loss: 0.3262 - val_mae: 0.2771\n",
            "Epoch 6/50\n",
            "13/13 [==============================] - 2s 149ms/step - loss: 0.3197 - mae: 0.2714 - val_loss: 0.3185 - val_mae: 0.2680\n",
            "Epoch 7/50\n",
            "13/13 [==============================] - 2s 149ms/step - loss: 0.3096 - mae: 0.2644 - val_loss: 0.3040 - val_mae: 0.2555\n",
            "Epoch 8/50\n",
            "13/13 [==============================] - 2s 149ms/step - loss: 0.2947 - mae: 0.2533 - val_loss: 0.2525 - val_mae: 0.2220\n",
            "Epoch 9/50\n",
            "13/13 [==============================] - 2s 149ms/step - loss: 0.2853 - mae: 0.2456 - val_loss: 0.2508 - val_mae: 0.2206\n",
            "Epoch 10/50\n",
            "13/13 [==============================] - 2s 149ms/step - loss: 0.2722 - mae: 0.2363 - val_loss: 0.2583 - val_mae: 0.2258\n",
            "Epoch 11/50\n",
            "13/13 [==============================] - 2s 150ms/step - loss: 0.2625 - mae: 0.2293 - val_loss: 0.2756 - val_mae: 0.2395\n",
            "Epoch 12/50\n",
            "13/13 [==============================] - 2s 148ms/step - loss: 0.2514 - mae: 0.2208 - val_loss: 0.2846 - val_mae: 0.2367\n",
            "Epoch 13/50\n",
            "13/13 [==============================] - 2s 149ms/step - loss: 0.2376 - mae: 0.2101 - val_loss: 0.2379 - val_mae: 0.2074\n",
            "Epoch 14/50\n",
            "13/13 [==============================] - 2s 149ms/step - loss: 0.2287 - mae: 0.2029 - val_loss: 0.2055 - val_mae: 0.1739\n",
            "Epoch 15/50\n",
            "13/13 [==============================] - 2s 150ms/step - loss: 0.2239 - mae: 0.1993 - val_loss: 0.2551 - val_mae: 0.2239\n",
            "Epoch 16/50\n",
            "13/13 [==============================] - 2s 150ms/step - loss: 0.2183 - mae: 0.1944 - val_loss: 0.2469 - val_mae: 0.2164\n",
            "Epoch 17/50\n",
            "13/13 [==============================] - 2s 150ms/step - loss: 0.2062 - mae: 0.1847 - val_loss: 0.2126 - val_mae: 0.1900\n",
            "Epoch 18/50\n",
            "13/13 [==============================] - 2s 150ms/step - loss: 0.1999 - mae: 0.1801 - val_loss: 0.1983 - val_mae: 0.1786\n",
            "Epoch 19/50\n",
            "13/13 [==============================] - 2s 150ms/step - loss: 0.1891 - mae: 0.1711 - val_loss: 0.1741 - val_mae: 0.1582\n",
            "Epoch 20/50\n",
            "13/13 [==============================] - 2s 150ms/step - loss: 0.1822 - mae: 0.1654 - val_loss: 0.1736 - val_mae: 0.1578\n",
            "Epoch 21/50\n",
            "13/13 [==============================] - 2s 151ms/step - loss: 0.1790 - mae: 0.1626 - val_loss: 0.1652 - val_mae: 0.1509\n",
            "Epoch 22/50\n",
            "13/13 [==============================] - 2s 150ms/step - loss: 0.1762 - mae: 0.1597 - val_loss: 0.1460 - val_mae: 0.1341\n",
            "Epoch 23/50\n",
            "13/13 [==============================] - 2s 149ms/step - loss: 0.1673 - mae: 0.1526 - val_loss: 0.1477 - val_mae: 0.1357\n",
            "Epoch 24/50\n",
            "13/13 [==============================] - 2s 150ms/step - loss: 0.1644 - mae: 0.1501 - val_loss: 0.1818 - val_mae: 0.1606\n",
            "Epoch 25/50\n",
            "13/13 [==============================] - 2s 158ms/step - loss: 0.1570 - mae: 0.1439 - val_loss: 0.1553 - val_mae: 0.1399\n",
            "Epoch 26/50\n",
            "13/13 [==============================] - 2s 155ms/step - loss: 0.1543 - mae: 0.1412 - val_loss: 0.1657 - val_mae: 0.1487\n",
            "Epoch 27/50\n",
            "13/13 [==============================] - 2s 151ms/step - loss: 0.1416 - mae: 0.1310 - val_loss: 0.1296 - val_mae: 0.1199\n",
            "Epoch 28/50\n",
            "13/13 [==============================] - 2s 151ms/step - loss: 0.1446 - mae: 0.1329 - val_loss: 0.1301 - val_mae: 0.1197\n",
            "Epoch 29/50\n",
            "13/13 [==============================] - 2s 150ms/step - loss: 0.1399 - mae: 0.1291 - val_loss: 0.1273 - val_mae: 0.1173\n",
            "Epoch 30/50\n",
            "13/13 [==============================] - 2s 151ms/step - loss: 0.1323 - mae: 0.1224 - val_loss: 0.1150 - val_mae: 0.1062\n",
            "Epoch 31/50\n",
            "13/13 [==============================] - 2s 152ms/step - loss: 0.1280 - mae: 0.1185 - val_loss: 0.1117 - val_mae: 0.1038\n",
            "Epoch 32/50\n",
            "13/13 [==============================] - 2s 152ms/step - loss: 0.1221 - mae: 0.1136 - val_loss: 0.1118 - val_mae: 0.1041\n",
            "Epoch 33/50\n",
            "13/13 [==============================] - 2s 151ms/step - loss: 0.1182 - mae: 0.1101 - val_loss: 0.1040 - val_mae: 0.0970\n",
            "Epoch 34/50\n",
            "13/13 [==============================] - 2s 152ms/step - loss: 0.1159 - mae: 0.1081 - val_loss: 0.1014 - val_mae: 0.0945\n",
            "Epoch 35/50\n",
            "13/13 [==============================] - 2s 151ms/step - loss: 0.1090 - mae: 0.1022 - val_loss: 0.1148 - val_mae: 0.1063\n",
            "Epoch 36/50\n",
            "13/13 [==============================] - 2s 151ms/step - loss: 0.1095 - mae: 0.1020 - val_loss: 0.1145 - val_mae: 0.1054\n",
            "Epoch 37/50\n",
            "13/13 [==============================] - 2s 152ms/step - loss: 0.1067 - mae: 0.0997 - val_loss: 0.1158 - val_mae: 0.1064\n",
            "Epoch 38/50\n",
            "13/13 [==============================] - 2s 153ms/step - loss: 0.1024 - mae: 0.0961 - val_loss: 0.1021 - val_mae: 0.0952\n",
            "Epoch 39/50\n",
            "13/13 [==============================] - 2s 152ms/step - loss: 0.0996 - mae: 0.0934 - val_loss: 0.0904 - val_mae: 0.0843\n",
            "Epoch 40/50\n",
            "13/13 [==============================] - 2s 152ms/step - loss: 0.0934 - mae: 0.0882 - val_loss: 0.1050 - val_mae: 0.0958\n",
            "Epoch 41/50\n",
            "13/13 [==============================] - 2s 152ms/step - loss: 0.0915 - mae: 0.0863 - val_loss: 0.1020 - val_mae: 0.0940\n",
            "Epoch 42/50\n",
            "13/13 [==============================] - 2s 153ms/step - loss: 0.0904 - mae: 0.0850 - val_loss: 0.1229 - val_mae: 0.1102\n",
            "Epoch 43/50\n",
            "13/13 [==============================] - 2s 152ms/step - loss: 0.0852 - mae: 0.0807 - val_loss: 0.1197 - val_mae: 0.1065\n",
            "Epoch 44/50\n",
            "13/13 [==============================] - 2s 151ms/step - loss: 0.0852 - mae: 0.0802 - val_loss: 0.1073 - val_mae: 0.0929\n",
            "Epoch 45/50\n",
            "13/13 [==============================] - 2s 152ms/step - loss: 0.0799 - mae: 0.0757 - val_loss: 0.1052 - val_mae: 0.0949\n",
            "Epoch 46/50\n",
            "13/13 [==============================] - 2s 154ms/step - loss: 0.0816 - mae: 0.0773 - val_loss: 0.0969 - val_mae: 0.0902\n",
            "Epoch 47/50\n",
            "13/13 [==============================] - 2s 152ms/step - loss: 0.0763 - mae: 0.0725 - val_loss: 0.1079 - val_mae: 0.1006\n",
            "Epoch 48/50\n",
            "13/13 [==============================] - 2s 152ms/step - loss: 0.0752 - mae: 0.0713 - val_loss: 0.0857 - val_mae: 0.0802\n",
            "Epoch 49/50\n",
            "13/13 [==============================] - 2s 153ms/step - loss: 0.0703 - mae: 0.0670 - val_loss: 0.0746 - val_mae: 0.0708\n",
            "Epoch 50/50\n",
            "13/13 [==============================] - 2s 152ms/step - loss: 0.0670 - mae: 0.0640 - val_loss: 0.0750 - val_mae: 0.0711\n"
          ]
        },
        {
          "output_type": "execute_result",
          "data": {
            "text/plain": [
              "<keras.callbacks.History at 0x7f2bb13a9e50>"
            ]
          },
          "metadata": {},
          "execution_count": 45
        }
      ],
      "source": [
        "# x_train[:,0] => axis=1 (all 150,150,3) x_train[:,1] => axis=1 (second column)\n",
        "sm.fit([x_train[:,0], x_train[:,1]], y_train, validation_data=([x_val[:,0],x_val[:,1]], y_val),epochs=50)"
      ]
    },
    {
      "cell_type": "markdown",
      "metadata": {
        "id": "aHgg0TzmE5Az"
      },
      "source": [
        "- The metric is calculating the L1-Distance (MAE) between the y_hat and y.\n",
        "- Due to computation limitations,we only train it for one epoch\n",
        "- This represents a very simple siamese network capable of learning the similarity function."
      ]
    },
    {
      "cell_type": "markdown",
      "metadata": {
        "id": "vEu13uzsE5A0"
      },
      "source": [
        "## Data Generation Approach #2\n",
        "<p>\n",
        "    In this approach, we try to setup a dataset where we cross multiply each signature with other number signature.<br>\n",
        "    <strong> The inputs and the outputs must be the same size.</strong>\n",
        "</p>"
      ]
    },
    {
      "cell_type": "code",
      "execution_count": null,
      "metadata": {
        "id": "K7-L4jsuE5A0"
      },
      "outputs": [],
      "source": [
        "def generate_data(person_number=\"001\"):\n",
        "    x = list(features_dict.keys())\n",
        "    im_r = []\n",
        "    im_f = []\n",
        "    labels = [] # represents 1 if signature is real else 0\n",
        "    for i in x:\n",
        "        if i.startswith(person_number):\n",
        "            if i.endswith(\"{}.png\".format(person_number)):\n",
        "                im_r.append(i)\n",
        "                labels.append(1)\n",
        "            else:\n",
        "                im_f.append(i)\n",
        "                labels.append(0)\n",
        "    return im_r, im_f, labels\n",
        "\n",
        "\n",
        "def generate_dataset_approach_two(size=100, test_size=0.25):\n",
        "    \"\"\"\n",
        "        Generate data using the second approach.\n",
        "        Remember input and output must be the same size!\n",
        "        \n",
        "        Arguments:\n",
        "            features: numpy array\n",
        "            labels: numpy array\n",
        "            size: the target size (length of the array)\n",
        "        Returns:\n",
        "            x_train, y_train\n",
        "    \"\"\"\n",
        "    im_r = []\n",
        "    im_f = []\n",
        "    ls = []\n",
        "\n",
        "    ids = [\"001\",\"002\",\"003\",'004','005','006','007','008','009','010','011','012','013','014','015','016','017','018','019','020','021','022',\n",
        "           '023','024','025','026','027','028','029','030']\n",
        "    \n",
        "    for i in ids:\n",
        "        imr, imf, labels = generate_data(i)\n",
        "        \n",
        "        # similar batch\n",
        "        for i in imr:\n",
        "            for j in imr:\n",
        "                im_r.append(img_to_array(features_dict[i][0]))\n",
        "                im_f.append(img_to_array(features_dict[j][0]))\n",
        "                ls.append(1) # they are similar\n",
        "        \n",
        "        # not similar batch\n",
        "        for k in imf:\n",
        "            for l in imf:\n",
        "                im_r.append(img_to_array(features_dict[k][0]))\n",
        "                im_f.append(img_to_array(features_dict[l][0]))\n",
        "                ls.append(0) # they are not similar\n",
        "    \n",
        "    print(len(im_r), len(im_f))\n",
        "    pairs = np.stack([im_r, im_f], axis=1)\n",
        "    ls = np.array(ls)\n",
        "    \n",
        "    x_train, x_test, y_train, y_test = train_test_split(pairs, ls, test_size=test_size, random_state=42)\n",
        "    x_train, x_val, y_train, y_val = train_test_split(x_train, y_train, test_size=0.25, random_state=42)\n",
        "    return x_train, y_train, x_test, y_test, x_val, y_val, pairs, ls    \n",
        "        "
      ]
    },
    {
      "cell_type": "code",
      "execution_count": null,
      "metadata": {
        "id": "lmgiF3dbE5A0",
        "outputId": "f7ad54c1-7bae-48de-e181-2b369b1e0f53"
      },
      "outputs": [
        {
          "name": "stdout",
          "output_type": "stream",
          "text": [
            "10781 10781\n"
          ]
        }
      ],
      "source": [
        "x_train, y_train, x_test, y_test, x_val, y_val, pairs, ls = generate_dataset_approach_two()"
      ]
    },
    {
      "cell_type": "markdown",
      "metadata": {
        "id": "F9fXnTI7E5A0"
      },
      "source": [
        "- Now we have the dataset generated. We will train the network."
      ]
    },
    {
      "cell_type": "code",
      "execution_count": null,
      "metadata": {
        "id": "FfcRxo95E5A0"
      },
      "outputs": [],
      "source": [
        "sm.fit([x_train[:,0], x_train[:,1]], y_train, epochs=1, validation_data=([x_test[:,0], x_test[:,1]], y_test))"
      ]
    },
    {
      "cell_type": "code",
      "execution_count": null,
      "metadata": {
        "id": "bVK4F2vIE5A0",
        "outputId": "c6927837-4f47-4c26-f43d-ed90ad8b3863"
      },
      "outputs": [
        {
          "data": {
            "image/png": "[encoded data removed]",
            "text/plain": [
              "<Figure size 432x288 with 1 Axes>"
            ]
          },
          "metadata": {
            "needs_background": "light"
          },
          "output_type": "display_data"
        },
        {
          "name": "stdout",
          "output_type": "stream",
          "text": [
            "Label:  0\n"
          ]
        },
        {
          "data": {
            "image/png": "[encoded data removed]",
            "text/plain": [
              "<Figure size 432x288 with 1 Axes>"
            ]
          },
          "metadata": {
            "needs_background": "light"
          },
          "output_type": "display_data"
        }
      ],
      "source": [
        "plt.imshow(x_train[:,0][0]/255.)\n",
        "plt.show()\n",
        "plt.imshow(x_train[:,0][1]/255.)\n",
        "print(\"Label: \",y_train[0])"
      ]
    },
    {
      "cell_type": "code",
      "execution_count": null,
      "metadata": {
        "id": "q6bkajvvE5A1"
      },
      "outputs": [],
      "source": [
        ""
      ]
    },
    {
      "cell_type": "code",
      "execution_count": null,
      "metadata": {
        "id": "Bbo9gKDrE5A1"
      },
      "outputs": [],
      "source": [
        ""
      ]
    }
  ],
  "metadata": {
    "kernelspec": {
      "display_name": "Python 3",
      "language": "python",
      "name": "python3"
    },
    "language_info": {
      "codemirror_mode": {
        "name": "ipython",
        "version": 3
      },
      "file_extension": ".py",
      "mimetype": "text/x-python",
      "name": "python",
      "nbconvert_exporter": "python",
      "pygments_lexer": "ipython3",
      "version": "3.8.5"
    },
    "colab": {
      "name": "SigNet.ipynb",
      "provenance": []
    },
    "accelerator": "GPU"
  },
  "nbformat": 4,
  "nbformat_minor": 0
}