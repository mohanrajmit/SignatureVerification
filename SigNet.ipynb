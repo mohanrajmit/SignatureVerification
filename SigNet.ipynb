{
  "cells": [
    {
      "cell_type": "code",
      "execution_count": 1,
      "metadata": {
        "id": "1tUe7ZADE5Ak"
      },
      "outputs": [],
      "source": [
        "import numpy as np\n",
        "import pandas as pd\n",
        "import tensorflow as tf\n",
        "from sklearn.metrics import accuracy_score\n",
        "import seaborn as sns\n",
        "from shutil import copy\n",
        "from tensorflow.keras.preprocessing.image import load_img, img_to_array\n",
        "from sklearn.model_selection import train_test_split\n",
        "from skimage.metrics import structural_similarity\n",
        "import matplotlib.pyplot as plt\n",
        "from sklearn.utils import shuffle\n",
        "import random\n",
        "import os\n",
        "\n",
        "np.random.seed(42)\n",
        "\n",
        "DATA_DIR = \"Dataset\""
      ]
    },
    {
      "cell_type": "code",
      "source": [
        "!git clone https://github.com/mohanrajmit/SignatureVerification.git"
      ],
      "metadata": {
        "colab": {
          "base_uri": "https://localhost:8080/"
        },
        "id": "uWtD8XhtFDBv",
        "outputId": "8f1b8f76-118c-4db9-b61e-bd1cd8c426cb"
      },
      "execution_count": 2,
      "outputs": [
        {
          "output_type": "stream",
          "name": "stdout",
          "text": [
            "Cloning into 'SignatureVerification'...\n",
            "remote: Enumerating objects: 12, done.\u001b[K\n",
            "remote: Counting objects: 100% (3/3), done.\u001b[K\n",
            "remote: Compressing objects: 100% (3/3), done.\u001b[K\n",
            "remote: Total 12 (delta 0), reused 0 (delta 0), pack-reused 9\u001b[K\n",
            "Unpacking objects: 100% (12/12), done.\n"
          ]
        }
      ]
    },
    {
      "cell_type": "code",
      "source": [
        "!unzip /content/SignatureVerification/Dataset.zip"
      ],
      "metadata": {
        "colab": {
          "base_uri": "https://localhost:8080/"
        },
        "id": "NEE35UstFIMo",
        "outputId": "37ca81a8-15d8-4199-990c-8fd1dd7d9e49"
      },
      "execution_count": 3,
      "outputs": [
        {
          "output_type": "stream",
          "name": "stdout",
          "text": [
            "Archive:  /content/SignatureVerification/Dataset.zip\n",
            "   creating: Dataset/dataset1/\n",
            "   creating: Dataset/dataset1/forge/\n",
            "  inflating: Dataset/dataset1/forge/02100001.png  \n",
            "  inflating: Dataset/dataset1/forge/02100002.png  \n",
            "  inflating: Dataset/dataset1/forge/02100003.png  \n",
            "  inflating: Dataset/dataset1/forge/02100004.png  \n",
            "  inflating: Dataset/dataset1/forge/02100005.png  \n",
            "  inflating: Dataset/dataset1/forge/02100006.png  \n",
            "  inflating: Dataset/dataset1/forge/02100007.png  \n",
            "  inflating: Dataset/dataset1/forge/02100008.png  \n",
            "  inflating: Dataset/dataset1/forge/02100009.png  \n",
            "  inflating: Dataset/dataset1/forge/02100010.png  \n",
            "  inflating: Dataset/dataset1/forge/02100011.png  \n",
            "  inflating: Dataset/dataset1/forge/02100012.png  \n",
            "  inflating: Dataset/dataset1/forge/02101001.png  \n",
            "  inflating: Dataset/dataset1/forge/02101002.png  \n",
            "  inflating: Dataset/dataset1/forge/02101003.png  \n",
            "  inflating: Dataset/dataset1/forge/02101004.png  \n",
            "  inflating: Dataset/dataset1/forge/02101005.png  \n",
            "  inflating: Dataset/dataset1/forge/02101006.png  \n",
            "  inflating: Dataset/dataset1/forge/02101007.png  \n",
            "  inflating: Dataset/dataset1/forge/02101008.png  \n",
            "  inflating: Dataset/dataset1/forge/02101009.png  \n",
            "  inflating: Dataset/dataset1/forge/02101010.png  \n",
            "  inflating: Dataset/dataset1/forge/02101011.png  \n",
            "  inflating: Dataset/dataset1/forge/02101012.png  \n",
            "  inflating: Dataset/dataset1/forge/02102001.png  \n",
            "  inflating: Dataset/dataset1/forge/02102002.png  \n",
            "  inflating: Dataset/dataset1/forge/02102003.png  \n",
            "  inflating: Dataset/dataset1/forge/02102004.png  \n",
            "  inflating: Dataset/dataset1/forge/02102005.png  \n",
            "  inflating: Dataset/dataset1/forge/02102006.png  \n",
            "  inflating: Dataset/dataset1/forge/02102007.png  \n",
            "  inflating: Dataset/dataset1/forge/02102008.png  \n",
            "  inflating: Dataset/dataset1/forge/02102009.png  \n",
            "  inflating: Dataset/dataset1/forge/02102010.png  \n",
            "  inflating: Dataset/dataset1/forge/02102011.png  \n",
            "  inflating: Dataset/dataset1/forge/02102012.png  \n",
            "  inflating: Dataset/dataset1/forge/02103001.png  \n",
            "  inflating: Dataset/dataset1/forge/02103002.png  \n",
            "  inflating: Dataset/dataset1/forge/02103003.png  \n",
            "  inflating: Dataset/dataset1/forge/02103004.png  \n",
            "  inflating: Dataset/dataset1/forge/02103005.png  \n",
            "  inflating: Dataset/dataset1/forge/02103006.png  \n",
            "  inflating: Dataset/dataset1/forge/02103007.png  \n",
            "  inflating: Dataset/dataset1/forge/02103008.png  \n",
            "  inflating: Dataset/dataset1/forge/02103009.png  \n",
            "  inflating: Dataset/dataset1/forge/02103010.png  \n",
            "  inflating: Dataset/dataset1/forge/02103011.png  \n",
            "  inflating: Dataset/dataset1/forge/02103012.png  \n",
            "  inflating: Dataset/dataset1/forge/02104001.png  \n",
            "  inflating: Dataset/dataset1/forge/02104002.png  \n",
            "  inflating: Dataset/dataset1/forge/02104003.png  \n",
            "  inflating: Dataset/dataset1/forge/02104004.png  \n",
            "  inflating: Dataset/dataset1/forge/02104005.png  \n",
            "  inflating: Dataset/dataset1/forge/02104006.png  \n",
            "  inflating: Dataset/dataset1/forge/02104007.png  \n",
            "  inflating: Dataset/dataset1/forge/02104008.png  \n",
            "  inflating: Dataset/dataset1/forge/02104009.png  \n",
            "  inflating: Dataset/dataset1/forge/02104010.png  \n",
            "  inflating: Dataset/dataset1/forge/02104011.png  \n",
            "  inflating: Dataset/dataset1/forge/02104012.png  \n",
            "   creating: Dataset/dataset1/real/\n",
            "  inflating: Dataset/dataset1/real/00100001.png  \n",
            "  inflating: Dataset/dataset1/real/00101001.png  \n",
            "  inflating: Dataset/dataset1/real/00102001.png  \n",
            "  inflating: Dataset/dataset1/real/00103001.png  \n",
            "  inflating: Dataset/dataset1/real/00104001.png  \n",
            "  inflating: Dataset/dataset1/real/00200002.png  \n",
            "  inflating: Dataset/dataset1/real/00201002.png  \n",
            "  inflating: Dataset/dataset1/real/00202002.png  \n",
            "  inflating: Dataset/dataset1/real/00203002.png  \n",
            "  inflating: Dataset/dataset1/real/00204002.png  \n",
            "  inflating: Dataset/dataset1/real/00300003.png  \n",
            "  inflating: Dataset/dataset1/real/00301003.png  \n",
            "  inflating: Dataset/dataset1/real/00302003.png  \n",
            "  inflating: Dataset/dataset1/real/00303003.png  \n",
            "  inflating: Dataset/dataset1/real/00304003.png  \n",
            "  inflating: Dataset/dataset1/real/00400004.png  \n",
            "  inflating: Dataset/dataset1/real/00401004.png  \n",
            "  inflating: Dataset/dataset1/real/00402004.png  \n",
            "  inflating: Dataset/dataset1/real/00403004.png  \n",
            "  inflating: Dataset/dataset1/real/00404004.png  \n",
            "  inflating: Dataset/dataset1/real/00500005.png  \n",
            "  inflating: Dataset/dataset1/real/00501005.png  \n",
            "  inflating: Dataset/dataset1/real/00502005.png  \n",
            "  inflating: Dataset/dataset1/real/00503005.png  \n",
            "  inflating: Dataset/dataset1/real/00504005.png  \n",
            "  inflating: Dataset/dataset1/real/00600006.png  \n",
            "  inflating: Dataset/dataset1/real/00601006.png  \n",
            "  inflating: Dataset/dataset1/real/00602006.png  \n",
            "  inflating: Dataset/dataset1/real/00603006.png  \n",
            "  inflating: Dataset/dataset1/real/00604006.png  \n",
            "  inflating: Dataset/dataset1/real/00700007.png  \n",
            "  inflating: Dataset/dataset1/real/00701007.png  \n",
            "  inflating: Dataset/dataset1/real/00702007.png  \n",
            "  inflating: Dataset/dataset1/real/00703007.png  \n",
            "  inflating: Dataset/dataset1/real/00704007.png  \n",
            "  inflating: Dataset/dataset1/real/00800008.png  \n",
            "  inflating: Dataset/dataset1/real/00801008.png  \n",
            "  inflating: Dataset/dataset1/real/00802008.png  \n",
            "  inflating: Dataset/dataset1/real/00803008.png  \n",
            "  inflating: Dataset/dataset1/real/00804008.png  \n",
            "  inflating: Dataset/dataset1/real/00900009.png  \n",
            "  inflating: Dataset/dataset1/real/00901009.png  \n",
            "  inflating: Dataset/dataset1/real/00902009.png  \n",
            "  inflating: Dataset/dataset1/real/00903009.png  \n",
            "  inflating: Dataset/dataset1/real/00904009.png  \n",
            "  inflating: Dataset/dataset1/real/01000010.png  \n",
            "  inflating: Dataset/dataset1/real/01001010.png  \n",
            "  inflating: Dataset/dataset1/real/01002010.png  \n",
            "  inflating: Dataset/dataset1/real/01003010.png  \n",
            "  inflating: Dataset/dataset1/real/01004010.png  \n",
            "  inflating: Dataset/dataset1/real/01100011.png  \n",
            "  inflating: Dataset/dataset1/real/01101011.png  \n",
            "  inflating: Dataset/dataset1/real/01102011.png  \n",
            "  inflating: Dataset/dataset1/real/01103011.png  \n",
            "  inflating: Dataset/dataset1/real/01104011.png  \n",
            "  inflating: Dataset/dataset1/real/01200012.png  \n",
            "  inflating: Dataset/dataset1/real/01201012.png  \n",
            "  inflating: Dataset/dataset1/real/01202012.png  \n",
            "  inflating: Dataset/dataset1/real/01203012.png  \n",
            "  inflating: Dataset/dataset1/real/01204012.png  \n",
            "   creating: Dataset/dataset2/\n",
            "   creating: Dataset/dataset2/forge/\n",
            "  inflating: Dataset/dataset2/forge/02101003.png  \n",
            "  inflating: Dataset/dataset2/forge/02101004.png  \n",
            "  inflating: Dataset/dataset2/forge/02101005.png  \n",
            "  inflating: Dataset/dataset2/forge/02101006.png  \n",
            "  inflating: Dataset/dataset2/forge/02101007.png  \n",
            "  inflating: Dataset/dataset2/forge/02101008.png  \n",
            "  inflating: Dataset/dataset2/forge/02101009.png  \n",
            "  inflating: Dataset/dataset2/forge/02101011.png  \n",
            "  inflating: Dataset/dataset2/forge/02101012.png  \n",
            "  inflating: Dataset/dataset2/forge/02102003.png  \n",
            "  inflating: Dataset/dataset2/forge/02102004.png  \n",
            "  inflating: Dataset/dataset2/forge/02102005.png  \n",
            "  inflating: Dataset/dataset2/forge/02102006.png  \n",
            "  inflating: Dataset/dataset2/forge/02102007.png  \n",
            "  inflating: Dataset/dataset2/forge/02102008.png  \n",
            "  inflating: Dataset/dataset2/forge/02102009.png  \n",
            "  inflating: Dataset/dataset2/forge/02102011.png  \n",
            "  inflating: Dataset/dataset2/forge/02102012.png  \n",
            "  inflating: Dataset/dataset2/forge/02103003.png  \n",
            "  inflating: Dataset/dataset2/forge/02103004.png  \n",
            "  inflating: Dataset/dataset2/forge/02103005.png  \n",
            "  inflating: Dataset/dataset2/forge/02103006.png  \n",
            "  inflating: Dataset/dataset2/forge/02103007.png  \n",
            "  inflating: Dataset/dataset2/forge/02103008.png  \n",
            "  inflating: Dataset/dataset2/forge/02103009.png  \n",
            "  inflating: Dataset/dataset2/forge/02103011.png  \n",
            "  inflating: Dataset/dataset2/forge/02103012.png  \n",
            "  inflating: Dataset/dataset2/forge/02104003.png  \n",
            "  inflating: Dataset/dataset2/forge/02104004.png  \n",
            "  inflating: Dataset/dataset2/forge/02104005.png  \n",
            "  inflating: Dataset/dataset2/forge/02104006.png  \n",
            "  inflating: Dataset/dataset2/forge/02104007.png  \n",
            "  inflating: Dataset/dataset2/forge/02104008.png  \n",
            "  inflating: Dataset/dataset2/forge/02104009.png  \n",
            "  inflating: Dataset/dataset2/forge/02104011.png  \n",
            "  inflating: Dataset/dataset2/forge/02104012.png  \n",
            "  inflating: Dataset/dataset2/forge/02105003.png  \n",
            "  inflating: Dataset/dataset2/forge/02105004.png  \n",
            "  inflating: Dataset/dataset2/forge/02105005.png  \n",
            "  inflating: Dataset/dataset2/forge/02105006.png  \n",
            "  inflating: Dataset/dataset2/forge/02105007.png  \n",
            "  inflating: Dataset/dataset2/forge/02105008.png  \n",
            "  inflating: Dataset/dataset2/forge/02105009.png  \n",
            "  inflating: Dataset/dataset2/forge/02105011.png  \n",
            "  inflating: Dataset/dataset2/forge/02105012.png  \n",
            "  inflating: Dataset/dataset2/forge/02201001.png  \n",
            "  inflating: Dataset/dataset2/forge/02201002.png  \n",
            "  inflating: Dataset/dataset2/forge/02201010.png  \n",
            "  inflating: Dataset/dataset2/forge/02202001.png  \n",
            "  inflating: Dataset/dataset2/forge/02202002.png  \n",
            "  inflating: Dataset/dataset2/forge/02202010.png  \n",
            "  inflating: Dataset/dataset2/forge/02203001.png  \n",
            "  inflating: Dataset/dataset2/forge/02203002.png  \n",
            "  inflating: Dataset/dataset2/forge/02203010.png  \n",
            "  inflating: Dataset/dataset2/forge/02204001.png  \n",
            "  inflating: Dataset/dataset2/forge/02204002.png  \n",
            "  inflating: Dataset/dataset2/forge/02204010.png  \n",
            "  inflating: Dataset/dataset2/forge/02205001.png  \n",
            "  inflating: Dataset/dataset2/forge/02205002.png  \n",
            "  inflating: Dataset/dataset2/forge/02205010.png  \n",
            "   creating: Dataset/dataset2/real/\n",
            "  inflating: Dataset/dataset2/real/00101001.png  \n",
            "  inflating: Dataset/dataset2/real/00102001.png  \n",
            "  inflating: Dataset/dataset2/real/00103001.png  \n",
            "  inflating: Dataset/dataset2/real/00104001.png  \n",
            "  inflating: Dataset/dataset2/real/00105001.png  \n",
            "  inflating: Dataset/dataset2/real/00201002.png  \n",
            "  inflating: Dataset/dataset2/real/00202002.png  \n",
            "  inflating: Dataset/dataset2/real/00203002.png  \n",
            "  inflating: Dataset/dataset2/real/00204002.png  \n",
            "  inflating: Dataset/dataset2/real/00205002.png  \n",
            "  inflating: Dataset/dataset2/real/00301003.png  \n",
            "  inflating: Dataset/dataset2/real/00302003.png  \n",
            "  inflating: Dataset/dataset2/real/00303003.png  \n",
            "  inflating: Dataset/dataset2/real/00304003.png  \n",
            "  inflating: Dataset/dataset2/real/00305003.png  \n",
            "  inflating: Dataset/dataset2/real/00401004.png  \n",
            "  inflating: Dataset/dataset2/real/00402004.png  \n",
            "  inflating: Dataset/dataset2/real/00403004.png  \n",
            "  inflating: Dataset/dataset2/real/00404004.png  \n",
            "  inflating: Dataset/dataset2/real/00405004.png  \n",
            "  inflating: Dataset/dataset2/real/00501005.png  \n",
            "  inflating: Dataset/dataset2/real/00502005.png  \n",
            "  inflating: Dataset/dataset2/real/00503005.png  \n",
            "  inflating: Dataset/dataset2/real/00504005.png  \n",
            "  inflating: Dataset/dataset2/real/00505005.png  \n",
            "  inflating: Dataset/dataset2/real/00601006.png  \n",
            "  inflating: Dataset/dataset2/real/00602006.png  \n",
            "  inflating: Dataset/dataset2/real/00603006.png  \n",
            "  inflating: Dataset/dataset2/real/00604006.png  \n",
            "  inflating: Dataset/dataset2/real/00605006.png  \n",
            "  inflating: Dataset/dataset2/real/00701007.png  \n",
            "  inflating: Dataset/dataset2/real/00702007.png  \n",
            "  inflating: Dataset/dataset2/real/00703007.png  \n",
            "  inflating: Dataset/dataset2/real/00704007.png  \n",
            "  inflating: Dataset/dataset2/real/00705007.png  \n",
            "  inflating: Dataset/dataset2/real/00801008.png  \n",
            "  inflating: Dataset/dataset2/real/00802008.png  \n",
            "  inflating: Dataset/dataset2/real/00803008.png  \n",
            "  inflating: Dataset/dataset2/real/00804008.png  \n",
            "  inflating: Dataset/dataset2/real/00805008.png  \n",
            "  inflating: Dataset/dataset2/real/00901009.png  \n",
            "  inflating: Dataset/dataset2/real/00902009.png  \n",
            "  inflating: Dataset/dataset2/real/00903009.png  \n",
            "  inflating: Dataset/dataset2/real/00904009.png  \n",
            "  inflating: Dataset/dataset2/real/00905009.png  \n",
            "  inflating: Dataset/dataset2/real/01001010.png  \n",
            "  inflating: Dataset/dataset2/real/01002010.png  \n",
            "  inflating: Dataset/dataset2/real/01003010.png  \n",
            "  inflating: Dataset/dataset2/real/01004010.png  \n",
            "  inflating: Dataset/dataset2/real/01005010.png  \n",
            "  inflating: Dataset/dataset2/real/01101011.png  \n",
            "  inflating: Dataset/dataset2/real/01102011.png  \n",
            "  inflating: Dataset/dataset2/real/01103011.png  \n",
            "  inflating: Dataset/dataset2/real/01104011.png  \n",
            "  inflating: Dataset/dataset2/real/01105011.png  \n",
            "  inflating: Dataset/dataset2/real/01201012.png  \n",
            "  inflating: Dataset/dataset2/real/01202012.png  \n",
            "  inflating: Dataset/dataset2/real/01203012.png  \n",
            "  inflating: Dataset/dataset2/real/01204012.png  \n",
            "  inflating: Dataset/dataset2/real/01205012.png  \n",
            "   creating: Dataset/dataset3/\n",
            "   creating: Dataset/dataset3/forge/\n",
            "  inflating: Dataset/dataset3/forge/00101014.png  \n",
            "  inflating: Dataset/dataset3/forge/00101019.png  \n",
            "  inflating: Dataset/dataset3/forge/00101025.png  \n",
            "  inflating: Dataset/dataset3/forge/00101026.png  \n",
            "  inflating: Dataset/dataset3/forge/00101027.png  \n",
            "  inflating: Dataset/dataset3/forge/00101028.png  \n",
            "  inflating: Dataset/dataset3/forge/00101029.png  \n",
            "  inflating: Dataset/dataset3/forge/00101030.png  \n",
            "  inflating: Dataset/dataset3/forge/00102014.png  \n",
            "  inflating: Dataset/dataset3/forge/00102019.png  \n",
            "  inflating: Dataset/dataset3/forge/00102025.png  \n",
            "  inflating: Dataset/dataset3/forge/00102026.png  \n",
            "  inflating: Dataset/dataset3/forge/00102027.png  \n",
            "  inflating: Dataset/dataset3/forge/00102028.png  \n",
            "  inflating: Dataset/dataset3/forge/00102029.png  \n",
            "  inflating: Dataset/dataset3/forge/00102030.png  \n",
            "  inflating: Dataset/dataset3/forge/00103014.png  \n",
            "  inflating: Dataset/dataset3/forge/00103019.png  \n",
            "  inflating: Dataset/dataset3/forge/00103025.png  \n",
            "  inflating: Dataset/dataset3/forge/00103026.png  \n",
            "  inflating: Dataset/dataset3/forge/00103027.png  \n",
            "  inflating: Dataset/dataset3/forge/00103028.png  \n",
            "  inflating: Dataset/dataset3/forge/00103029.png  \n",
            "  inflating: Dataset/dataset3/forge/00103030.png  \n",
            "  inflating: Dataset/dataset3/forge/00104014.png  \n",
            "  inflating: Dataset/dataset3/forge/00104019.png  \n",
            "  inflating: Dataset/dataset3/forge/00104025.png  \n",
            "  inflating: Dataset/dataset3/forge/00104026.png  \n",
            "  inflating: Dataset/dataset3/forge/00104027.png  \n",
            "  inflating: Dataset/dataset3/forge/00104028.png  \n",
            "  inflating: Dataset/dataset3/forge/00104029.png  \n",
            "  inflating: Dataset/dataset3/forge/00104030.png  \n",
            "  inflating: Dataset/dataset3/forge/00105014.png  \n",
            "  inflating: Dataset/dataset3/forge/00105019.png  \n",
            "  inflating: Dataset/dataset3/forge/00105025.png  \n",
            "  inflating: Dataset/dataset3/forge/00105026.png  \n",
            "  inflating: Dataset/dataset3/forge/00105027.png  \n",
            "  inflating: Dataset/dataset3/forge/00105028.png  \n",
            "  inflating: Dataset/dataset3/forge/00105029.png  \n",
            "  inflating: Dataset/dataset3/forge/00105030.png  \n",
            "  inflating: Dataset/dataset3/forge/00301001.png  \n",
            "  inflating: Dataset/dataset3/forge/00301002.png  \n",
            "  inflating: Dataset/dataset3/forge/00301005.png  \n",
            "  inflating: Dataset/dataset3/forge/00301009.png  \n",
            "  inflating: Dataset/dataset3/forge/00301018.png  \n",
            "  inflating: Dataset/dataset3/forge/00302001.png  \n",
            "  inflating: Dataset/dataset3/forge/00302002.png  \n",
            "  inflating: Dataset/dataset3/forge/00302005.png  \n",
            "  inflating: Dataset/dataset3/forge/00302009.png  \n",
            "  inflating: Dataset/dataset3/forge/00302018.png  \n",
            "  inflating: Dataset/dataset3/forge/00303001.png  \n",
            "  inflating: Dataset/dataset3/forge/00303002.png  \n",
            "  inflating: Dataset/dataset3/forge/00303005.png  \n",
            "  inflating: Dataset/dataset3/forge/00303009.png  \n",
            "  inflating: Dataset/dataset3/forge/00303018.png  \n",
            "  inflating: Dataset/dataset3/forge/00304001.png  \n",
            "  inflating: Dataset/dataset3/forge/00304002.png  \n",
            "  inflating: Dataset/dataset3/forge/00304005.png  \n",
            "  inflating: Dataset/dataset3/forge/00304009.png  \n",
            "  inflating: Dataset/dataset3/forge/00304018.png  \n",
            "  inflating: Dataset/dataset3/forge/00305001.png  \n",
            "  inflating: Dataset/dataset3/forge/00305002.png  \n",
            "  inflating: Dataset/dataset3/forge/00305005.png  \n",
            "  inflating: Dataset/dataset3/forge/00305009.png  \n",
            "  inflating: Dataset/dataset3/forge/00305018.png  \n",
            "  inflating: Dataset/dataset3/forge/00401003.png  \n",
            "  inflating: Dataset/dataset3/forge/00401007.png  \n",
            "  inflating: Dataset/dataset3/forge/00401013.png  \n",
            "  inflating: Dataset/dataset3/forge/00401024.png  \n",
            "  inflating: Dataset/dataset3/forge/00402003.png  \n",
            "  inflating: Dataset/dataset3/forge/00402007.png  \n",
            "  inflating: Dataset/dataset3/forge/00402013.png  \n",
            "  inflating: Dataset/dataset3/forge/00402024.png  \n",
            "  inflating: Dataset/dataset3/forge/00403003.png  \n",
            "  inflating: Dataset/dataset3/forge/00403007.png  \n",
            "  inflating: Dataset/dataset3/forge/00403013.png  \n",
            "  inflating: Dataset/dataset3/forge/00403024.png  \n",
            "  inflating: Dataset/dataset3/forge/00404003.png  \n",
            "  inflating: Dataset/dataset3/forge/00404007.png  \n",
            "  inflating: Dataset/dataset3/forge/00404013.png  \n",
            "  inflating: Dataset/dataset3/forge/00404024.png  \n",
            "  inflating: Dataset/dataset3/forge/00405003.png  \n",
            "  inflating: Dataset/dataset3/forge/00405007.png  \n",
            "  inflating: Dataset/dataset3/forge/00405013.png  \n",
            "  inflating: Dataset/dataset3/forge/00405024.png  \n",
            "  inflating: Dataset/dataset3/forge/00501015.png  \n",
            "  inflating: Dataset/dataset3/forge/00501022.png  \n",
            "  inflating: Dataset/dataset3/forge/00502015.png  \n",
            "  inflating: Dataset/dataset3/forge/00502022.png  \n",
            "  inflating: Dataset/dataset3/forge/00503015.png  \n",
            "  inflating: Dataset/dataset3/forge/00503022.png  \n",
            "  inflating: Dataset/dataset3/forge/00504015.png  \n",
            "  inflating: Dataset/dataset3/forge/00504022.png  \n",
            "  inflating: Dataset/dataset3/forge/00505015.png  \n",
            "  inflating: Dataset/dataset3/forge/00505022.png  \n",
            "  inflating: Dataset/dataset3/forge/00701011.png  \n",
            "  inflating: Dataset/dataset3/forge/00701023.png  \n",
            "  inflating: Dataset/dataset3/forge/00702011.png  \n",
            "  inflating: Dataset/dataset3/forge/00702023.png  \n",
            "  inflating: Dataset/dataset3/forge/00703011.png  \n",
            "  inflating: Dataset/dataset3/forge/00703023.png  \n",
            "  inflating: Dataset/dataset3/forge/00704011.png  \n",
            "  inflating: Dataset/dataset3/forge/00704023.png  \n",
            "  inflating: Dataset/dataset3/forge/00705011.png  \n",
            "  inflating: Dataset/dataset3/forge/00705023.png  \n",
            "  inflating: Dataset/dataset3/forge/01101012.png  \n",
            "  inflating: Dataset/dataset3/forge/01101016.png  \n",
            "  inflating: Dataset/dataset3/forge/01102012.png  \n",
            "  inflating: Dataset/dataset3/forge/01102016.png  \n",
            "  inflating: Dataset/dataset3/forge/01103012.png  \n",
            "  inflating: Dataset/dataset3/forge/01103016.png  \n",
            "  inflating: Dataset/dataset3/forge/01104012.png  \n",
            "  inflating: Dataset/dataset3/forge/01104016.png  \n",
            "  inflating: Dataset/dataset3/forge/01105012.png  \n",
            "  inflating: Dataset/dataset3/forge/01105016.png  \n",
            "  inflating: Dataset/dataset3/forge/01201021.png  \n",
            "  inflating: Dataset/dataset3/forge/01202021.png  \n",
            "  inflating: Dataset/dataset3/forge/01203021.png  \n",
            "  inflating: Dataset/dataset3/forge/01204021.png  \n",
            "  inflating: Dataset/dataset3/forge/01205021.png  \n",
            "  inflating: Dataset/dataset3/forge/01301017.png  \n",
            "  inflating: Dataset/dataset3/forge/01302017.png  \n",
            "  inflating: Dataset/dataset3/forge/01303017.png  \n",
            "  inflating: Dataset/dataset3/forge/01304017.png  \n",
            "  inflating: Dataset/dataset3/forge/01305017.png  \n",
            "  inflating: Dataset/dataset3/forge/01701020.png  \n",
            "  inflating: Dataset/dataset3/forge/01702020.png  \n",
            "  inflating: Dataset/dataset3/forge/01703020.png  \n",
            "  inflating: Dataset/dataset3/forge/01704020.png  \n",
            "  inflating: Dataset/dataset3/forge/01705020.png  \n",
            "  inflating: Dataset/dataset3/forge/02301008.png  \n",
            "  inflating: Dataset/dataset3/forge/02303008.png  \n",
            "  inflating: Dataset/dataset3/forge/02304008.png  \n",
            "  inflating: Dataset/dataset3/forge/02305008.png  \n",
            "  inflating: Dataset/dataset3/forge/02306008.png  \n",
            "  inflating: Dataset/dataset3/forge/02501010.png  \n",
            "  inflating: Dataset/dataset3/forge/02502010.png  \n",
            "  inflating: Dataset/dataset3/forge/02503010.png  \n",
            "  inflating: Dataset/dataset3/forge/02504010.png  \n",
            "  inflating: Dataset/dataset3/forge/02505009.png  \n",
            "  inflating: Dataset/dataset3/forge/03301006.png  \n",
            "  inflating: Dataset/dataset3/forge/03302006.png  \n",
            "  inflating: Dataset/dataset3/forge/03303006.png  \n",
            "  inflating: Dataset/dataset3/forge/03304006.png  \n",
            "  inflating: Dataset/dataset3/forge/03305006.png  \n",
            "  inflating: Dataset/dataset3/forge/08801004.png  \n",
            "  inflating: Dataset/dataset3/forge/08802004.png  \n",
            "  inflating: Dataset/dataset3/forge/08803004.png  \n",
            "  inflating: Dataset/dataset3/forge/08804004.png  \n",
            "  inflating: Dataset/dataset3/forge/08805004.png  \n",
            "   creating: Dataset/dataset3/real/\n",
            "  inflating: Dataset/dataset3/real/00101001.png  \n",
            "  inflating: Dataset/dataset3/real/00102001.png  \n",
            "  inflating: Dataset/dataset3/real/00103001.png  \n",
            "  inflating: Dataset/dataset3/real/00104001.png  \n",
            "  inflating: Dataset/dataset3/real/00105001.png  \n",
            "  inflating: Dataset/dataset3/real/00201002.png  \n",
            "  inflating: Dataset/dataset3/real/00202002.png  \n",
            "  inflating: Dataset/dataset3/real/00203002.png  \n",
            "  inflating: Dataset/dataset3/real/00204002.png  \n",
            "  inflating: Dataset/dataset3/real/00205002.png  \n",
            "  inflating: Dataset/dataset3/real/00301003.png  \n",
            "  inflating: Dataset/dataset3/real/00302003.png  \n",
            "  inflating: Dataset/dataset3/real/00303003.png  \n",
            "  inflating: Dataset/dataset3/real/00304003.png  \n",
            "  inflating: Dataset/dataset3/real/00305003.png  \n",
            "  inflating: Dataset/dataset3/real/00401004.png  \n",
            "  inflating: Dataset/dataset3/real/00402004.png  \n",
            "  inflating: Dataset/dataset3/real/00403004.png  \n",
            "  inflating: Dataset/dataset3/real/00404004.png  \n",
            "  inflating: Dataset/dataset3/real/00405004.png  \n",
            "  inflating: Dataset/dataset3/real/00501005.png  \n",
            "  inflating: Dataset/dataset3/real/00502005.png  \n",
            "  inflating: Dataset/dataset3/real/00503005.png  \n",
            "  inflating: Dataset/dataset3/real/00504005.png  \n",
            "  inflating: Dataset/dataset3/real/00505005.png  \n",
            "  inflating: Dataset/dataset3/real/00601006.png  \n",
            "  inflating: Dataset/dataset3/real/00602006.png  \n",
            "  inflating: Dataset/dataset3/real/00603006.png  \n",
            "  inflating: Dataset/dataset3/real/00604006.png  \n",
            "  inflating: Dataset/dataset3/real/00605006.png  \n",
            "  inflating: Dataset/dataset3/real/00701007.png  \n",
            "  inflating: Dataset/dataset3/real/00702007.png  \n",
            "  inflating: Dataset/dataset3/real/00703007.png  \n",
            "  inflating: Dataset/dataset3/real/00704007.png  \n",
            "  inflating: Dataset/dataset3/real/00705007.png  \n",
            "  inflating: Dataset/dataset3/real/00801008.png  \n",
            "  inflating: Dataset/dataset3/real/00802008.png  \n",
            "  inflating: Dataset/dataset3/real/00803008.png  \n",
            "  inflating: Dataset/dataset3/real/00804008.png  \n",
            "  inflating: Dataset/dataset3/real/00805008.png  \n",
            "  inflating: Dataset/dataset3/real/00901009.png  \n",
            "  inflating: Dataset/dataset3/real/00902009.png  \n",
            "  inflating: Dataset/dataset3/real/00903009.png  \n",
            "  inflating: Dataset/dataset3/real/00904009.png  \n",
            "  inflating: Dataset/dataset3/real/00905009.png  \n",
            "  inflating: Dataset/dataset3/real/01001010.png  \n",
            "  inflating: Dataset/dataset3/real/01002010.png  \n",
            "  inflating: Dataset/dataset3/real/01003010.png  \n",
            "  inflating: Dataset/dataset3/real/01004010.png  \n",
            "  inflating: Dataset/dataset3/real/01005010.png  \n",
            "  inflating: Dataset/dataset3/real/01101011.png  \n",
            "  inflating: Dataset/dataset3/real/01102011.png  \n",
            "  inflating: Dataset/dataset3/real/01103011.png  \n",
            "  inflating: Dataset/dataset3/real/01104011.png  \n",
            "  inflating: Dataset/dataset3/real/01105011.png  \n",
            "  inflating: Dataset/dataset3/real/01201012.png  \n",
            "  inflating: Dataset/dataset3/real/01202012.png  \n",
            "  inflating: Dataset/dataset3/real/01203012.png  \n",
            "  inflating: Dataset/dataset3/real/01204012.png  \n",
            "  inflating: Dataset/dataset3/real/01205012.png  \n",
            "  inflating: Dataset/dataset3/real/01301013.png  \n",
            "  inflating: Dataset/dataset3/real/01302013.png  \n",
            "  inflating: Dataset/dataset3/real/01303013.png  \n",
            "  inflating: Dataset/dataset3/real/01304013.png  \n",
            "  inflating: Dataset/dataset3/real/01305013.png  \n",
            "  inflating: Dataset/dataset3/real/01401014.png  \n",
            "  inflating: Dataset/dataset3/real/01402014.png  \n",
            "  inflating: Dataset/dataset3/real/01403014.png  \n",
            "  inflating: Dataset/dataset3/real/01404014.png  \n",
            "  inflating: Dataset/dataset3/real/01405014.png  \n",
            "  inflating: Dataset/dataset3/real/01501015.png  \n",
            "  inflating: Dataset/dataset3/real/01502015.png  \n",
            "  inflating: Dataset/dataset3/real/01503015.png  \n",
            "  inflating: Dataset/dataset3/real/01504015.png  \n",
            "  inflating: Dataset/dataset3/real/01505015.png  \n",
            "  inflating: Dataset/dataset3/real/01601016.png  \n",
            "  inflating: Dataset/dataset3/real/01602016.png  \n",
            "  inflating: Dataset/dataset3/real/01603016.png  \n",
            "  inflating: Dataset/dataset3/real/01604016.png  \n",
            "  inflating: Dataset/dataset3/real/01605016.png  \n",
            "  inflating: Dataset/dataset3/real/01701017.png  \n",
            "  inflating: Dataset/dataset3/real/01702017.png  \n",
            "  inflating: Dataset/dataset3/real/01703017.png  \n",
            "  inflating: Dataset/dataset3/real/01704017.png  \n",
            "  inflating: Dataset/dataset3/real/01705017.png  \n",
            "  inflating: Dataset/dataset3/real/01801018.png  \n",
            "  inflating: Dataset/dataset3/real/01802018.png  \n",
            "  inflating: Dataset/dataset3/real/01803018.png  \n",
            "  inflating: Dataset/dataset3/real/01804018.png  \n",
            "  inflating: Dataset/dataset3/real/01805018.png  \n",
            "  inflating: Dataset/dataset3/real/01901019.png  \n",
            "  inflating: Dataset/dataset3/real/01902019.png  \n",
            "  inflating: Dataset/dataset3/real/01903019.png  \n",
            "  inflating: Dataset/dataset3/real/01904019.png  \n",
            "  inflating: Dataset/dataset3/real/01905019.png  \n",
            "  inflating: Dataset/dataset3/real/02001020.png  \n",
            "  inflating: Dataset/dataset3/real/02002020.png  \n",
            "  inflating: Dataset/dataset3/real/02003020.png  \n",
            "  inflating: Dataset/dataset3/real/02004020.png  \n",
            "  inflating: Dataset/dataset3/real/02005020.png  \n",
            "  inflating: Dataset/dataset3/real/02101021.png  \n",
            "  inflating: Dataset/dataset3/real/02102021.png  \n",
            "  inflating: Dataset/dataset3/real/02103021.png  \n",
            "  inflating: Dataset/dataset3/real/02104021.png  \n",
            "  inflating: Dataset/dataset3/real/02105021.png  \n",
            "  inflating: Dataset/dataset3/real/02201022.png  \n",
            "  inflating: Dataset/dataset3/real/02202022.png  \n",
            "  inflating: Dataset/dataset3/real/02203022.png  \n",
            "  inflating: Dataset/dataset3/real/02204022.png  \n",
            "  inflating: Dataset/dataset3/real/02205022.png  \n",
            "  inflating: Dataset/dataset3/real/02301023.png  \n",
            "  inflating: Dataset/dataset3/real/02302023.png  \n",
            "  inflating: Dataset/dataset3/real/02303023.png  \n",
            "  inflating: Dataset/dataset3/real/02304023.png  \n",
            "  inflating: Dataset/dataset3/real/02305023.png  \n",
            "  inflating: Dataset/dataset3/real/02401024.png  \n",
            "  inflating: Dataset/dataset3/real/02402024.png  \n",
            "  inflating: Dataset/dataset3/real/02403024.png  \n",
            "  inflating: Dataset/dataset3/real/02404024.png  \n",
            "  inflating: Dataset/dataset3/real/02405024.png  \n",
            "  inflating: Dataset/dataset3/real/02501025.png  \n",
            "  inflating: Dataset/dataset3/real/02502025.png  \n",
            "  inflating: Dataset/dataset3/real/02503025.png  \n",
            "  inflating: Dataset/dataset3/real/02504025.png  \n",
            "  inflating: Dataset/dataset3/real/02505025.png  \n",
            "  inflating: Dataset/dataset3/real/02601026.png  \n",
            "  inflating: Dataset/dataset3/real/02602026.png  \n",
            "  inflating: Dataset/dataset3/real/02603026.png  \n",
            "  inflating: Dataset/dataset3/real/02604026.png  \n",
            "  inflating: Dataset/dataset3/real/02605026.png  \n",
            "  inflating: Dataset/dataset3/real/02701027.png  \n",
            "  inflating: Dataset/dataset3/real/02702027.png  \n",
            "  inflating: Dataset/dataset3/real/02703027.png  \n",
            "  inflating: Dataset/dataset3/real/02704027.png  \n",
            "  inflating: Dataset/dataset3/real/02705027.png  \n",
            "  inflating: Dataset/dataset3/real/02801028.png  \n",
            "  inflating: Dataset/dataset3/real/02802028.png  \n",
            "  inflating: Dataset/dataset3/real/02803028.png  \n",
            "  inflating: Dataset/dataset3/real/02804028.png  \n",
            "  inflating: Dataset/dataset3/real/02805028.png  \n",
            "  inflating: Dataset/dataset3/real/02901029.png  \n",
            "  inflating: Dataset/dataset3/real/02902029.png  \n",
            "  inflating: Dataset/dataset3/real/02903029.png  \n",
            "  inflating: Dataset/dataset3/real/02904029.png  \n",
            "  inflating: Dataset/dataset3/real/02905029.png  \n",
            "  inflating: Dataset/dataset3/real/03001030.png  \n",
            "  inflating: Dataset/dataset3/real/03002030.png  \n",
            "  inflating: Dataset/dataset3/real/03003030.png  \n",
            "  inflating: Dataset/dataset3/real/03004030.png  \n",
            "  inflating: Dataset/dataset3/real/03005030.png  \n",
            "   creating: Dataset/dataset4/\n",
            "   creating: Dataset/dataset4/forge/\n",
            "  inflating: Dataset/dataset4/forge/00301002.png  \n",
            "  inflating: Dataset/dataset4/forge/00301035.png  \n",
            "  inflating: Dataset/dataset4/forge/00301046.png  \n",
            "  inflating: Dataset/dataset4/forge/00302002.png  \n",
            "  inflating: Dataset/dataset4/forge/00302035.png  \n",
            "  inflating: Dataset/dataset4/forge/00302046.png  \n",
            "  inflating: Dataset/dataset4/forge/00303002.png  \n",
            "  inflating: Dataset/dataset4/forge/00303035.png  \n",
            "  inflating: Dataset/dataset4/forge/00303046.png  \n",
            "  inflating: Dataset/dataset4/forge/00304002.png  \n",
            "  inflating: Dataset/dataset4/forge/00304035.png  \n",
            "  inflating: Dataset/dataset4/forge/00304046.png  \n",
            "  inflating: Dataset/dataset4/forge/00305002.png  \n",
            "  inflating: Dataset/dataset4/forge/00305035.png  \n",
            "  inflating: Dataset/dataset4/forge/00305046.png  \n",
            "  inflating: Dataset/dataset4/forge/00401024.png  \n",
            "  inflating: Dataset/dataset4/forge/00401044.png  \n",
            "  inflating: Dataset/dataset4/forge/00401063.png  \n",
            "  inflating: Dataset/dataset4/forge/00401092.png  \n",
            "  inflating: Dataset/dataset4/forge/00402024.png  \n",
            "  inflating: Dataset/dataset4/forge/00402044.png  \n",
            "  inflating: Dataset/dataset4/forge/00402063.png  \n",
            "  inflating: Dataset/dataset4/forge/00402092.png  \n",
            "  inflating: Dataset/dataset4/forge/00403024.png  \n",
            "  inflating: Dataset/dataset4/forge/00403044.png  \n",
            "  inflating: Dataset/dataset4/forge/00403063.png  \n",
            "  inflating: Dataset/dataset4/forge/00403092.png  \n",
            "  inflating: Dataset/dataset4/forge/00404024.png  \n",
            "  inflating: Dataset/dataset4/forge/00404044.png  \n",
            "  inflating: Dataset/dataset4/forge/00404063.png  \n",
            "  inflating: Dataset/dataset4/forge/00404092.png  \n",
            "  inflating: Dataset/dataset4/forge/00405024.png  \n",
            "  inflating: Dataset/dataset4/forge/00405044.png  \n",
            "  inflating: Dataset/dataset4/forge/00405063.png  \n",
            "  inflating: Dataset/dataset4/forge/00405092.png  \n",
            "  inflating: Dataset/dataset4/forge/01601077.png  \n",
            "  inflating: Dataset/dataset4/forge/01601089.png  \n",
            "  inflating: Dataset/dataset4/forge/01602033.png  \n",
            "  inflating: Dataset/dataset4/forge/01602077.png  \n",
            "  inflating: Dataset/dataset4/forge/01602089.png  \n",
            "  inflating: Dataset/dataset4/forge/01603033.png  \n",
            "  inflating: Dataset/dataset4/forge/01603077.png  \n",
            "  inflating: Dataset/dataset4/forge/01603089.png  \n",
            "  inflating: Dataset/dataset4/forge/01604033.png  \n",
            "  inflating: Dataset/dataset4/forge/01604077.png  \n",
            "  inflating: Dataset/dataset4/forge/01604089.png  \n",
            "  inflating: Dataset/dataset4/forge/01605033.png  \n",
            "  inflating: Dataset/dataset4/forge/01605077.png  \n",
            "  inflating: Dataset/dataset4/forge/01605089.png  \n",
            "  inflating: Dataset/dataset4/forge/01701033.png  \n",
            "  inflating: Dataset/dataset4/forge/02301008.png  \n",
            "  inflating: Dataset/dataset4/forge/02301070.png  \n",
            "  inflating: Dataset/dataset4/forge/02301093.png  \n",
            "  inflating: Dataset/dataset4/forge/02302008.png  \n",
            "  inflating: Dataset/dataset4/forge/02302070.png  \n",
            "  inflating: Dataset/dataset4/forge/02302093.png  \n",
            "  inflating: Dataset/dataset4/forge/02303008.png  \n",
            "  inflating: Dataset/dataset4/forge/02303070.png  \n",
            "  inflating: Dataset/dataset4/forge/02303093.png  \n",
            "  inflating: Dataset/dataset4/forge/02304008.png  \n",
            "  inflating: Dataset/dataset4/forge/02304070.png  \n",
            "  inflating: Dataset/dataset4/forge/02304093.png  \n",
            "  inflating: Dataset/dataset4/forge/02305008.png  \n",
            "  inflating: Dataset/dataset4/forge/02305070.png  \n",
            "  inflating: Dataset/dataset4/forge/02305093.png  \n",
            "  inflating: Dataset/dataset4/forge/03201084.png  \n",
            "  inflating: Dataset/dataset4/forge/03201085.png  \n",
            "  inflating: Dataset/dataset4/forge/03201086.png  \n",
            "  inflating: Dataset/dataset4/forge/03202084.png  \n",
            "  inflating: Dataset/dataset4/forge/03202085.png  \n",
            "  inflating: Dataset/dataset4/forge/03202086.png  \n",
            "  inflating: Dataset/dataset4/forge/03203084.png  \n",
            "  inflating: Dataset/dataset4/forge/03203085.png  \n",
            "  inflating: Dataset/dataset4/forge/03203086.png  \n",
            "  inflating: Dataset/dataset4/forge/03204084.png  \n",
            "  inflating: Dataset/dataset4/forge/03204085.png  \n",
            "  inflating: Dataset/dataset4/forge/03204086.png  \n",
            "  inflating: Dataset/dataset4/forge/03205084.png  \n",
            "  inflating: Dataset/dataset4/forge/03205085.png  \n",
            "  inflating: Dataset/dataset4/forge/03205086.png  \n",
            "  inflating: Dataset/dataset4/forge/06101016.png  \n",
            "  inflating: Dataset/dataset4/forge/06101071.png  \n",
            "  inflating: Dataset/dataset4/forge/06102016.png  \n",
            "  inflating: Dataset/dataset4/forge/06102071.png  \n",
            "  inflating: Dataset/dataset4/forge/06103016.png  \n",
            "  inflating: Dataset/dataset4/forge/06103071.png  \n",
            "  inflating: Dataset/dataset4/forge/06104016.png  \n",
            "  inflating: Dataset/dataset4/forge/06104071.png  \n",
            "  inflating: Dataset/dataset4/forge/06105016.png  \n",
            "  inflating: Dataset/dataset4/forge/06105071.png  \n",
            "   creating: Dataset/dataset4/real1/\n",
            "  inflating: Dataset/dataset4/real1/00201002.png  \n",
            "  inflating: Dataset/dataset4/real1/00202002.png  \n",
            "  inflating: Dataset/dataset4/real1/00203002.png  \n",
            "  inflating: Dataset/dataset4/real1/00204002.png  \n",
            "  inflating: Dataset/dataset4/real1/00205002.png  \n",
            "  inflating: Dataset/dataset4/real1/00801008.png  \n",
            "  inflating: Dataset/dataset4/real1/00802008.png  \n",
            "  inflating: Dataset/dataset4/real1/00803008.png  \n",
            "  inflating: Dataset/dataset4/real1/00804008.png  \n",
            "  inflating: Dataset/dataset4/real1/00805008.png  \n",
            "  inflating: Dataset/dataset4/real1/01601016.png  \n",
            "  inflating: Dataset/dataset4/real1/01602016.png  \n",
            "  inflating: Dataset/dataset4/real1/01603016.png  \n",
            "  inflating: Dataset/dataset4/real1/01604016.png  \n",
            "  inflating: Dataset/dataset4/real1/01605016.png  \n",
            "  inflating: Dataset/dataset4/real1/02401024.png  \n",
            "  inflating: Dataset/dataset4/real1/02402024.png  \n",
            "  inflating: Dataset/dataset4/real1/02403024.png  \n",
            "  inflating: Dataset/dataset4/real1/02404024.png  \n",
            "  inflating: Dataset/dataset4/real1/02405024.png  \n",
            "  inflating: Dataset/dataset4/real1/03301033.png  \n",
            "  inflating: Dataset/dataset4/real1/03302033.png  \n",
            "  inflating: Dataset/dataset4/real1/03303033.png  \n",
            "  inflating: Dataset/dataset4/real1/03304033.png  \n",
            "  inflating: Dataset/dataset4/real1/03305033.png  \n",
            "  inflating: Dataset/dataset4/real1/03501035.png  \n",
            "  inflating: Dataset/dataset4/real1/03502035.png  \n",
            "  inflating: Dataset/dataset4/real1/03503035.png  \n",
            "  inflating: Dataset/dataset4/real1/03504035.png  \n",
            "  inflating: Dataset/dataset4/real1/03505035.png  \n",
            "  inflating: Dataset/dataset4/real1/04401044.png  \n",
            "  inflating: Dataset/dataset4/real1/04402044.png  \n",
            "  inflating: Dataset/dataset4/real1/04403044.png  \n",
            "  inflating: Dataset/dataset4/real1/04404044.png  \n",
            "  inflating: Dataset/dataset4/real1/04405044.png  \n",
            "  inflating: Dataset/dataset4/real1/04601046.png  \n",
            "  inflating: Dataset/dataset4/real1/04602046.png  \n",
            "  inflating: Dataset/dataset4/real1/04603046.png  \n",
            "  inflating: Dataset/dataset4/real1/04604046.png  \n",
            "  inflating: Dataset/dataset4/real1/04605046.png  \n",
            "  inflating: Dataset/dataset4/real1/06301063.png  \n",
            "  inflating: Dataset/dataset4/real1/06302063.png  \n",
            "  inflating: Dataset/dataset4/real1/06303063.png  \n",
            "  inflating: Dataset/dataset4/real1/06304063.png  \n",
            "  inflating: Dataset/dataset4/real1/06305063.png  \n",
            "  inflating: Dataset/dataset4/real1/07001070.png  \n",
            "  inflating: Dataset/dataset4/real1/07002070.png  \n",
            "  inflating: Dataset/dataset4/real1/07003070.png  \n",
            "  inflating: Dataset/dataset4/real1/07004070.png  \n",
            "  inflating: Dataset/dataset4/real1/07005070.png  \n",
            "  inflating: Dataset/dataset4/real1/07101071.png  \n",
            "  inflating: Dataset/dataset4/real1/07102071.png  \n",
            "  inflating: Dataset/dataset4/real1/07103071.png  \n",
            "  inflating: Dataset/dataset4/real1/07104071.png  \n",
            "  inflating: Dataset/dataset4/real1/07105071.png  \n",
            "  inflating: Dataset/dataset4/real1/07701077.png  \n",
            "  inflating: Dataset/dataset4/real1/07702077.png  \n",
            "  inflating: Dataset/dataset4/real1/07703077.png  \n",
            "  inflating: Dataset/dataset4/real1/07704077.png  \n",
            "  inflating: Dataset/dataset4/real1/07705077.png  \n",
            "  inflating: Dataset/dataset4/real1/08401084.png  \n",
            "  inflating: Dataset/dataset4/real1/08402084.png  \n",
            "  inflating: Dataset/dataset4/real1/08403084.png  \n",
            "  inflating: Dataset/dataset4/real1/08404084.png  \n",
            "  inflating: Dataset/dataset4/real1/08405084.png  \n",
            "  inflating: Dataset/dataset4/real1/08501085.png  \n",
            "  inflating: Dataset/dataset4/real1/08502085.png  \n",
            "  inflating: Dataset/dataset4/real1/08503085.png  \n",
            "  inflating: Dataset/dataset4/real1/08504085.png  \n",
            "  inflating: Dataset/dataset4/real1/08505085.png  \n",
            "  inflating: Dataset/dataset4/real1/08601086.png  \n",
            "  inflating: Dataset/dataset4/real1/08602086.png  \n",
            "  inflating: Dataset/dataset4/real1/08603086.png  \n",
            "  inflating: Dataset/dataset4/real1/08604086.png  \n",
            "  inflating: Dataset/dataset4/real1/08605086.png  \n",
            "  inflating: Dataset/dataset4/real1/08901089.png  \n",
            "  inflating: Dataset/dataset4/real1/08902089.png  \n",
            "  inflating: Dataset/dataset4/real1/08903089.png  \n",
            "  inflating: Dataset/dataset4/real1/08904089.png  \n",
            "  inflating: Dataset/dataset4/real1/08905089.png  \n",
            "  inflating: Dataset/dataset4/real1/09201092.png  \n",
            "  inflating: Dataset/dataset4/real1/09202092.png  \n",
            "  inflating: Dataset/dataset4/real1/09203092.png  \n",
            "  inflating: Dataset/dataset4/real1/09204092.png  \n",
            "  inflating: Dataset/dataset4/real1/09205092.png  \n",
            "  inflating: Dataset/dataset4/real1/09301093.png  \n",
            "  inflating: Dataset/dataset4/real1/09302093.png  \n",
            "  inflating: Dataset/dataset4/real1/09303093.png  \n",
            "  inflating: Dataset/dataset4/real1/09304093.png  \n",
            "  inflating: Dataset/dataset4/real1/09305093.png  \n"
          ]
        }
      ]
    },
    {
      "cell_type": "markdown",
      "metadata": {
        "id": "JUf3caqhE5Al"
      },
      "source": [
        "# <u>The Dataset</u>\n",
        "- We will be using the handwritten signatures dataset from Kaggle. (https://www.kaggle.com/divyanshrai/handwritten-signatures)\n",
        "- Like any project, we will first start by exploring and loading the data."
      ]
    },
    {
      "cell_type": "code",
      "execution_count": 6,
      "metadata": {
        "id": "N6XJ2--PE5Am"
      },
      "outputs": [],
      "source": [
        "def load_data(DATA_DIR=DATA_DIR, test_size=0.2, verbose=True, load_grayscale=True):\n",
        "    \"\"\"\n",
        "        Loads the data into a dataframe.\n",
        "        \n",
        "        Arguments:\n",
        "            DATA_DIR: str\n",
        "            test_size: float\n",
        "        Returns:\n",
        "            (x_train, y_train,x_test, y_test, x_val, y_val, df)\n",
        "    \"\"\"\n",
        "    features = []\n",
        "    features_forged = []\n",
        "    features_real = []\n",
        "    features_dict = {}\n",
        "    labels = [] # forged: 0 and real: 1\n",
        "    mode = \"rgb\"\n",
        "    if load_grayscale:\n",
        "        mode = \"grayscale\"\n",
        "    \n",
        "    for folder in os.listdir(DATA_DIR):\n",
        "        # forged images\n",
        "        if folder == '.DS_Store' or folder == '.ipynb_checkpoints':\n",
        "            continue\n",
        "        print (\"Searching folder {}\".format(folder))\n",
        "        for sub in os.listdir(DATA_DIR+\"/\"+folder+\"/forge\"):\n",
        "            f = DATA_DIR+\"/\"+folder+\"/forge/\" + sub\n",
        "            img = load_img(f,color_mode=mode, target_size=(150,150))\n",
        "            features.append(img_to_array(img))\n",
        "            features_dict[sub] = (img, 0)\n",
        "            features_forged.append(img)\n",
        "            if verbose:\n",
        "                print (\"Adding {} with label 0\".format(f))\n",
        "            labels.append(0) # forged\n",
        "        # real images\n",
        "        for sub in os.listdir(DATA_DIR+\"/\"+folder+\"/real\"):\n",
        "            f = DATA_DIR+\"/\"+folder+\"/real/\" + sub\n",
        "            img = load_img(f,color_mode=mode, target_size=(150,150))\n",
        "            features.append(img_to_array(img))\n",
        "            features_dict[sub] = (img, 1)\n",
        "            features_real.append(img)\n",
        "            if verbose:\n",
        "                print (\"Adding {} with label 1\".format(f))\n",
        "            labels.append(1) # real\n",
        "            \n",
        "    features = np.array(features)\n",
        "    labels = np.array(labels)\n",
        "    \n",
        "    x_train, x_test, y_train, y_test = train_test_split(features, labels, test_size=test_size, random_state=42)\n",
        "    x_train, x_val, y_train, y_val = train_test_split(x_train, y_train, test_size=0.25, random_state=42)\n",
        "    \n",
        "    print (\"Generated data.\")\n",
        "    return features, labels,features_forged, features_real,features_dict,x_train, x_test, y_train, y_test, x_val, y_val\n",
        "\n",
        "\n",
        "def convert_label_to_text(label=0):\n",
        "    \"\"\"\n",
        "        Convert label into text\n",
        "        \n",
        "        Arguments:\n",
        "            label: int\n",
        "        Returns:\n",
        "            str: The mapping\n",
        "    \"\"\"\n",
        "    return \"Forged\" if label == 0 else \"Real\""
      ]
    },
    {
      "cell_type": "code",
      "execution_count": 7,
      "metadata": {
        "colab": {
          "base_uri": "https://localhost:8080/"
        },
        "id": "KiMW64J4E5An",
        "outputId": "9dcb76a4-e456-4c54-b6a0-c7446697da5f"
      },
      "outputs": [
        {
          "output_type": "stream",
          "name": "stdout",
          "text": [
            "Searching folder dataset3\n",
            "Searching folder dataset1\n",
            "Searching folder dataset2\n",
            "Searching folder dataset4\n",
            "Generated data.\n"
          ]
        }
      ],
      "source": [
        "features, labels,features_forged, features_real, features_dict,x_train, x_test, y_train, y_test, x_val, y_val = load_data(verbose=False, load_grayscale=False)"
      ]
    },
    {
      "cell_type": "markdown",
      "metadata": {
        "id": "dt8eJHuJE5Ao"
      },
      "source": [
        "- We extract all the data in the respective variables where 0 label stands for forged and 1 stands for real.\n",
        "- The images are loaded with as channels as 1 (grayscale)"
      ]
    },
    {
      "cell_type": "markdown",
      "metadata": {
        "id": "gMEF2Ve2E5At"
      },
      "source": [
        "# <u>Approach #2: Building a classifier using CNNs that can detect forged or real signatures.</u>\n",
        "<p>\n",
        "    With this approach, we will try to come up with a classifier (using CNNs) to detect forged or real signatures.<br>\n",
        "    As CNNs are known to detect intricate features among images, we will experiment with a this classifier.\n",
        "</p>"
      ]
    },
    {
      "cell_type": "markdown",
      "metadata": {
        "id": "b0QswFFRE5At"
      },
      "source": [
        "- We are bound to encounter with overfitting as we do not have enough data.\n",
        "- We will probably use Image Augementation to generate more training data."
      ]
    },
    {
      "cell_type": "code",
      "execution_count": 8,
      "metadata": {
        "id": "rJ2zHLFwE5Au"
      },
      "outputs": [],
      "source": [
        "model = tf.keras.Sequential()\n",
        "model.add(tf.keras.layers.Conv2D(64, (3,3), input_shape=(150,150,3), activation='relu'))\n",
        "model.add(tf.keras.layers.MaxPool2D(2))\n",
        "model.add(tf.keras.layers.Conv2D(32, (3,3), activation='relu'))\n",
        "model.add(tf.keras.layers.MaxPool2D(2))\n",
        "model.add(tf.keras.layers.Conv2D(16, (3,3), activation='relu'))\n",
        "model.add(tf.keras.layers.MaxPool2D(2))\n",
        "model.add(tf.keras.layers.Conv2D(16, (3,3), activation='relu'))\n",
        "model.add(tf.keras.layers.Flatten())\n",
        "model.add(tf.keras.layers.Dense(512, activation='relu'))\n",
        "model.add(tf.keras.layers.Dense(1, activation='sigmoid'))\n",
        "model.compile(optimizer='adam', loss=tf.keras.losses.binary_crossentropy, metrics=['acc'])"
      ]
    },
    {
      "cell_type": "code",
      "execution_count": 9,
      "metadata": {
        "colab": {
          "base_uri": "https://localhost:8080/"
        },
        "id": "4NnxE1P5E5Au",
        "outputId": "dcff7ce8-b180-4078-a13e-7a0adec2c01a"
      },
      "outputs": [
        {
          "output_type": "stream",
          "name": "stdout",
          "text": [
            "Model: \"sequential\"\n",
            "_________________________________________________________________\n",
            " Layer (type)                Output Shape              Param #   \n",
            "=================================================================\n",
            " conv2d (Conv2D)             (None, 148, 148, 64)      1792      \n",
            "                                                                 \n",
            " max_pooling2d (MaxPooling2D  (None, 74, 74, 64)       0         \n",
            " )                                                               \n",
            "                                                                 \n",
            " conv2d_1 (Conv2D)           (None, 72, 72, 32)        18464     \n",
            "                                                                 \n",
            " max_pooling2d_1 (MaxPooling  (None, 36, 36, 32)       0         \n",
            " 2D)                                                             \n",
            "                                                                 \n",
            " conv2d_2 (Conv2D)           (None, 34, 34, 16)        4624      \n",
            "                                                                 \n",
            " max_pooling2d_2 (MaxPooling  (None, 17, 17, 16)       0         \n",
            " 2D)                                                             \n",
            "                                                                 \n",
            " conv2d_3 (Conv2D)           (None, 15, 15, 16)        2320      \n",
            "                                                                 \n",
            " flatten (Flatten)           (None, 3600)              0         \n",
            "                                                                 \n",
            " dense (Dense)               (None, 512)               1843712   \n",
            "                                                                 \n",
            " dense_1 (Dense)             (None, 1)                 513       \n",
            "                                                                 \n",
            "=================================================================\n",
            "Total params: 1,871,425\n",
            "Trainable params: 1,871,425\n",
            "Non-trainable params: 0\n",
            "_________________________________________________________________\n"
          ]
        }
      ],
      "source": [
        "model.summary()"
      ]
    },
    {
      "cell_type": "code",
      "execution_count": 10,
      "metadata": {
        "id": "B9YfvXGTE5Au"
      },
      "outputs": [],
      "source": [
        "# normalize inputs\n",
        "x_train /= 255.\n",
        "x_val /= 255.\n",
        "x_test /= 255."
      ]
    },
    {
      "cell_type": "code",
      "execution_count": 11,
      "metadata": {
        "colab": {
          "base_uri": "https://localhost:8080/"
        },
        "id": "YPoBGJJCE5Au",
        "outputId": "856bf6ba-1475-4db6-8ad1-6ef4b54e7f57"
      },
      "outputs": [
        {
          "output_type": "stream",
          "name": "stdout",
          "text": [
            "Epoch 1/5\n",
            "14/14 [==============================] - 13s 68ms/step - loss: 0.7163 - acc: 0.4722 - val_loss: 0.7399 - val_acc: 0.4236\n",
            "Epoch 2/5\n",
            "14/14 [==============================] - 0s 32ms/step - loss: 0.6907 - acc: 0.5394 - val_loss: 0.6972 - val_acc: 0.4236\n",
            "Epoch 3/5\n",
            "14/14 [==============================] - 0s 32ms/step - loss: 0.6916 - acc: 0.5139 - val_loss: 0.7203 - val_acc: 0.4236\n",
            "Epoch 4/5\n",
            "14/14 [==============================] - 0s 31ms/step - loss: 0.6900 - acc: 0.5394 - val_loss: 0.7174 - val_acc: 0.4236\n",
            "Epoch 5/5\n",
            "14/14 [==============================] - 0s 32ms/step - loss: 0.6873 - acc: 0.5370 - val_loss: 0.6916 - val_acc: 0.4861\n"
          ]
        }
      ],
      "source": [
        "history = model.fit(x_train, y_train, epochs=5, validation_data=(x_val, y_val))"
      ]
    },
    {
      "cell_type": "code",
      "execution_count": 12,
      "metadata": {
        "colab": {
          "base_uri": "https://localhost:8080/",
          "height": 295
        },
        "id": "y86uvU0pE5Av",
        "outputId": "c791f0a9-2b3e-4f63-cca7-8c26b3a5a968"
      },
      "outputs": [
        {
          "output_type": "display_data",
          "data": {
            "text/plain": [
              "<Figure size 432x288 with 1 Axes>"
            ],
            "image/png": "[encoded data removed]"
          },
          "metadata": {
            "needs_background": "light"
          }
        }
      ],
      "source": [
        "def plot_history(history):\n",
        "    plt.plot(history.history['loss'])\n",
        "    plt.plot(history.history['val_loss'])\n",
        "    plt.title('model loss')\n",
        "    plt.ylabel('loss')\n",
        "    plt.xlabel('epoch')\n",
        "    plt.legend(['train', 'val'], loc='upper left')\n",
        "    plt.show()\n",
        "\n",
        "plot_history(history)"
      ]
    },
    {
      "cell_type": "markdown",
      "metadata": {
        "id": "nHcVQAPAE5Av"
      },
      "source": [
        "- Model is clearly overfitting (one probable reason is the lack of training data.)\n",
        "- On increasing the epochs, the model is clearly overfitting"
      ]
    },
    {
      "cell_type": "markdown",
      "metadata": {
        "id": "dtBFE0_xE5Av"
      },
      "source": [
        "## <u>Transfer Learning using Inception.</u>"
      ]
    },
    {
      "cell_type": "code",
      "execution_count": 13,
      "metadata": {
        "colab": {
          "base_uri": "https://localhost:8080/"
        },
        "id": "WKPUd3HHE5Av",
        "outputId": "4bd8d501-c31a-4800-d371-cbe6efb7ed1d"
      },
      "outputs": [
        {
          "output_type": "stream",
          "name": "stdout",
          "text": [
            "Downloading data from https://storage.googleapis.com/tensorflow/keras-applications/inception_v3/inception_v3_weights_tf_dim_ordering_tf_kernels_notop.h5\n",
            "87916544/87910968 [==============================] - 0s 0us/step\n",
            "87924736/87910968 [==============================] - 0s 0us/step\n"
          ]
        }
      ],
      "source": [
        "# loading Inception\n",
        "model2 = tf.keras.applications.InceptionV3(include_top=False, input_shape=(150,150,3))"
      ]
    },
    {
      "cell_type": "code",
      "execution_count": 14,
      "metadata": {
        "id": "6vyQaLarE5Av"
      },
      "outputs": [],
      "source": [
        "# freezing layers\n",
        "for layer in model2.layers:\n",
        "    layer.trainable=False"
      ]
    },
    {
      "cell_type": "code",
      "execution_count": 15,
      "metadata": {
        "id": "1MnfR1kOE5Aw"
      },
      "outputs": [],
      "source": [
        "# getting mixed7 layer\n",
        "l = model2.get_layer(\"mixed7\")"
      ]
    },
    {
      "cell_type": "code",
      "execution_count": 16,
      "metadata": {
        "colab": {
          "base_uri": "https://localhost:8080/"
        },
        "id": "6xl-FraWE5Aw",
        "outputId": "4dd7ec4f-ecc9-4831-a704-3853b8220940"
      },
      "outputs": [
        {
          "output_type": "stream",
          "name": "stdout",
          "text": [
            "mixed7 shape: (None, 7, 7, 768)\n"
          ]
        }
      ],
      "source": [
        "print (\"mixed7 shape: {}\".format(l.output_shape))"
      ]
    },
    {
      "cell_type": "code",
      "execution_count": 17,
      "metadata": {
        "id": "GYribtI7E5Aw"
      },
      "outputs": [],
      "source": [
        "x = tf.keras.layers.Flatten()(l.output)\n",
        "x = tf.keras.layers.Dense(1024, activation='relu')(x)\n",
        "x = tf.keras.layers.Dropout(.5)(x)                  \n",
        "x = tf.keras.layers.Dense(1, activation='sigmoid')(x)           \n",
        "net = tf.keras.Model(model2.input, x) "
      ]
    },
    {
      "cell_type": "code",
      "execution_count": 18,
      "metadata": {
        "id": "VS1RJ5-7E5Aw"
      },
      "outputs": [],
      "source": [
        "net.compile(optimizer='adam', loss=tf.keras.losses.binary_crossentropy, metrics=['acc'])"
      ]
    },
    {
      "cell_type": "code",
      "execution_count": 19,
      "metadata": {
        "colab": {
          "base_uri": "https://localhost:8080/"
        },
        "id": "0GbXDeucE5Aw",
        "outputId": "a1d4468c-e02c-4d06-a961-4c240a61dec3"
      },
      "outputs": [
        {
          "output_type": "stream",
          "name": "stdout",
          "text": [
            "Epoch 1/5\n",
            "14/14 [==============================] - 5s 146ms/step - loss: 3.9626 - acc: 0.5579 - val_loss: 1.3003 - val_acc: 0.6597\n",
            "Epoch 2/5\n",
            "14/14 [==============================] - 1s 44ms/step - loss: 0.9449 - acc: 0.7593 - val_loss: 0.3512 - val_acc: 0.8681\n",
            "Epoch 3/5\n",
            "14/14 [==============================] - 1s 46ms/step - loss: 0.3721 - acc: 0.8796 - val_loss: 0.2856 - val_acc: 0.8889\n",
            "Epoch 4/5\n",
            "14/14 [==============================] - 1s 45ms/step - loss: 0.1655 - acc: 0.9444 - val_loss: 0.1826 - val_acc: 0.9444\n",
            "Epoch 5/5\n",
            "14/14 [==============================] - 1s 45ms/step - loss: 0.0616 - acc: 0.9838 - val_loss: 0.1686 - val_acc: 0.9444\n"
          ]
        }
      ],
      "source": [
        "h2 = net.fit(x_train, y_train, validation_data=(x_val, y_val), epochs=5)"
      ]
    },
    {
      "cell_type": "code",
      "execution_count": 20,
      "metadata": {
        "colab": {
          "base_uri": "https://localhost:8080/",
          "height": 295
        },
        "id": "34NXQnxAE5Ax",
        "outputId": "1fdb2ad3-ff52-4177-a6d1-c46a62ee6003"
      },
      "outputs": [
        {
          "output_type": "display_data",
          "data": {
            "text/plain": [
              "<Figure size 432x288 with 1 Axes>"
            ],
            "image/png": "[encoded data removed]"
          },
          "metadata": {
            "needs_background": "light"
          }
        }
      ],
      "source": [
        "plot_history(h2)"
      ]
    },
    {
      "cell_type": "markdown",
      "metadata": {
        "id": "DXYPBG5uE5Ax"
      },
      "source": [
        "- Clearly the model overfits after 3 epochs.\n",
        "- But the result is still better than the previous one."
      ]
    },
    {
      "cell_type": "code",
      "execution_count": 21,
      "metadata": {
        "id": "SkduSD7hE5Ax"
      },
      "outputs": [],
      "source": [
        "preds = net.predict(x_test)\n",
        "pred_labels = []"
      ]
    },
    {
      "cell_type": "code",
      "execution_count": 22,
      "metadata": {
        "id": "Y5tQ1M4OE5Ax"
      },
      "outputs": [],
      "source": [
        "# threshold is 0.5\n",
        "for p in preds:\n",
        "    if p >= 0.5:\n",
        "        pred_labels.append(1)\n",
        "    else:\n",
        "        pred_labels.append(0)\n",
        "pred_labels = np.array(pred_labels)"
      ]
    },
    {
      "cell_type": "code",
      "execution_count": 23,
      "metadata": {
        "colab": {
          "base_uri": "https://localhost:8080/"
        },
        "id": "ggWPSy3qE5Ax",
        "outputId": "f3378bbe-ecbb-49e0-8b65-71bde584bd95"
      },
      "outputs": [
        {
          "output_type": "stream",
          "name": "stdout",
          "text": [
            "Accuracy on test set: 0.8888888888888888\n"
          ]
        }
      ],
      "source": [
        "print (\"Accuracy on test set: {}\".format(accuracy_score(y_test, pred_labels)))"
      ]
    },
    {
      "cell_type": "markdown",
      "metadata": {
        "id": "_AJqZtpYE5Ax"
      },
      "source": [
        "<p>\n",
        "    These two approaches show that if we use transfer learning, we get much better results than using a plain CNN model.\n",
        "    Keep in mind, these approaches do not learn the similarity function but these focus on the classifying whether the image in forged or real. There are still many ways we can improve our model, one is by augmenting data.\n",
        "</p>\n",
        "\n",
        "### With our third approach, we will try to learn the similarity function. We will use something called Siamese networks (due to nature of our data i.e less number of training examples)\n"
      ]
    },
    {
      "cell_type": "markdown",
      "metadata": {
        "id": "Put4-_iLE5Ay"
      },
      "source": [
        "# <u>Approach #3: Siamese networks for image similarity</u>\n",
        "<p>\n",
        "    In this approach, we will use Siamese networks to learn the similarity function. Siamese means 'twins' and the biggest difference between normal nn's is that these networks try to learn the approximate the similarity function instead of trying to classify.\n",
        "    <hr><strong>Refer: https://arxiv.org/pdf/1709.08761.pdf</strong>\n",
        "    </p>"
      ]
    },
    {
      "cell_type": "code",
      "execution_count": 24,
      "metadata": {
        "id": "PesAF4NCE5Ay"
      },
      "outputs": [],
      "source": [
        "# the NN is the diagram\n",
        "feature_vector = tf.keras.Sequential()\n",
        "feature_vector.add(tf.keras.layers.Conv2D(64,3, activation='relu', input_shape=(150,150,3)))\n",
        "feature_vector.add(tf.keras.layers.BatchNormalization())\n",
        "feature_vector.add(tf.keras.layers.Conv2D(32,3, activation='relu'))\n",
        "feature_vector.add(tf.keras.layers.BatchNormalization())\n",
        "feature_vector.add(tf.keras.layers.Conv2D(16, 3,activation='relu'))\n",
        "feature_vector.add(tf.keras.layers.MaxPool2D((2,2)))\n",
        "feature_vector.add(tf.keras.layers.Flatten())\n",
        "feature_vector.add(tf.keras.layers.Dropout(0.2))\n",
        "feature_vector.add(tf.keras.layers.Dense(512, activation='relu'))"
      ]
    },
    {
      "cell_type": "code",
      "execution_count": 25,
      "metadata": {
        "colab": {
          "base_uri": "https://localhost:8080/"
        },
        "id": "XUD6Gy6qE5Ay",
        "outputId": "b3eb99d3-151d-4dc6-e910-652e2d8fe955"
      },
      "outputs": [
        {
          "output_type": "stream",
          "name": "stdout",
          "text": [
            "Model: \"sequential_1\"\n",
            "_________________________________________________________________\n",
            " Layer (type)                Output Shape              Param #   \n",
            "=================================================================\n",
            " conv2d_98 (Conv2D)          (None, 148, 148, 64)      1792      \n",
            "                                                                 \n",
            " batch_normalization_94 (Bat  (None, 148, 148, 64)     256       \n",
            " chNormalization)                                                \n",
            "                                                                 \n",
            " conv2d_99 (Conv2D)          (None, 146, 146, 32)      18464     \n",
            "                                                                 \n",
            " batch_normalization_95 (Bat  (None, 146, 146, 32)     128       \n",
            " chNormalization)                                                \n",
            "                                                                 \n",
            " conv2d_100 (Conv2D)         (None, 144, 144, 16)      4624      \n",
            "                                                                 \n",
            " max_pooling2d_7 (MaxPooling  (None, 72, 72, 16)       0         \n",
            " 2D)                                                             \n",
            "                                                                 \n",
            " flatten_2 (Flatten)         (None, 82944)             0         \n",
            "                                                                 \n",
            " dropout_1 (Dropout)         (None, 82944)             0         \n",
            "                                                                 \n",
            " dense_4 (Dense)             (None, 512)               42467840  \n",
            "                                                                 \n",
            "=================================================================\n",
            "Total params: 42,493,104\n",
            "Trainable params: 42,492,912\n",
            "Non-trainable params: 192\n",
            "_________________________________________________________________\n"
          ]
        }
      ],
      "source": [
        "feature_vector.summary()"
      ]
    },
    {
      "cell_type": "code",
      "execution_count": 26,
      "metadata": {
        "colab": {
          "base_uri": "https://localhost:8080/"
        },
        "id": "K3_8T-6eE5Ay",
        "outputId": "24cc5874-87a2-4bf8-fd23-110bcfa91f46"
      },
      "outputs": [
        {
          "output_type": "stream",
          "name": "stdout",
          "text": [
            "Model: \"model_1\"\n",
            "__________________________________________________________________________________________________\n",
            " Layer (type)                   Output Shape         Param #     Connected to                     \n",
            "==================================================================================================\n",
            " input_2 (InputLayer)           [(None, 150, 150, 3  0           []                               \n",
            "                                )]                                                                \n",
            "                                                                                                  \n",
            " input_3 (InputLayer)           [(None, 150, 150, 3  0           []                               \n",
            "                                )]                                                                \n",
            "                                                                                                  \n",
            " sequential_1 (Sequential)      (None, 512)          42493104    ['input_2[0][0]',                \n",
            "                                                                  'input_3[0][0]']                \n",
            "                                                                                                  \n",
            " concatenate_2 (Concatenate)    (None, 1024)         0           ['sequential_1[0][0]',           \n",
            "                                                                  'sequential_1[1][0]']           \n",
            "                                                                                                  \n",
            " dense_5 (Dense)                (None, 4)            4100        ['concatenate_2[0][0]']          \n",
            "                                                                                                  \n",
            " batch_normalization_97 (BatchN  (None, 4)           16          ['dense_5[0][0]']                \n",
            " ormalization)                                                                                    \n",
            "                                                                                                  \n",
            " activation_94 (Activation)     (None, 4)            0           ['batch_normalization_97[0][0]'] \n",
            "                                                                                                  \n",
            " dense_6 (Dense)                (None, 1)            5           ['activation_94[0][0]']          \n",
            "                                                                                                  \n",
            "==================================================================================================\n",
            "Total params: 42,497,225\n",
            "Trainable params: 42,497,025\n",
            "Non-trainable params: 200\n",
            "__________________________________________________________________________________________________\n"
          ]
        }
      ],
      "source": [
        "# creating the siamese network\n",
        "im_a = tf.keras.layers.Input(shape=(150,150,3))\n",
        "im_b = tf.keras.layers.Input(shape=(150,150,3))\n",
        "\n",
        "encoded_a = feature_vector(im_a)\n",
        "encoded_b = feature_vector(im_b)\n",
        "\n",
        "combined = tf.keras.layers.concatenate([encoded_a, encoded_b])\n",
        "combine = tf.keras.layers.BatchNormalization()(combined)\n",
        "combined = tf.keras.layers.Dense(4, activation = 'linear')(combined)\n",
        "combined = tf.keras.layers.BatchNormalization()(combined)\n",
        "combined = tf.keras.layers.Activation('relu')(combined)\n",
        "combined = tf.keras.layers.Dense(1, activation = 'sigmoid')(combined)\n",
        "\n",
        "sm = tf.keras.Model(inputs=[im_a, im_b], outputs=[combined])\n",
        "sm.summary()"
      ]
    },
    {
      "cell_type": "code",
      "execution_count": 27,
      "metadata": {
        "id": "Uwkc0_HrE5Ay"
      },
      "outputs": [],
      "source": [
        "sm.compile(optimizer='adam', loss = 'binary_crossentropy', metrics = ['mae'])"
      ]
    },
    {
      "cell_type": "markdown",
      "metadata": {
        "id": "mz6mhK4BE5Az"
      },
      "source": [
        "# <u>Dataset Generation</u>\n",
        "<p>\n",
        "    To generate the required dataset, we will try two approaches. First we will generate data on the basis of labels. If two images have the same label (1 or 0), then they are similar. We will generate data in pairs in the form (im_a, im_b, label).<br>\n",
        "    Second we will generate data on the basis of person number. According to the dataset, 02104021.png represents the signature produced by person 21 (i.e real).\n",
        "</p>"
      ]
    },
    {
      "cell_type": "markdown",
      "metadata": {
        "id": "QNeZdHM1E5Az"
      },
      "source": [
        "## Data generation Approach #1:\n",
        "<p>\n",
        "    Here we are assuming similarity on the basis of labels. If two images have the same label (i.e 1 or 0) then they are similar.\n",
        "</p>"
      ]
    },
    {
      "cell_type": "code",
      "execution_count": 28,
      "metadata": {
        "id": "PtgHSvgME5Az"
      },
      "outputs": [],
      "source": [
        "def generate_data_first_approach(features, labels, test_size=0.25):\n",
        "    \"\"\"\n",
        "        Generate data in pairs according to labels.\n",
        "        Arguments:\n",
        "            features: numpy\n",
        "            labels: numpy\n",
        "    \"\"\"\n",
        "    im_a = [] # images a\n",
        "    im_b = [] # images b\n",
        "    pair_labels = []\n",
        "    for i in range(0, len(features)-1):\n",
        "        j = i + 1\n",
        "        if labels[i] == 1 and labels[j]==1:\n",
        "            im_a.append(features[i])\n",
        "            im_b.append(features[j])\n",
        "            pair_labels.append(1) # similar\n",
        "        else:\n",
        "            im_a.append(features[i])\n",
        "            im_b.append(features[j])\n",
        "            pair_labels.append(0) # not similar\n",
        "            \n",
        "    pairs = np.stack([im_a, im_b], axis=1)\n",
        "    pair_labels = np.array(pair_labels)\n",
        "    x_train, x_test, y_train, y_test = train_test_split(pairs, pair_labels, test_size=test_size, random_state=42)\n",
        "    x_train, x_val, y_train, y_val = train_test_split(x_train, y_train, test_size=0.25, random_state=42)\n",
        "    return x_train, y_train, x_test, y_test, x_val, y_val, pairs, pair_labels"
      ]
    },
    {
      "cell_type": "code",
      "execution_count": 29,
      "metadata": {
        "id": "yHIHYywXE5Az"
      },
      "outputs": [],
      "source": [
        "x_train, y_train, x_test, y_test, x_val, y_val, pairs, pair_labels = generate_data_first_approach(features, labels)"
      ]
    },
    {
      "cell_type": "code",
      "execution_count": 30,
      "metadata": {
        "colab": {
          "base_uri": "https://localhost:8080/",
          "height": 538
        },
        "id": "e5TwcSyHE5Az",
        "outputId": "211b5e5f-5ea2-429c-d97f-70a27bd2406c"
      },
      "outputs": [
        {
          "output_type": "display_data",
          "data": {
            "text/plain": [
              "<Figure size 432x288 with 1 Axes>"
            ],
            "image/png": "[encoded data removed]"
          },
          "metadata": {
            "needs_background": "light"
          }
        },
        {
          "output_type": "display_data",
          "data": {
            "text/plain": [
              "<Figure size 432x288 with 1 Axes>"
            ],
            "image/png": "[encoded data removed]"
          },
          "metadata": {
            "needs_background": "light"
          }
        },
        {
          "output_type": "stream",
          "name": "stdout",
          "text": [
            "Label:  0\n"
          ]
        }
      ],
      "source": [
        "plt.imshow(pairs[:,0][0]/255.)\n",
        "plt.show()\n",
        "plt.imshow(pairs[:,1][0]/255.)\n",
        "plt.show()\n",
        "print(\"Label: \",pair_labels[100])"
      ]
    },
    {
      "cell_type": "code",
      "execution_count": 31,
      "metadata": {
        "colab": {
          "base_uri": "https://localhost:8080/"
        },
        "id": "o6W91IzHE5Az",
        "outputId": "6c32c105-aafe-449b-8dbd-6170ab3cd36e"
      },
      "outputs": [
        {
          "output_type": "stream",
          "name": "stdout",
          "text": [
            "Epoch 1/50\n",
            "13/13 [==============================] - 7s 349ms/step - loss: 0.7077 - mae: 0.4626 - val_loss: 19.2079 - val_mae: 0.4370\n",
            "Epoch 2/50\n",
            "13/13 [==============================] - 2s 165ms/step - loss: 0.4843 - mae: 0.3608 - val_loss: 10.8758 - val_mae: 0.4370\n",
            "Epoch 3/50\n",
            "13/13 [==============================] - 2s 158ms/step - loss: 0.4386 - mae: 0.3328 - val_loss: 8.0383 - val_mae: 0.4370\n",
            "Epoch 4/50\n",
            "13/13 [==============================] - 2s 159ms/step - loss: 0.3784 - mae: 0.2962 - val_loss: 3.4718 - val_mae: 0.4368\n",
            "Epoch 5/50\n",
            "13/13 [==============================] - 2s 154ms/step - loss: 0.3269 - mae: 0.2643 - val_loss: 3.4048 - val_mae: 0.4368\n",
            "Epoch 6/50\n",
            "13/13 [==============================] - 2s 153ms/step - loss: 0.2898 - mae: 0.2402 - val_loss: 1.9169 - val_mae: 0.4314\n",
            "Epoch 7/50\n",
            "13/13 [==============================] - 2s 150ms/step - loss: 0.2649 - mae: 0.2231 - val_loss: 0.4204 - val_mae: 0.3185\n",
            "Epoch 8/50\n",
            "13/13 [==============================] - 2s 151ms/step - loss: 0.2525 - mae: 0.2139 - val_loss: 0.4392 - val_mae: 0.3252\n",
            "Epoch 9/50\n",
            "13/13 [==============================] - 2s 151ms/step - loss: 0.2298 - mae: 0.1976 - val_loss: 0.3925 - val_mae: 0.3010\n",
            "Epoch 10/50\n",
            "13/13 [==============================] - 2s 151ms/step - loss: 0.2208 - mae: 0.1908 - val_loss: 0.3316 - val_mae: 0.2656\n",
            "Epoch 11/50\n",
            "13/13 [==============================] - 2s 151ms/step - loss: 0.2110 - mae: 0.1834 - val_loss: 0.3017 - val_mae: 0.2454\n",
            "Epoch 12/50\n",
            "13/13 [==============================] - 2s 152ms/step - loss: 0.2005 - mae: 0.1752 - val_loss: 0.2733 - val_mae: 0.2278\n",
            "Epoch 13/50\n",
            "13/13 [==============================] - 2s 150ms/step - loss: 0.1859 - mae: 0.1638 - val_loss: 0.2480 - val_mae: 0.2099\n",
            "Epoch 14/50\n",
            "13/13 [==============================] - 2s 151ms/step - loss: 0.1809 - mae: 0.1599 - val_loss: 0.2407 - val_mae: 0.2034\n",
            "Epoch 15/50\n",
            "13/13 [==============================] - 2s 151ms/step - loss: 0.1710 - mae: 0.1519 - val_loss: 0.2573 - val_mae: 0.2115\n",
            "Epoch 16/50\n",
            "13/13 [==============================] - 2s 151ms/step - loss: 0.1625 - mae: 0.1451 - val_loss: 0.2346 - val_mae: 0.2004\n",
            "Epoch 17/50\n",
            "13/13 [==============================] - 2s 151ms/step - loss: 0.1572 - mae: 0.1407 - val_loss: 0.2238 - val_mae: 0.1892\n",
            "Epoch 18/50\n",
            "13/13 [==============================] - 2s 152ms/step - loss: 0.1504 - mae: 0.1352 - val_loss: 0.2061 - val_mae: 0.1794\n",
            "Epoch 19/50\n",
            "13/13 [==============================] - 2s 153ms/step - loss: 0.1431 - mae: 0.1292 - val_loss: 0.2063 - val_mae: 0.1788\n",
            "Epoch 20/50\n",
            "13/13 [==============================] - 2s 150ms/step - loss: 0.1326 - mae: 0.1204 - val_loss: 0.1977 - val_mae: 0.1713\n",
            "Epoch 21/50\n",
            "13/13 [==============================] - 2s 151ms/step - loss: 0.1296 - mae: 0.1180 - val_loss: 0.1839 - val_mae: 0.1614\n",
            "Epoch 22/50\n",
            "13/13 [==============================] - 2s 151ms/step - loss: 0.1257 - mae: 0.1146 - val_loss: 0.1798 - val_mae: 0.1574\n",
            "Epoch 23/50\n",
            "13/13 [==============================] - 2s 150ms/step - loss: 0.1312 - mae: 0.1193 - val_loss: 0.1711 - val_mae: 0.1504\n",
            "Epoch 24/50\n",
            "13/13 [==============================] - 2s 152ms/step - loss: 0.1171 - mae: 0.1074 - val_loss: 0.1736 - val_mae: 0.1522\n",
            "Epoch 25/50\n",
            "13/13 [==============================] - 2s 151ms/step - loss: 0.1096 - mae: 0.1010 - val_loss: 0.1750 - val_mae: 0.1539\n",
            "Epoch 26/50\n",
            "13/13 [==============================] - 2s 151ms/step - loss: 0.1098 - mae: 0.1013 - val_loss: 0.1579 - val_mae: 0.1408\n",
            "Epoch 27/50\n",
            "13/13 [==============================] - 2s 152ms/step - loss: 0.1011 - mae: 0.0939 - val_loss: 0.1569 - val_mae: 0.1374\n",
            "Epoch 28/50\n",
            "13/13 [==============================] - 2s 152ms/step - loss: 0.0975 - mae: 0.0907 - val_loss: 0.1540 - val_mae: 0.1346\n",
            "Epoch 29/50\n",
            "13/13 [==============================] - 2s 152ms/step - loss: 0.0924 - mae: 0.0863 - val_loss: 0.1390 - val_mae: 0.1246\n",
            "Epoch 30/50\n",
            "13/13 [==============================] - 2s 153ms/step - loss: 0.0941 - mae: 0.0878 - val_loss: 0.1347 - val_mae: 0.1200\n",
            "Epoch 31/50\n",
            "13/13 [==============================] - 2s 152ms/step - loss: 0.0882 - mae: 0.0826 - val_loss: 0.1280 - val_mae: 0.1144\n",
            "Epoch 32/50\n",
            "13/13 [==============================] - 2s 152ms/step - loss: 0.0830 - mae: 0.0780 - val_loss: 0.1308 - val_mae: 0.1178\n",
            "Epoch 33/50\n",
            "13/13 [==============================] - 2s 153ms/step - loss: 0.0775 - mae: 0.0731 - val_loss: 0.1241 - val_mae: 0.1120\n",
            "Epoch 34/50\n",
            "13/13 [==============================] - 2s 153ms/step - loss: 0.0765 - mae: 0.0723 - val_loss: 0.1130 - val_mae: 0.1019\n",
            "Epoch 35/50\n",
            "13/13 [==============================] - 2s 153ms/step - loss: 0.0740 - mae: 0.0700 - val_loss: 0.1085 - val_mae: 0.0975\n",
            "Epoch 36/50\n",
            "13/13 [==============================] - 2s 152ms/step - loss: 0.0698 - mae: 0.0662 - val_loss: 0.1012 - val_mae: 0.0913\n",
            "Epoch 37/50\n",
            "13/13 [==============================] - 2s 152ms/step - loss: 0.0698 - mae: 0.0661 - val_loss: 0.1001 - val_mae: 0.0886\n",
            "Epoch 38/50\n",
            "13/13 [==============================] - 2s 152ms/step - loss: 0.0672 - mae: 0.0637 - val_loss: 0.1041 - val_mae: 0.0941\n",
            "Epoch 39/50\n",
            "13/13 [==============================] - 2s 152ms/step - loss: 0.0639 - mae: 0.0608 - val_loss: 0.1041 - val_mae: 0.0926\n",
            "Epoch 40/50\n",
            "13/13 [==============================] - 2s 153ms/step - loss: 0.0616 - mae: 0.0588 - val_loss: 0.1037 - val_mae: 0.0928\n",
            "Epoch 41/50\n",
            "13/13 [==============================] - 2s 153ms/step - loss: 0.0680 - mae: 0.0643 - val_loss: 0.1292 - val_mae: 0.1048\n",
            "Epoch 42/50\n",
            "13/13 [==============================] - 2s 153ms/step - loss: 0.0688 - mae: 0.0647 - val_loss: 0.1529 - val_mae: 0.1295\n",
            "Epoch 43/50\n",
            "13/13 [==============================] - 2s 153ms/step - loss: 0.0670 - mae: 0.0631 - val_loss: 0.3934 - val_mae: 0.2589\n",
            "Epoch 44/50\n",
            "13/13 [==============================] - 2s 154ms/step - loss: 0.0612 - mae: 0.0582 - val_loss: 0.2362 - val_mae: 0.1898\n",
            "Epoch 45/50\n",
            "13/13 [==============================] - 2s 153ms/step - loss: 0.0544 - mae: 0.0521 - val_loss: 0.1700 - val_mae: 0.1365\n",
            "Epoch 46/50\n",
            "13/13 [==============================] - 2s 153ms/step - loss: 0.0518 - mae: 0.0497 - val_loss: 0.1447 - val_mae: 0.1133\n",
            "Epoch 47/50\n",
            "13/13 [==============================] - 2s 155ms/step - loss: 0.0471 - mae: 0.0454 - val_loss: 0.0882 - val_mae: 0.0785\n",
            "Epoch 48/50\n",
            "13/13 [==============================] - 2s 154ms/step - loss: 0.0459 - mae: 0.0443 - val_loss: 0.0738 - val_mae: 0.0676\n",
            "Epoch 49/50\n",
            "13/13 [==============================] - 2s 153ms/step - loss: 0.0431 - mae: 0.0417 - val_loss: 0.0716 - val_mae: 0.0659\n",
            "Epoch 50/50\n",
            "13/13 [==============================] - 2s 154ms/step - loss: 0.0428 - mae: 0.0414 - val_loss: 0.0709 - val_mae: 0.0655\n"
          ]
        },
        {
          "output_type": "execute_result",
          "data": {
            "text/plain": [
              "<keras.callbacks.History at 0x7feb3e2f4890>"
            ]
          },
          "metadata": {},
          "execution_count": 31
        }
      ],
      "source": [
        "# x_train[:,0] => axis=1 (all 150,150,3) x_train[:,1] => axis=1 (second column)\n",
        "sm.fit([x_train[:,0], x_train[:,1]], y_train, validation_data=([x_val[:,0],x_val[:,1]], y_val),epochs=50)"
      ]
    },
    {
      "cell_type": "markdown",
      "metadata": {
        "id": "aHgg0TzmE5Az"
      },
      "source": [
        "- The metric is calculating the L1-Distance (MAE) between the y_hat and y.\n",
        "- Due to computation limitations,we only train it for one epoch\n",
        "- This represents a very simple siamese network capable of learning the similarity function."
      ]
    }
  ],
  "metadata": {
    "kernelspec": {
      "display_name": "Python 3",
      "language": "python",
      "name": "python3"
    },
    "language_info": {
      "codemirror_mode": {
        "name": "ipython",
        "version": 3
      },
      "file_extension": ".py",
      "mimetype": "text/x-python",
      "name": "python",
      "nbconvert_exporter": "python",
      "pygments_lexer": "ipython3",
      "version": "3.8.5"
    },
    "colab": {
      "name": "SigNet.ipynb",
      "provenance": []
    },
    "accelerator": "GPU"
  },
  "nbformat": 4,
  "nbformat_minor": 0
}