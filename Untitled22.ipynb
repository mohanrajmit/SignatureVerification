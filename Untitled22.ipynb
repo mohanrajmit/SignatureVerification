{
  "nbformat": 4,
  "nbformat_minor": 0,
  "metadata": {
    "colab": {
      "name": "Untitled22.ipynb",
      "provenance": [],
      "collapsed_sections": [],
      "authorship_tag": "ABX9TyOnQp6+vqaJoKr3kTbD+601",
      "include_colab_link": true
    },
    "kernelspec": {
      "name": "python3",
      "display_name": "Python 3"
    },
    "language_info": {
      "name": "python"
    }
  },
  "cells": [
    {
      "cell_type": "markdown",
      "metadata": {
        "id": "view-in-github",
        "colab_type": "text"
      },
      "source": [
        "<a href=\"https://colab.research.google.com/github/mohanrajmit/SignatureVerification/blob/main/Untitled22.ipynb\" target=\"_parent\"><img src=\"https://colab.research.google.com/assets/colab-badge.svg\" alt=\"Open In Colab\"/></a>"
      ]
    },
    {
      "cell_type": "code",
      "source": [
        "#Splitting to Training set and Test set\n",
        "timesplit= TimeSeriesSplit(n_splits=10)\n",
        "for train_index, test_index in timesplit.split(feature_transform):\n",
        "        X_train, X_test = feature_transform[:len(train_index)], feature_transform[len(train_index): (len(train_index)+len(test_index))]\n",
        "        y_train, y_test = output_var[:len(train_index)].values.ravel(), output_var[len(train_index): (len(train_index)+len(test_index))].values.ravel()"
      ],
      "metadata": {
        "id": "9jjAvE9x3Uke"
      },
      "execution_count": null,
      "outputs": []
    },
    {
      "cell_type": "code",
      "source": [
        "!pip install \"scikit-learn==0.21.3\""
      ],
      "metadata": {
        "colab": {
          "base_uri": "https://localhost:8080/",
          "height": 363
        },
        "id": "D6cJGe97ypxF",
        "outputId": "9178e1ab-7339-4c03-a48f-71b2278e20c1"
      },
      "execution_count": null,
      "outputs": [
        {
          "output_type": "stream",
          "name": "stdout",
          "text": [
            "Collecting scikit-learn==0.21.3\n",
            "  Downloading scikit_learn-0.21.3-cp37-cp37m-manylinux1_x86_64.whl (6.7 MB)\n",
            "\u001b[K     |████████████████████████████████| 6.7 MB 5.4 MB/s \n",
            "\u001b[?25hRequirement already satisfied: joblib>=0.11 in /usr/local/lib/python3.7/dist-packages (from scikit-learn==0.21.3) (1.1.0)\n",
            "Requirement already satisfied: scipy>=0.17.0 in /usr/local/lib/python3.7/dist-packages (from scikit-learn==0.21.3) (1.4.1)\n",
            "Requirement already satisfied: numpy>=1.11.0 in /usr/local/lib/python3.7/dist-packages (from scikit-learn==0.21.3) (1.21.6)\n",
            "Installing collected packages: scikit-learn\n",
            "  Attempting uninstall: scikit-learn\n",
            "    Found existing installation: scikit-learn 1.0.2\n",
            "    Uninstalling scikit-learn-1.0.2:\n",
            "      Successfully uninstalled scikit-learn-1.0.2\n",
            "\u001b[31mERROR: pip's dependency resolver does not currently take into account all the packages that are installed. This behaviour is the source of the following dependency conflicts.\n",
            "yellowbrick 1.4 requires scikit-learn>=1.0.0, but you have scikit-learn 0.21.3 which is incompatible.\n",
            "imbalanced-learn 0.8.1 requires scikit-learn>=0.24, but you have scikit-learn 0.21.3 which is incompatible.\u001b[0m\n",
            "Successfully installed scikit-learn-0.21.3\n"
          ]
        },
        {
          "output_type": "display_data",
          "data": {
            "application/vnd.colab-display-data+json": {
              "pip_warning": {
                "packages": [
                  "sklearn"
                ]
              }
            }
          },
          "metadata": {}
        }
      ]
    },
    {
      "cell_type": "code",
      "source": [
        ""
      ],
      "metadata": {
        "id": "dQM8kK7c46Ai"
      },
      "execution_count": null,
      "outputs": []
    },
    {
      "cell_type": "code",
      "execution_count": null,
      "metadata": {
        "id": "Imr3tTVBxZkr"
      },
      "outputs": [],
      "source": [
        "#Importing the Libraries\n",
        "import pandas as pd\n",
        "import numpy as np\n",
        "%matplotlib inline\n",
        "import matplotlib. pyplot as plt\n",
        "import matplotlib\n",
        "from sklearn.preprocessing import MinMaxScaler\n",
        "import tensorflow as tf\n",
        "import keras\n",
        "from tensorflow.keras.models import Sequential\n",
        "from tensorflow.keras.layers import Dense, LSTM\n",
        "from tensorflow.keras.layers import LSTM, Dense, Dropout\n",
        "from sklearn.model_selection import TimeSeriesSplit\n",
        "from sklearn.metrics import mean_squared_error, r2_score\n",
        "import matplotlib. dates as mandates\n",
        "from sklearn.preprocessing import MinMaxScaler\n",
        "from sklearn import linear_model\n",
        "from tensorflow.keras.models import Sequential\n",
        "import tensorflow.keras.backend as K\n",
        "from tensorflow.keras.callbacks import EarlyStopping\n",
        "from tensorflow.keras.optimizers import SGD, RMSprop\n",
        "from tensorflow.keras.optimizers import Adam\n",
        "from tensorflow.keras.models import load_model\n",
        "from tensorflow.keras.layers import LSTM\n",
        "#from tensorflow.keras.utils.vis_utils import plot_model"
      ]
    },
    {
      "cell_type": "code",
      "source": [
        "!pip install -U keras"
      ],
      "metadata": {
        "colab": {
          "base_uri": "https://localhost:8080/"
        },
        "id": "P-Ujsg9NzzyD",
        "outputId": "df981773-0c60-4924-e082-62853fe5cb43"
      },
      "execution_count": null,
      "outputs": [
        {
          "output_type": "stream",
          "name": "stdout",
          "text": [
            "Requirement already satisfied: keras in /usr/local/lib/python3.7/dist-packages (2.8.0)\n"
          ]
        }
      ]
    },
    {
      "cell_type": "code",
      "source": [
        "#Get the Dataset\n",
        "df=pd.read_csv(\"/content/MSFT.csv\",na_values=['null'],index_col='Date',parse_dates=True,infer_datetime_format=True)\n",
        "df.head()"
      ],
      "metadata": {
        "id": "HbFcYL-EyGqI",
        "colab": {
          "base_uri": "https://localhost:8080/",
          "height": 238
        },
        "outputId": "21bd7656-a902-43de-95ec-62db179e1edf"
      },
      "execution_count": null,
      "outputs": [
        {
          "output_type": "execute_result",
          "data": {
            "text/plain": [
              "                Open      High       Low     Close  Adj Close      Volume\n",
              "Date                                                                     \n",
              "1986-03-13  0.088542  0.101563  0.088542  0.097222   0.061434  1031788800\n",
              "1986-03-14  0.097222  0.102431  0.097222  0.100694   0.063628   308160000\n",
              "1986-03-17  0.100694  0.103299  0.100694  0.102431   0.064725   133171200\n",
              "1986-03-18  0.102431  0.103299  0.098958  0.099826   0.063079    67766400\n",
              "1986-03-19  0.099826  0.100694  0.097222  0.098090   0.061982    47894400"
            ],
            "text/html": [
              "\n",
              "  <div id=\"df-9130f6ce-8098-43b9-a655-b9b819bf198f\">\n",
              "    <div class=\"colab-df-container\">\n",
              "      <div>\n",
              "<style scoped>\n",
              "    .dataframe tbody tr th:only-of-type {\n",
              "        vertical-align: middle;\n",
              "    }\n",
              "\n",
              "    .dataframe tbody tr th {\n",
              "        vertical-align: top;\n",
              "    }\n",
              "\n",
              "    .dataframe thead th {\n",
              "        text-align: right;\n",
              "    }\n",
              "</style>\n",
              "<table border=\"1\" class=\"dataframe\">\n",
              "  <thead>\n",
              "    <tr style=\"text-align: right;\">\n",
              "      <th></th>\n",
              "      <th>Open</th>\n",
              "      <th>High</th>\n",
              "      <th>Low</th>\n",
              "      <th>Close</th>\n",
              "      <th>Adj Close</th>\n",
              "      <th>Volume</th>\n",
              "    </tr>\n",
              "    <tr>\n",
              "      <th>Date</th>\n",
              "      <th></th>\n",
              "      <th></th>\n",
              "      <th></th>\n",
              "      <th></th>\n",
              "      <th></th>\n",
              "      <th></th>\n",
              "    </tr>\n",
              "  </thead>\n",
              "  <tbody>\n",
              "    <tr>\n",
              "      <th>1986-03-13</th>\n",
              "      <td>0.088542</td>\n",
              "      <td>0.101563</td>\n",
              "      <td>0.088542</td>\n",
              "      <td>0.097222</td>\n",
              "      <td>0.061434</td>\n",
              "      <td>1031788800</td>\n",
              "    </tr>\n",
              "    <tr>\n",
              "      <th>1986-03-14</th>\n",
              "      <td>0.097222</td>\n",
              "      <td>0.102431</td>\n",
              "      <td>0.097222</td>\n",
              "      <td>0.100694</td>\n",
              "      <td>0.063628</td>\n",
              "      <td>308160000</td>\n",
              "    </tr>\n",
              "    <tr>\n",
              "      <th>1986-03-17</th>\n",
              "      <td>0.100694</td>\n",
              "      <td>0.103299</td>\n",
              "      <td>0.100694</td>\n",
              "      <td>0.102431</td>\n",
              "      <td>0.064725</td>\n",
              "      <td>133171200</td>\n",
              "    </tr>\n",
              "    <tr>\n",
              "      <th>1986-03-18</th>\n",
              "      <td>0.102431</td>\n",
              "      <td>0.103299</td>\n",
              "      <td>0.098958</td>\n",
              "      <td>0.099826</td>\n",
              "      <td>0.063079</td>\n",
              "      <td>67766400</td>\n",
              "    </tr>\n",
              "    <tr>\n",
              "      <th>1986-03-19</th>\n",
              "      <td>0.099826</td>\n",
              "      <td>0.100694</td>\n",
              "      <td>0.097222</td>\n",
              "      <td>0.098090</td>\n",
              "      <td>0.061982</td>\n",
              "      <td>47894400</td>\n",
              "    </tr>\n",
              "  </tbody>\n",
              "</table>\n",
              "</div>\n",
              "      <button class=\"colab-df-convert\" onclick=\"convertToInteractive('df-9130f6ce-8098-43b9-a655-b9b819bf198f')\"\n",
              "              title=\"Convert this dataframe to an interactive table.\"\n",
              "              style=\"display:none;\">\n",
              "        \n",
              "  <svg xmlns=\"http://www.w3.org/2000/svg\" height=\"24px\"viewBox=\"0 0 24 24\"\n",
              "       width=\"24px\">\n",
              "    <path d=\"M0 0h24v24H0V0z\" fill=\"none\"/>\n",
              "    <path d=\"M18.56 5.44l.94 2.06.94-2.06 2.06-.94-2.06-.94-.94-2.06-.94 2.06-2.06.94zm-11 1L8.5 8.5l.94-2.06 2.06-.94-2.06-.94L8.5 2.5l-.94 2.06-2.06.94zm10 10l.94 2.06.94-2.06 2.06-.94-2.06-.94-.94-2.06-.94 2.06-2.06.94z\"/><path d=\"M17.41 7.96l-1.37-1.37c-.4-.4-.92-.59-1.43-.59-.52 0-1.04.2-1.43.59L10.3 9.45l-7.72 7.72c-.78.78-.78 2.05 0 2.83L4 21.41c.39.39.9.59 1.41.59.51 0 1.02-.2 1.41-.59l7.78-7.78 2.81-2.81c.8-.78.8-2.07 0-2.86zM5.41 20L4 18.59l7.72-7.72 1.47 1.35L5.41 20z\"/>\n",
              "  </svg>\n",
              "      </button>\n",
              "      \n",
              "  <style>\n",
              "    .colab-df-container {\n",
              "      display:flex;\n",
              "      flex-wrap:wrap;\n",
              "      gap: 12px;\n",
              "    }\n",
              "\n",
              "    .colab-df-convert {\n",
              "      background-color: #E8F0FE;\n",
              "      border: none;\n",
              "      border-radius: 50%;\n",
              "      cursor: pointer;\n",
              "      display: none;\n",
              "      fill: #1967D2;\n",
              "      height: 32px;\n",
              "      padding: 0 0 0 0;\n",
              "      width: 32px;\n",
              "    }\n",
              "\n",
              "    .colab-df-convert:hover {\n",
              "      background-color: #E2EBFA;\n",
              "      box-shadow: 0px 1px 2px rgba(60, 64, 67, 0.3), 0px 1px 3px 1px rgba(60, 64, 67, 0.15);\n",
              "      fill: #174EA6;\n",
              "    }\n",
              "\n",
              "    [theme=dark] .colab-df-convert {\n",
              "      background-color: #3B4455;\n",
              "      fill: #D2E3FC;\n",
              "    }\n",
              "\n",
              "    [theme=dark] .colab-df-convert:hover {\n",
              "      background-color: #434B5C;\n",
              "      box-shadow: 0px 1px 3px 1px rgba(0, 0, 0, 0.15);\n",
              "      filter: drop-shadow(0px 1px 2px rgba(0, 0, 0, 0.3));\n",
              "      fill: #FFFFFF;\n",
              "    }\n",
              "  </style>\n",
              "\n",
              "      <script>\n",
              "        const buttonEl =\n",
              "          document.querySelector('#df-9130f6ce-8098-43b9-a655-b9b819bf198f button.colab-df-convert');\n",
              "        buttonEl.style.display =\n",
              "          google.colab.kernel.accessAllowed ? 'block' : 'none';\n",
              "\n",
              "        async function convertToInteractive(key) {\n",
              "          const element = document.querySelector('#df-9130f6ce-8098-43b9-a655-b9b819bf198f');\n",
              "          const dataTable =\n",
              "            await google.colab.kernel.invokeFunction('convertToInteractive',\n",
              "                                                     [key], {});\n",
              "          if (!dataTable) return;\n",
              "\n",
              "          const docLinkHtml = 'Like what you see? Visit the ' +\n",
              "            '<a target=\"_blank\" href=https://colab.research.google.com/notebooks/data_table.ipynb>data table notebook</a>'\n",
              "            + ' to learn more about interactive tables.';\n",
              "          element.innerHTML = '';\n",
              "          dataTable['output_type'] = 'display_data';\n",
              "          await google.colab.output.renderOutput(dataTable, element);\n",
              "          const docLink = document.createElement('div');\n",
              "          docLink.innerHTML = docLinkHtml;\n",
              "          element.appendChild(docLink);\n",
              "        }\n",
              "      </script>\n",
              "    </div>\n",
              "  </div>\n",
              "  "
            ]
          },
          "metadata": {},
          "execution_count": 15
        }
      ]
    },
    {
      "cell_type": "code",
      "source": [
        "#Plot the True Adj Close Value\n",
        "df['Adj Close'].plot()"
      ],
      "metadata": {
        "colab": {
          "base_uri": "https://localhost:8080/",
          "height": 286
        },
        "id": "E-y64hqQ2ste",
        "outputId": "7047fed1-e1a9-456e-af51-beea90ad25d3"
      },
      "execution_count": null,
      "outputs": [
        {
          "output_type": "execute_result",
          "data": {
            "text/plain": [
              "<matplotlib.axes._subplots.AxesSubplot at 0x7fc413483110>"
            ]
          },
          "metadata": {},
          "execution_count": 17
        },
        {
          "output_type": "display_data",
          "data": {
            "text/plain": [
              "<Figure size 432x288 with 1 Axes>"
            ],
            "image/png": "[encoded data removed]"
          },
          "metadata": {
            "needs_background": "light"
          }
        }
      ]
    },
    {
      "cell_type": "code",
      "source": [
        "#Set Target Variable\n",
        "output_var = pd.DataFrame(df['Adj Close'])\n",
        "#Selecting the Features\n",
        "features = ['Open', 'High', 'Low', 'Volume']"
      ],
      "metadata": {
        "id": "fsFwGVRo3AUx"
      },
      "execution_count": null,
      "outputs": []
    },
    {
      "cell_type": "code",
      "source": [
        "#Scaling\n",
        "scaler = MinMaxScaler()\n",
        "feature_transform = scaler.fit_transform(df[features])\n",
        "feature_transform= pd.DataFrame(columns=features, data=feature_transform, index=df.index)\n",
        "feature_transform.head()"
      ],
      "metadata": {
        "colab": {
          "base_uri": "https://localhost:8080/",
          "height": 238
        },
        "id": "gpM8LQvN3N7s",
        "outputId": "eb0fbc6b-f021-43e8-bca5-805ae990d5e0"
      },
      "execution_count": null,
      "outputs": [
        {
          "output_type": "execute_result",
          "data": {
            "text/plain": [
              "                Open      High       Low    Volume\n",
              "Date                                              \n",
              "1986-03-13  0.000000  0.000027  0.000000  1.000000\n",
              "1986-03-14  0.000025  0.000030  0.000025  0.297096\n",
              "1986-03-17  0.000035  0.000032  0.000036  0.127119\n",
              "1986-03-18  0.000040  0.000032  0.000030  0.063588\n",
              "1986-03-19  0.000033  0.000025  0.000025  0.044285"
            ],
            "text/html": [
              "\n",
              "  <div id=\"df-8d59fc27-171f-4cfd-a0eb-af8454915cda\">\n",
              "    <div class=\"colab-df-container\">\n",
              "      <div>\n",
              "<style scoped>\n",
              "    .dataframe tbody tr th:only-of-type {\n",
              "        vertical-align: middle;\n",
              "    }\n",
              "\n",
              "    .dataframe tbody tr th {\n",
              "        vertical-align: top;\n",
              "    }\n",
              "\n",
              "    .dataframe thead th {\n",
              "        text-align: right;\n",
              "    }\n",
              "</style>\n",
              "<table border=\"1\" class=\"dataframe\">\n",
              "  <thead>\n",
              "    <tr style=\"text-align: right;\">\n",
              "      <th></th>\n",
              "      <th>Open</th>\n",
              "      <th>High</th>\n",
              "      <th>Low</th>\n",
              "      <th>Volume</th>\n",
              "    </tr>\n",
              "    <tr>\n",
              "      <th>Date</th>\n",
              "      <th></th>\n",
              "      <th></th>\n",
              "      <th></th>\n",
              "      <th></th>\n",
              "    </tr>\n",
              "  </thead>\n",
              "  <tbody>\n",
              "    <tr>\n",
              "      <th>1986-03-13</th>\n",
              "      <td>0.000000</td>\n",
              "      <td>0.000027</td>\n",
              "      <td>0.000000</td>\n",
              "      <td>1.000000</td>\n",
              "    </tr>\n",
              "    <tr>\n",
              "      <th>1986-03-14</th>\n",
              "      <td>0.000025</td>\n",
              "      <td>0.000030</td>\n",
              "      <td>0.000025</td>\n",
              "      <td>0.297096</td>\n",
              "    </tr>\n",
              "    <tr>\n",
              "      <th>1986-03-17</th>\n",
              "      <td>0.000035</td>\n",
              "      <td>0.000032</td>\n",
              "      <td>0.000036</td>\n",
              "      <td>0.127119</td>\n",
              "    </tr>\n",
              "    <tr>\n",
              "      <th>1986-03-18</th>\n",
              "      <td>0.000040</td>\n",
              "      <td>0.000032</td>\n",
              "      <td>0.000030</td>\n",
              "      <td>0.063588</td>\n",
              "    </tr>\n",
              "    <tr>\n",
              "      <th>1986-03-19</th>\n",
              "      <td>0.000033</td>\n",
              "      <td>0.000025</td>\n",
              "      <td>0.000025</td>\n",
              "      <td>0.044285</td>\n",
              "    </tr>\n",
              "  </tbody>\n",
              "</table>\n",
              "</div>\n",
              "      <button class=\"colab-df-convert\" onclick=\"convertToInteractive('df-8d59fc27-171f-4cfd-a0eb-af8454915cda')\"\n",
              "              title=\"Convert this dataframe to an interactive table.\"\n",
              "              style=\"display:none;\">\n",
              "        \n",
              "  <svg xmlns=\"http://www.w3.org/2000/svg\" height=\"24px\"viewBox=\"0 0 24 24\"\n",
              "       width=\"24px\">\n",
              "    <path d=\"M0 0h24v24H0V0z\" fill=\"none\"/>\n",
              "    <path d=\"M18.56 5.44l.94 2.06.94-2.06 2.06-.94-2.06-.94-.94-2.06-.94 2.06-2.06.94zm-11 1L8.5 8.5l.94-2.06 2.06-.94-2.06-.94L8.5 2.5l-.94 2.06-2.06.94zm10 10l.94 2.06.94-2.06 2.06-.94-2.06-.94-.94-2.06-.94 2.06-2.06.94z\"/><path d=\"M17.41 7.96l-1.37-1.37c-.4-.4-.92-.59-1.43-.59-.52 0-1.04.2-1.43.59L10.3 9.45l-7.72 7.72c-.78.78-.78 2.05 0 2.83L4 21.41c.39.39.9.59 1.41.59.51 0 1.02-.2 1.41-.59l7.78-7.78 2.81-2.81c.8-.78.8-2.07 0-2.86zM5.41 20L4 18.59l7.72-7.72 1.47 1.35L5.41 20z\"/>\n",
              "  </svg>\n",
              "      </button>\n",
              "      \n",
              "  <style>\n",
              "    .colab-df-container {\n",
              "      display:flex;\n",
              "      flex-wrap:wrap;\n",
              "      gap: 12px;\n",
              "    }\n",
              "\n",
              "    .colab-df-convert {\n",
              "      background-color: #E8F0FE;\n",
              "      border: none;\n",
              "      border-radius: 50%;\n",
              "      cursor: pointer;\n",
              "      display: none;\n",
              "      fill: #1967D2;\n",
              "      height: 32px;\n",
              "      padding: 0 0 0 0;\n",
              "      width: 32px;\n",
              "    }\n",
              "\n",
              "    .colab-df-convert:hover {\n",
              "      background-color: #E2EBFA;\n",
              "      box-shadow: 0px 1px 2px rgba(60, 64, 67, 0.3), 0px 1px 3px 1px rgba(60, 64, 67, 0.15);\n",
              "      fill: #174EA6;\n",
              "    }\n",
              "\n",
              "    [theme=dark] .colab-df-convert {\n",
              "      background-color: #3B4455;\n",
              "      fill: #D2E3FC;\n",
              "    }\n",
              "\n",
              "    [theme=dark] .colab-df-convert:hover {\n",
              "      background-color: #434B5C;\n",
              "      box-shadow: 0px 1px 3px 1px rgba(0, 0, 0, 0.15);\n",
              "      filter: drop-shadow(0px 1px 2px rgba(0, 0, 0, 0.3));\n",
              "      fill: #FFFFFF;\n",
              "    }\n",
              "  </style>\n",
              "\n",
              "      <script>\n",
              "        const buttonEl =\n",
              "          document.querySelector('#df-8d59fc27-171f-4cfd-a0eb-af8454915cda button.colab-df-convert');\n",
              "        buttonEl.style.display =\n",
              "          google.colab.kernel.accessAllowed ? 'block' : 'none';\n",
              "\n",
              "        async function convertToInteractive(key) {\n",
              "          const element = document.querySelector('#df-8d59fc27-171f-4cfd-a0eb-af8454915cda');\n",
              "          const dataTable =\n",
              "            await google.colab.kernel.invokeFunction('convertToInteractive',\n",
              "                                                     [key], {});\n",
              "          if (!dataTable) return;\n",
              "\n",
              "          const docLinkHtml = 'Like what you see? Visit the ' +\n",
              "            '<a target=\"_blank\" href=https://colab.research.google.com/notebooks/data_table.ipynb>data table notebook</a>'\n",
              "            + ' to learn more about interactive tables.';\n",
              "          element.innerHTML = '';\n",
              "          dataTable['output_type'] = 'display_data';\n",
              "          await google.colab.output.renderOutput(dataTable, element);\n",
              "          const docLink = document.createElement('div');\n",
              "          docLink.innerHTML = docLinkHtml;\n",
              "          element.appendChild(docLink);\n",
              "        }\n",
              "      </script>\n",
              "    </div>\n",
              "  </div>\n",
              "  "
            ]
          },
          "metadata": {},
          "execution_count": 20
        }
      ]
    },
    {
      "cell_type": "code",
      "source": [
        "#Process the data for LSTM\n",
        "trainX =np.array(X_train)\n",
        "testX =np.array(X_test)\n",
        "X_train = trainX.reshape(X_train.shape[0], 1, X_train.shape[1])\n",
        "X_test = testX.reshape(X_test.shape[0], 1, X_test.shape[1])"
      ],
      "metadata": {
        "id": "jm8nzbvO3ZDM"
      },
      "execution_count": null,
      "outputs": []
    },
    {
      "cell_type": "code",
      "source": [
        "#Building the LSTM Model\n",
        "lstm = Sequential()\n",
        "lstm.add(LSTM(32, input_shape=(1, trainX.shape[1]), activation='relu', return_sequences=False))\n",
        "lstm.add(Dense(1))\n",
        "lstm.compile(loss='mean_squared_error', optimizer='adam')\n",
        "#plot_model(lstm, show_shapes=True, show_layer_names=True)"
      ],
      "metadata": {
        "id": "LH-lzMWn3dCF"
      },
      "execution_count": null,
      "outputs": []
    },
    {
      "cell_type": "code",
      "source": [
        "lstm.summary()"
      ],
      "metadata": {
        "colab": {
          "base_uri": "https://localhost:8080/"
        },
        "id": "B2RjfFLZ3l5A",
        "outputId": "37dac59e-479d-407b-a12b-ded052878182"
      },
      "execution_count": null,
      "outputs": [
        {
          "output_type": "stream",
          "name": "stdout",
          "text": [
            "Model: \"sequential\"\n",
            "_________________________________________________________________\n",
            " Layer (type)                Output Shape              Param #   \n",
            "=================================================================\n",
            " lstm (LSTM)                 (None, 32)                4736      \n",
            "                                                                 \n",
            " dense (Dense)               (None, 1)                 33        \n",
            "                                                                 \n",
            "=================================================================\n",
            "Total params: 4,769\n",
            "Trainable params: 4,769\n",
            "Non-trainable params: 0\n",
            "_________________________________________________________________\n"
          ]
        }
      ]
    },
    {
      "cell_type": "code",
      "source": [
        "history=lstm.fit(X_train, y_train, epochs=100, batch_size=8, verbose=1, shuffle=False)"
      ],
      "metadata": {
        "colab": {
          "base_uri": "https://localhost:8080/"
        },
        "id": "2jTNV3fj3uQ-",
        "outputId": "5634b24b-39d2-442e-ea01-df5311c25cb3"
      },
      "execution_count": null,
      "outputs": [
        {
          "output_type": "stream",
          "name": "stdout",
          "text": [
            "Epoch 1/100\n",
            "1033/1033 [==============================] - 4s 2ms/step - loss: 66.9909\n",
            "Epoch 2/100\n",
            "1033/1033 [==============================] - 2s 2ms/step - loss: 195.4530\n",
            "Epoch 3/100\n",
            "1033/1033 [==============================] - 2s 2ms/step - loss: 125.5370\n",
            "Epoch 4/100\n",
            "1033/1033 [==============================] - 2s 2ms/step - loss: 57.8014\n",
            "Epoch 5/100\n",
            "1033/1033 [==============================] - 2s 2ms/step - loss: 21.5763\n",
            "Epoch 6/100\n",
            "1033/1033 [==============================] - 2s 2ms/step - loss: 6.9958\n",
            "Epoch 7/100\n",
            "1033/1033 [==============================] - 2s 2ms/step - loss: 3.0353\n",
            "Epoch 8/100\n",
            "1033/1033 [==============================] - 2s 2ms/step - loss: 1.9258\n",
            "Epoch 9/100\n",
            "1033/1033 [==============================] - 2s 2ms/step - loss: 1.4302\n",
            "Epoch 10/100\n",
            "1033/1033 [==============================] - 2s 2ms/step - loss: 1.1593\n",
            "Epoch 11/100\n",
            "1033/1033 [==============================] - 2s 2ms/step - loss: 1.0127\n",
            "Epoch 12/100\n",
            "1033/1033 [==============================] - 2s 2ms/step - loss: 0.9342\n",
            "Epoch 13/100\n",
            "1033/1033 [==============================] - 2s 2ms/step - loss: 0.8905\n",
            "Epoch 14/100\n",
            "1033/1033 [==============================] - 2s 2ms/step - loss: 0.8651\n",
            "Epoch 15/100\n",
            "1033/1033 [==============================] - 3s 3ms/step - loss: 0.8498\n",
            "Epoch 16/100\n",
            "1033/1033 [==============================] - 3s 3ms/step - loss: 0.8403\n",
            "Epoch 17/100\n",
            "1033/1033 [==============================] - 2s 2ms/step - loss: 0.8340\n",
            "Epoch 18/100\n",
            "1033/1033 [==============================] - 2s 2ms/step - loss: 0.8297\n",
            "Epoch 19/100\n",
            "1033/1033 [==============================] - 2s 2ms/step - loss: 0.8264\n",
            "Epoch 20/100\n",
            "1033/1033 [==============================] - 2s 2ms/step - loss: 0.8238\n",
            "Epoch 21/100\n",
            "1033/1033 [==============================] - 2s 2ms/step - loss: 0.8216\n",
            "Epoch 22/100\n",
            "1033/1033 [==============================] - 2s 2ms/step - loss: 0.8197\n",
            "Epoch 23/100\n",
            "1033/1033 [==============================] - 2s 2ms/step - loss: 0.8179\n",
            "Epoch 24/100\n",
            "1033/1033 [==============================] - 2s 2ms/step - loss: 0.8163\n",
            "Epoch 25/100\n",
            "1033/1033 [==============================] - 2s 2ms/step - loss: 0.8148\n",
            "Epoch 26/100\n",
            "1033/1033 [==============================] - 2s 2ms/step - loss: 0.8135\n",
            "Epoch 27/100\n",
            "1033/1033 [==============================] - 2s 2ms/step - loss: 0.8121\n",
            "Epoch 28/100\n",
            "1033/1033 [==============================] - 2s 2ms/step - loss: 0.8109\n",
            "Epoch 29/100\n",
            "1033/1033 [==============================] - 2s 2ms/step - loss: 0.8097\n",
            "Epoch 30/100\n",
            "1033/1033 [==============================] - 2s 2ms/step - loss: 0.8087\n",
            "Epoch 31/100\n",
            "1033/1033 [==============================] - 2s 2ms/step - loss: 0.8076\n",
            "Epoch 32/100\n",
            "1033/1033 [==============================] - 2s 2ms/step - loss: 0.8067\n",
            "Epoch 33/100\n",
            "1033/1033 [==============================] - 2s 2ms/step - loss: 0.8058\n",
            "Epoch 34/100\n",
            "1033/1033 [==============================] - 2s 2ms/step - loss: 0.8049\n",
            "Epoch 35/100\n",
            "1033/1033 [==============================] - 2s 2ms/step - loss: 0.8042\n",
            "Epoch 36/100\n",
            "1033/1033 [==============================] - 2s 2ms/step - loss: 0.8034\n",
            "Epoch 37/100\n",
            "1033/1033 [==============================] - 2s 2ms/step - loss: 0.8028\n",
            "Epoch 38/100\n",
            "1033/1033 [==============================] - 2s 2ms/step - loss: 0.8021\n",
            "Epoch 39/100\n",
            "1033/1033 [==============================] - 2s 2ms/step - loss: 0.8015\n",
            "Epoch 40/100\n",
            "1033/1033 [==============================] - 2s 2ms/step - loss: 0.8010\n",
            "Epoch 41/100\n",
            "1033/1033 [==============================] - 2s 2ms/step - loss: 0.8004\n",
            "Epoch 42/100\n",
            "1033/1033 [==============================] - 2s 2ms/step - loss: 0.7999\n",
            "Epoch 43/100\n",
            "1033/1033 [==============================] - 2s 2ms/step - loss: 0.7994\n",
            "Epoch 44/100\n",
            "1033/1033 [==============================] - 2s 2ms/step - loss: 0.7989\n",
            "Epoch 45/100\n",
            "1033/1033 [==============================] - 2s 2ms/step - loss: 0.7985\n",
            "Epoch 46/100\n",
            "1033/1033 [==============================] - 2s 2ms/step - loss: 0.7980\n",
            "Epoch 47/100\n",
            "1033/1033 [==============================] - 2s 2ms/step - loss: 0.7976\n",
            "Epoch 48/100\n",
            "1033/1033 [==============================] - 2s 2ms/step - loss: 0.7972\n",
            "Epoch 49/100\n",
            "1033/1033 [==============================] - 2s 2ms/step - loss: 0.7968\n",
            "Epoch 50/100\n",
            "1033/1033 [==============================] - 2s 2ms/step - loss: 0.7965\n",
            "Epoch 51/100\n",
            "1033/1033 [==============================] - 2s 2ms/step - loss: 0.7961\n",
            "Epoch 52/100\n",
            "1033/1033 [==============================] - 2s 2ms/step - loss: 0.7958\n",
            "Epoch 53/100\n",
            "1033/1033 [==============================] - 2s 2ms/step - loss: 0.7955\n",
            "Epoch 54/100\n",
            "1033/1033 [==============================] - 2s 2ms/step - loss: 0.7951\n",
            "Epoch 55/100\n",
            "1033/1033 [==============================] - 2s 2ms/step - loss: 0.7948\n",
            "Epoch 56/100\n",
            "1033/1033 [==============================] - 2s 2ms/step - loss: 0.7945\n",
            "Epoch 57/100\n",
            "1033/1033 [==============================] - 2s 2ms/step - loss: 0.7943\n",
            "Epoch 58/100\n",
            "1033/1033 [==============================] - 2s 2ms/step - loss: 0.7940\n",
            "Epoch 59/100\n",
            "1033/1033 [==============================] - 2s 2ms/step - loss: 0.7937\n",
            "Epoch 60/100\n",
            "1033/1033 [==============================] - 2s 2ms/step - loss: 0.7935\n",
            "Epoch 61/100\n",
            "1033/1033 [==============================] - 2s 2ms/step - loss: 0.7933\n",
            "Epoch 62/100\n",
            "1033/1033 [==============================] - 2s 2ms/step - loss: 0.7931\n",
            "Epoch 63/100\n",
            "1033/1033 [==============================] - 2s 2ms/step - loss: 0.7929\n",
            "Epoch 64/100\n",
            "1033/1033 [==============================] - 3s 2ms/step - loss: 0.7928\n",
            "Epoch 65/100\n",
            "1033/1033 [==============================] - 2s 2ms/step - loss: 0.7927\n",
            "Epoch 66/100\n",
            "1033/1033 [==============================] - 2s 2ms/step - loss: 0.7926\n",
            "Epoch 67/100\n",
            "1033/1033 [==============================] - 2s 2ms/step - loss: 0.7925\n",
            "Epoch 68/100\n",
            "1033/1033 [==============================] - 2s 2ms/step - loss: 0.7924\n",
            "Epoch 69/100\n",
            "1033/1033 [==============================] - 2s 2ms/step - loss: 0.7924\n",
            "Epoch 70/100\n",
            "1033/1033 [==============================] - 2s 2ms/step - loss: 0.7924\n",
            "Epoch 71/100\n",
            "1033/1033 [==============================] - 2s 2ms/step - loss: 0.7924\n",
            "Epoch 72/100\n",
            "1033/1033 [==============================] - 2s 2ms/step - loss: 0.7924\n",
            "Epoch 73/100\n",
            "1033/1033 [==============================] - 2s 2ms/step - loss: 0.7924\n",
            "Epoch 74/100\n",
            "1033/1033 [==============================] - 2s 2ms/step - loss: 0.7925\n",
            "Epoch 75/100\n",
            "1033/1033 [==============================] - 2s 2ms/step - loss: 0.7925\n",
            "Epoch 76/100\n",
            "1033/1033 [==============================] - 2s 2ms/step - loss: 0.7926\n",
            "Epoch 77/100\n",
            "1033/1033 [==============================] - 2s 2ms/step - loss: 0.7927\n",
            "Epoch 78/100\n",
            "1033/1033 [==============================] - 2s 2ms/step - loss: 0.7928\n",
            "Epoch 79/100\n",
            "1033/1033 [==============================] - 2s 2ms/step - loss: 0.7929\n",
            "Epoch 80/100\n",
            "1033/1033 [==============================] - 2s 2ms/step - loss: 0.7931\n",
            "Epoch 81/100\n",
            "1033/1033 [==============================] - 2s 2ms/step - loss: 0.7932\n",
            "Epoch 82/100\n",
            "1033/1033 [==============================] - 2s 2ms/step - loss: 0.7933\n",
            "Epoch 83/100\n",
            "1033/1033 [==============================] - 2s 2ms/step - loss: 0.7935\n",
            "Epoch 84/100\n",
            "1033/1033 [==============================] - 2s 2ms/step - loss: 0.7936\n",
            "Epoch 85/100\n",
            "1033/1033 [==============================] - 2s 2ms/step - loss: 0.7938\n",
            "Epoch 86/100\n",
            "1033/1033 [==============================] - 2s 2ms/step - loss: 0.7940\n",
            "Epoch 87/100\n",
            "1033/1033 [==============================] - 2s 2ms/step - loss: 0.7942\n",
            "Epoch 88/100\n",
            "1033/1033 [==============================] - 2s 2ms/step - loss: 0.7943\n",
            "Epoch 89/100\n",
            "1033/1033 [==============================] - 2s 2ms/step - loss: 0.7945\n",
            "Epoch 90/100\n",
            "1033/1033 [==============================] - 2s 2ms/step - loss: 0.7947\n",
            "Epoch 91/100\n",
            "1033/1033 [==============================] - 2s 2ms/step - loss: 0.7949\n",
            "Epoch 92/100\n",
            "1033/1033 [==============================] - 2s 2ms/step - loss: 0.7951\n",
            "Epoch 93/100\n",
            "1033/1033 [==============================] - 2s 2ms/step - loss: 0.7953\n",
            "Epoch 94/100\n",
            "1033/1033 [==============================] - 2s 2ms/step - loss: 0.7954\n",
            "Epoch 95/100\n",
            "1033/1033 [==============================] - 2s 2ms/step - loss: 0.7956\n",
            "Epoch 96/100\n",
            "1033/1033 [==============================] - 2s 2ms/step - loss: 0.7958\n",
            "Epoch 97/100\n",
            "1033/1033 [==============================] - 2s 2ms/step - loss: 0.7961\n",
            "Epoch 98/100\n",
            "1033/1033 [==============================] - 2s 2ms/step - loss: 0.7963\n",
            "Epoch 99/100\n",
            "1033/1033 [==============================] - 2s 2ms/step - loss: 0.7965\n",
            "Epoch 100/100\n",
            "1033/1033 [==============================] - 2s 2ms/step - loss: 0.7967\n"
          ]
        }
      ]
    },
    {
      "cell_type": "code",
      "source": [
        "#LSTM Prediction\n",
        "y_pred= lstm.predict(X_test)\n",
        "\n",
        "#Predicted vs True Adj Close Value – LSTM\n",
        "plt.plot(y_test, label='True Value')\n",
        "plt.plot(y_pred, label='LSTM Value')\n",
        "plt.title(\"Prediction by LSTM\")\n",
        "plt.xlabel('Time Scale')\n",
        "plt.ylabel('Scaled USD')\n",
        "plt.legend()\n",
        "plt.show()"
      ],
      "metadata": {
        "colab": {
          "base_uri": "https://localhost:8080/",
          "height": 295
        },
        "id": "0dpXbD1c3zXZ",
        "outputId": "6f209a75-6cd7-472f-fb6f-75aa87896619"
      },
      "execution_count": null,
      "outputs": [
        {
          "output_type": "display_data",
          "data": {
            "text/plain": [
              "<Figure size 432x288 with 1 Axes>"
            ],
            "image/png": "[encoded data removed]"
          },
          "metadata": {
            "needs_background": "light"
          }
        }
      ]
    }
  ]
}